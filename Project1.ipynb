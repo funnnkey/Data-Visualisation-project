{
  "nbformat": 4,
  "nbformat_minor": 0,
  "metadata": {
    "colab": {
      "provenance": [],
      "authorship_tag": "ABX9TyMj8NnAt9AS/O5FLFMsit41",
      "include_colab_link": true
    },
    "kernelspec": {
      "name": "python3",
      "display_name": "Python 3"
    },
    "language_info": {
      "name": "python"
    }
  },
  "cells": [
    {
      "cell_type": "markdown",
      "metadata": {
        "id": "view-in-github",
        "colab_type": "text"
      },
      "source": [
        "<a href=\"https://colab.research.google.com/github/funnnkey/Data-Visualisation-project/blob/main/Project1.ipynb\" target=\"_parent\"><img src=\"https://colab.research.google.com/assets/colab-badge.svg\" alt=\"Open In Colab\"/></a>"
      ]
    },
    {
      "cell_type": "markdown",
      "source": [
        "#**Movie Recommendation System**#"
      ],
      "metadata": {
        "id": "1TYRMK52ODno"
      }
    },
    {
      "cell_type": "markdown",
      "source": [
        "**Recommender systems** are a type of information filtering system that use algorithms to suggest items (products, movies, music, etc.) that are likely to be of interest to a user. They are widely used in various online platforms like e-commerce websites, streaming services, and social media to personalize user experience and increase engagement."
      ],
      "metadata": {
        "id": "XVjcClwMOiUt"
      }
    },
    {
      "cell_type": "markdown",
      "source": [
        "**Collaborative filtering** is a specific type of algorithm used in recommender systems. It's based on the assumption that users with similar tastes will also like similar items."
      ],
      "metadata": {
        "id": "accDr6UIOpeE"
      }
    },
    {
      "cell_type": "markdown",
      "source": [
        "**Content-based filtering** is another prominent type of algorithm used in recommender systems. Unlike collaborative filtering, which focuses on user similarities, content-based filtering focuses on the characteristics of the items themselves."
      ],
      "metadata": {
        "id": "tMvDsDOvO_Or"
      }
    },
    {
      "cell_type": "markdown",
      "source": [
        "#**Import Libraries**"
      ],
      "metadata": {
        "id": "4SKCyBYoPMue"
      }
    },
    {
      "cell_type": "code",
      "source": [
        "import pandas as pd"
      ],
      "metadata": {
        "id": "m7cZBLVlONXP"
      },
      "execution_count": 89,
      "outputs": []
    },
    {
      "cell_type": "code",
      "source": [
        "import numpy as np"
      ],
      "metadata": {
        "id": "mKM1xhIyPZBV"
      },
      "execution_count": 90,
      "outputs": []
    },
    {
      "cell_type": "markdown",
      "source": [
        "#**Import Datatset**"
      ],
      "metadata": {
        "id": "UDdiMCAxPc8W"
      }
    },
    {
      "cell_type": "code",
      "source": [
        "df = pd.read_csv('/content/Movies Recommendation.csv')"
      ],
      "metadata": {
        "id": "KhLYJ2dePbNT"
      },
      "execution_count": 132,
      "outputs": []
    },
    {
      "cell_type": "code",
      "source": [
        "df.head()"
      ],
      "metadata": {
        "colab": {
          "base_uri": "https://localhost:8080/",
          "height": 672
        },
        "id": "dGGEKPcItki1",
        "outputId": "5aad778b-9e96-4269-e6e7-974192bbc2ae"
      },
      "execution_count": 133,
      "outputs": [
        {
          "output_type": "execute_result",
          "data": {
            "text/plain": [
              "   Movie_ID      Movie_Title                       Movie_Genre Movie_Language  \\\n",
              "0         1       Four Rooms                      Crime Comedy             en   \n",
              "1         2        Star Wars  Adventure Action Science Fiction             en   \n",
              "2         3     Finding Nemo                  Animation Family             en   \n",
              "3         4     Forrest Gump              Comedy Drama Romance             en   \n",
              "4         5  American Beauty                             Drama             en   \n",
              "\n",
              "   Movie_Budget  Movie_Popularity Movie_Release_Date  Movie_Revenue  \\\n",
              "0       4000000         22.876230         09-12-1995        4300000   \n",
              "1      11000000        126.393695         25-05-1977      775398007   \n",
              "2      94000000         85.688789         30-05-2003      940335536   \n",
              "3      55000000        138.133331         06-07-1994      677945399   \n",
              "4      15000000         80.878605         15-09-1999      356296601   \n",
              "\n",
              "   Movie_Runtime  Movie_Vote  ...  \\\n",
              "0           98.0         6.5  ...   \n",
              "1          121.0         8.1  ...   \n",
              "2          100.0         7.6  ...   \n",
              "3          142.0         8.2  ...   \n",
              "4          122.0         7.9  ...   \n",
              "\n",
              "                                      Movie_Homepage  \\\n",
              "0                                                NaN   \n",
              "1  http://www.starwars.com/films/star-wars-episod...   \n",
              "2              http://movies.disney.com/finding-nemo   \n",
              "3                                                NaN   \n",
              "4                      http://www.dreamworks.com/ab/   \n",
              "\n",
              "                                      Movie_Keywords  \\\n",
              "0          hotel new year's eve witch bet hotel room   \n",
              "1        android galaxy hermit death star lightsaber   \n",
              "2  father son relationship harbor underwater fish...   \n",
              "3  vietnam veteran hippie mentally disabled runni...   \n",
              "4  male nudity female nudity adultery midlife cri...   \n",
              "\n",
              "                                      Movie_Overview  \\\n",
              "0  It's Ted the Bellhop's first night on the job....   \n",
              "1  Princess Leia is captured and held hostage by ...   \n",
              "2  Nemo, an adventurous young clownfish, is unexp...   \n",
              "3  A man with a low IQ has accomplished great thi...   \n",
              "4  Lester Burnham, a depressed suburban father in...   \n",
              "\n",
              "                              Movie_Production_House  \\\n",
              "0  [{\"name\": \"Miramax Films\", \"id\": 14}, {\"name\":...   \n",
              "1  [{\"name\": \"Lucasfilm\", \"id\": 1}, {\"name\": \"Twe...   \n",
              "2     [{\"name\": \"Pixar Animation Studios\", \"id\": 3}]   \n",
              "3          [{\"name\": \"Paramount Pictures\", \"id\": 4}]   \n",
              "4  [{\"name\": \"DreamWorks SKG\", \"id\": 27}, {\"name\"...   \n",
              "\n",
              "                            Movie_Production_Country  \\\n",
              "0  [{\"iso_3166_1\": \"US\", \"name\": \"United States o...   \n",
              "1  [{\"iso_3166_1\": \"US\", \"name\": \"United States o...   \n",
              "2  [{\"iso_3166_1\": \"US\", \"name\": \"United States o...   \n",
              "3  [{\"iso_3166_1\": \"US\", \"name\": \"United States o...   \n",
              "4  [{\"iso_3166_1\": \"US\", \"name\": \"United States o...   \n",
              "\n",
              "                      Movie_Spoken_Language  \\\n",
              "0  [{\"iso_639_1\": \"en\", \"name\": \"English\"}]   \n",
              "1  [{\"iso_639_1\": \"en\", \"name\": \"English\"}]   \n",
              "2  [{\"iso_639_1\": \"en\", \"name\": \"English\"}]   \n",
              "3  [{\"iso_639_1\": \"en\", \"name\": \"English\"}]   \n",
              "4  [{\"iso_639_1\": \"en\", \"name\": \"English\"}]   \n",
              "\n",
              "                                       Movie_Tagline  \\\n",
              "0  Twelve outrageous guests. Four scandalous requ...   \n",
              "1       A long time ago in a galaxy far, far away...   \n",
              "2  There are 3.7 trillion fish in the ocean, they...   \n",
              "3  The world will never be the same, once you've ...   \n",
              "4                                       Look closer.   \n",
              "\n",
              "                                          Movie_Cast  \\\n",
              "0  Tim Roth Antonio Banderas Jennifer Beals Madon...   \n",
              "1  Mark Hamill Harrison Ford Carrie Fisher Peter ...   \n",
              "2  Albert Brooks Ellen DeGeneres Alexander Gould ...   \n",
              "3  Tom Hanks Robin Wright Gary Sinise Mykelti Wil...   \n",
              "4  Kevin Spacey Annette Bening Thora Birch Wes Be...   \n",
              "\n",
              "                                          Movie_Crew   Movie_Director  \n",
              "0  [{'name': 'Allison Anders', 'gender': 1, 'depa...   Allison Anders  \n",
              "1  [{'name': 'George Lucas', 'gender': 2, 'depart...     George Lucas  \n",
              "2  [{'name': 'Andrew Stanton', 'gender': 2, 'depa...   Andrew Stanton  \n",
              "3  [{'name': 'Alan Silvestri', 'gender': 2, 'depa...  Robert Zemeckis  \n",
              "4  [{'name': 'Thomas Newman', 'gender': 2, 'depar...       Sam Mendes  \n",
              "\n",
              "[5 rows x 21 columns]"
            ],
            "text/html": [
              "\n",
              "  <div id=\"df-9824b023-80bf-4613-92c0-09e79816f1db\" class=\"colab-df-container\">\n",
              "    <div>\n",
              "<style scoped>\n",
              "    .dataframe tbody tr th:only-of-type {\n",
              "        vertical-align: middle;\n",
              "    }\n",
              "\n",
              "    .dataframe tbody tr th {\n",
              "        vertical-align: top;\n",
              "    }\n",
              "\n",
              "    .dataframe thead th {\n",
              "        text-align: right;\n",
              "    }\n",
              "</style>\n",
              "<table border=\"1\" class=\"dataframe\">\n",
              "  <thead>\n",
              "    <tr style=\"text-align: right;\">\n",
              "      <th></th>\n",
              "      <th>Movie_ID</th>\n",
              "      <th>Movie_Title</th>\n",
              "      <th>Movie_Genre</th>\n",
              "      <th>Movie_Language</th>\n",
              "      <th>Movie_Budget</th>\n",
              "      <th>Movie_Popularity</th>\n",
              "      <th>Movie_Release_Date</th>\n",
              "      <th>Movie_Revenue</th>\n",
              "      <th>Movie_Runtime</th>\n",
              "      <th>Movie_Vote</th>\n",
              "      <th>...</th>\n",
              "      <th>Movie_Homepage</th>\n",
              "      <th>Movie_Keywords</th>\n",
              "      <th>Movie_Overview</th>\n",
              "      <th>Movie_Production_House</th>\n",
              "      <th>Movie_Production_Country</th>\n",
              "      <th>Movie_Spoken_Language</th>\n",
              "      <th>Movie_Tagline</th>\n",
              "      <th>Movie_Cast</th>\n",
              "      <th>Movie_Crew</th>\n",
              "      <th>Movie_Director</th>\n",
              "    </tr>\n",
              "  </thead>\n",
              "  <tbody>\n",
              "    <tr>\n",
              "      <th>0</th>\n",
              "      <td>1</td>\n",
              "      <td>Four Rooms</td>\n",
              "      <td>Crime Comedy</td>\n",
              "      <td>en</td>\n",
              "      <td>4000000</td>\n",
              "      <td>22.876230</td>\n",
              "      <td>09-12-1995</td>\n",
              "      <td>4300000</td>\n",
              "      <td>98.0</td>\n",
              "      <td>6.5</td>\n",
              "      <td>...</td>\n",
              "      <td>NaN</td>\n",
              "      <td>hotel new year's eve witch bet hotel room</td>\n",
              "      <td>It's Ted the Bellhop's first night on the job....</td>\n",
              "      <td>[{\"name\": \"Miramax Films\", \"id\": 14}, {\"name\":...</td>\n",
              "      <td>[{\"iso_3166_1\": \"US\", \"name\": \"United States o...</td>\n",
              "      <td>[{\"iso_639_1\": \"en\", \"name\": \"English\"}]</td>\n",
              "      <td>Twelve outrageous guests. Four scandalous requ...</td>\n",
              "      <td>Tim Roth Antonio Banderas Jennifer Beals Madon...</td>\n",
              "      <td>[{'name': 'Allison Anders', 'gender': 1, 'depa...</td>\n",
              "      <td>Allison Anders</td>\n",
              "    </tr>\n",
              "    <tr>\n",
              "      <th>1</th>\n",
              "      <td>2</td>\n",
              "      <td>Star Wars</td>\n",
              "      <td>Adventure Action Science Fiction</td>\n",
              "      <td>en</td>\n",
              "      <td>11000000</td>\n",
              "      <td>126.393695</td>\n",
              "      <td>25-05-1977</td>\n",
              "      <td>775398007</td>\n",
              "      <td>121.0</td>\n",
              "      <td>8.1</td>\n",
              "      <td>...</td>\n",
              "      <td>http://www.starwars.com/films/star-wars-episod...</td>\n",
              "      <td>android galaxy hermit death star lightsaber</td>\n",
              "      <td>Princess Leia is captured and held hostage by ...</td>\n",
              "      <td>[{\"name\": \"Lucasfilm\", \"id\": 1}, {\"name\": \"Twe...</td>\n",
              "      <td>[{\"iso_3166_1\": \"US\", \"name\": \"United States o...</td>\n",
              "      <td>[{\"iso_639_1\": \"en\", \"name\": \"English\"}]</td>\n",
              "      <td>A long time ago in a galaxy far, far away...</td>\n",
              "      <td>Mark Hamill Harrison Ford Carrie Fisher Peter ...</td>\n",
              "      <td>[{'name': 'George Lucas', 'gender': 2, 'depart...</td>\n",
              "      <td>George Lucas</td>\n",
              "    </tr>\n",
              "    <tr>\n",
              "      <th>2</th>\n",
              "      <td>3</td>\n",
              "      <td>Finding Nemo</td>\n",
              "      <td>Animation Family</td>\n",
              "      <td>en</td>\n",
              "      <td>94000000</td>\n",
              "      <td>85.688789</td>\n",
              "      <td>30-05-2003</td>\n",
              "      <td>940335536</td>\n",
              "      <td>100.0</td>\n",
              "      <td>7.6</td>\n",
              "      <td>...</td>\n",
              "      <td>http://movies.disney.com/finding-nemo</td>\n",
              "      <td>father son relationship harbor underwater fish...</td>\n",
              "      <td>Nemo, an adventurous young clownfish, is unexp...</td>\n",
              "      <td>[{\"name\": \"Pixar Animation Studios\", \"id\": 3}]</td>\n",
              "      <td>[{\"iso_3166_1\": \"US\", \"name\": \"United States o...</td>\n",
              "      <td>[{\"iso_639_1\": \"en\", \"name\": \"English\"}]</td>\n",
              "      <td>There are 3.7 trillion fish in the ocean, they...</td>\n",
              "      <td>Albert Brooks Ellen DeGeneres Alexander Gould ...</td>\n",
              "      <td>[{'name': 'Andrew Stanton', 'gender': 2, 'depa...</td>\n",
              "      <td>Andrew Stanton</td>\n",
              "    </tr>\n",
              "    <tr>\n",
              "      <th>3</th>\n",
              "      <td>4</td>\n",
              "      <td>Forrest Gump</td>\n",
              "      <td>Comedy Drama Romance</td>\n",
              "      <td>en</td>\n",
              "      <td>55000000</td>\n",
              "      <td>138.133331</td>\n",
              "      <td>06-07-1994</td>\n",
              "      <td>677945399</td>\n",
              "      <td>142.0</td>\n",
              "      <td>8.2</td>\n",
              "      <td>...</td>\n",
              "      <td>NaN</td>\n",
              "      <td>vietnam veteran hippie mentally disabled runni...</td>\n",
              "      <td>A man with a low IQ has accomplished great thi...</td>\n",
              "      <td>[{\"name\": \"Paramount Pictures\", \"id\": 4}]</td>\n",
              "      <td>[{\"iso_3166_1\": \"US\", \"name\": \"United States o...</td>\n",
              "      <td>[{\"iso_639_1\": \"en\", \"name\": \"English\"}]</td>\n",
              "      <td>The world will never be the same, once you've ...</td>\n",
              "      <td>Tom Hanks Robin Wright Gary Sinise Mykelti Wil...</td>\n",
              "      <td>[{'name': 'Alan Silvestri', 'gender': 2, 'depa...</td>\n",
              "      <td>Robert Zemeckis</td>\n",
              "    </tr>\n",
              "    <tr>\n",
              "      <th>4</th>\n",
              "      <td>5</td>\n",
              "      <td>American Beauty</td>\n",
              "      <td>Drama</td>\n",
              "      <td>en</td>\n",
              "      <td>15000000</td>\n",
              "      <td>80.878605</td>\n",
              "      <td>15-09-1999</td>\n",
              "      <td>356296601</td>\n",
              "      <td>122.0</td>\n",
              "      <td>7.9</td>\n",
              "      <td>...</td>\n",
              "      <td>http://www.dreamworks.com/ab/</td>\n",
              "      <td>male nudity female nudity adultery midlife cri...</td>\n",
              "      <td>Lester Burnham, a depressed suburban father in...</td>\n",
              "      <td>[{\"name\": \"DreamWorks SKG\", \"id\": 27}, {\"name\"...</td>\n",
              "      <td>[{\"iso_3166_1\": \"US\", \"name\": \"United States o...</td>\n",
              "      <td>[{\"iso_639_1\": \"en\", \"name\": \"English\"}]</td>\n",
              "      <td>Look closer.</td>\n",
              "      <td>Kevin Spacey Annette Bening Thora Birch Wes Be...</td>\n",
              "      <td>[{'name': 'Thomas Newman', 'gender': 2, 'depar...</td>\n",
              "      <td>Sam Mendes</td>\n",
              "    </tr>\n",
              "  </tbody>\n",
              "</table>\n",
              "<p>5 rows × 21 columns</p>\n",
              "</div>\n",
              "    <div class=\"colab-df-buttons\">\n",
              "\n",
              "  <div class=\"colab-df-container\">\n",
              "    <button class=\"colab-df-convert\" onclick=\"convertToInteractive('df-9824b023-80bf-4613-92c0-09e79816f1db')\"\n",
              "            title=\"Convert this dataframe to an interactive table.\"\n",
              "            style=\"display:none;\">\n",
              "\n",
              "  <svg xmlns=\"http://www.w3.org/2000/svg\" height=\"24px\" viewBox=\"0 -960 960 960\">\n",
              "    <path d=\"M120-120v-720h720v720H120Zm60-500h600v-160H180v160Zm220 220h160v-160H400v160Zm0 220h160v-160H400v160ZM180-400h160v-160H180v160Zm440 0h160v-160H620v160ZM180-180h160v-160H180v160Zm440 0h160v-160H620v160Z\"/>\n",
              "  </svg>\n",
              "    </button>\n",
              "\n",
              "  <style>\n",
              "    .colab-df-container {\n",
              "      display:flex;\n",
              "      gap: 12px;\n",
              "    }\n",
              "\n",
              "    .colab-df-convert {\n",
              "      background-color: #E8F0FE;\n",
              "      border: none;\n",
              "      border-radius: 50%;\n",
              "      cursor: pointer;\n",
              "      display: none;\n",
              "      fill: #1967D2;\n",
              "      height: 32px;\n",
              "      padding: 0 0 0 0;\n",
              "      width: 32px;\n",
              "    }\n",
              "\n",
              "    .colab-df-convert:hover {\n",
              "      background-color: #E2EBFA;\n",
              "      box-shadow: 0px 1px 2px rgba(60, 64, 67, 0.3), 0px 1px 3px 1px rgba(60, 64, 67, 0.15);\n",
              "      fill: #174EA6;\n",
              "    }\n",
              "\n",
              "    .colab-df-buttons div {\n",
              "      margin-bottom: 4px;\n",
              "    }\n",
              "\n",
              "    [theme=dark] .colab-df-convert {\n",
              "      background-color: #3B4455;\n",
              "      fill: #D2E3FC;\n",
              "    }\n",
              "\n",
              "    [theme=dark] .colab-df-convert:hover {\n",
              "      background-color: #434B5C;\n",
              "      box-shadow: 0px 1px 3px 1px rgba(0, 0, 0, 0.15);\n",
              "      filter: drop-shadow(0px 1px 2px rgba(0, 0, 0, 0.3));\n",
              "      fill: #FFFFFF;\n",
              "    }\n",
              "  </style>\n",
              "\n",
              "    <script>\n",
              "      const buttonEl =\n",
              "        document.querySelector('#df-9824b023-80bf-4613-92c0-09e79816f1db button.colab-df-convert');\n",
              "      buttonEl.style.display =\n",
              "        google.colab.kernel.accessAllowed ? 'block' : 'none';\n",
              "\n",
              "      async function convertToInteractive(key) {\n",
              "        const element = document.querySelector('#df-9824b023-80bf-4613-92c0-09e79816f1db');\n",
              "        const dataTable =\n",
              "          await google.colab.kernel.invokeFunction('convertToInteractive',\n",
              "                                                    [key], {});\n",
              "        if (!dataTable) return;\n",
              "\n",
              "        const docLinkHtml = 'Like what you see? Visit the ' +\n",
              "          '<a target=\"_blank\" href=https://colab.research.google.com/notebooks/data_table.ipynb>data table notebook</a>'\n",
              "          + ' to learn more about interactive tables.';\n",
              "        element.innerHTML = '';\n",
              "        dataTable['output_type'] = 'display_data';\n",
              "        await google.colab.output.renderOutput(dataTable, element);\n",
              "        const docLink = document.createElement('div');\n",
              "        docLink.innerHTML = docLinkHtml;\n",
              "        element.appendChild(docLink);\n",
              "      }\n",
              "    </script>\n",
              "  </div>\n",
              "\n",
              "\n",
              "<div id=\"df-3b455e49-b65d-45b3-be87-4d60e31822e1\">\n",
              "  <button class=\"colab-df-quickchart\" onclick=\"quickchart('df-3b455e49-b65d-45b3-be87-4d60e31822e1')\"\n",
              "            title=\"Suggest charts\"\n",
              "            style=\"display:none;\">\n",
              "\n",
              "<svg xmlns=\"http://www.w3.org/2000/svg\" height=\"24px\"viewBox=\"0 0 24 24\"\n",
              "     width=\"24px\">\n",
              "    <g>\n",
              "        <path d=\"M19 3H5c-1.1 0-2 .9-2 2v14c0 1.1.9 2 2 2h14c1.1 0 2-.9 2-2V5c0-1.1-.9-2-2-2zM9 17H7v-7h2v7zm4 0h-2V7h2v10zm4 0h-2v-4h2v4z\"/>\n",
              "    </g>\n",
              "</svg>\n",
              "  </button>\n",
              "\n",
              "<style>\n",
              "  .colab-df-quickchart {\n",
              "      --bg-color: #E8F0FE;\n",
              "      --fill-color: #1967D2;\n",
              "      --hover-bg-color: #E2EBFA;\n",
              "      --hover-fill-color: #174EA6;\n",
              "      --disabled-fill-color: #AAA;\n",
              "      --disabled-bg-color: #DDD;\n",
              "  }\n",
              "\n",
              "  [theme=dark] .colab-df-quickchart {\n",
              "      --bg-color: #3B4455;\n",
              "      --fill-color: #D2E3FC;\n",
              "      --hover-bg-color: #434B5C;\n",
              "      --hover-fill-color: #FFFFFF;\n",
              "      --disabled-bg-color: #3B4455;\n",
              "      --disabled-fill-color: #666;\n",
              "  }\n",
              "\n",
              "  .colab-df-quickchart {\n",
              "    background-color: var(--bg-color);\n",
              "    border: none;\n",
              "    border-radius: 50%;\n",
              "    cursor: pointer;\n",
              "    display: none;\n",
              "    fill: var(--fill-color);\n",
              "    height: 32px;\n",
              "    padding: 0;\n",
              "    width: 32px;\n",
              "  }\n",
              "\n",
              "  .colab-df-quickchart:hover {\n",
              "    background-color: var(--hover-bg-color);\n",
              "    box-shadow: 0 1px 2px rgba(60, 64, 67, 0.3), 0 1px 3px 1px rgba(60, 64, 67, 0.15);\n",
              "    fill: var(--button-hover-fill-color);\n",
              "  }\n",
              "\n",
              "  .colab-df-quickchart-complete:disabled,\n",
              "  .colab-df-quickchart-complete:disabled:hover {\n",
              "    background-color: var(--disabled-bg-color);\n",
              "    fill: var(--disabled-fill-color);\n",
              "    box-shadow: none;\n",
              "  }\n",
              "\n",
              "  .colab-df-spinner {\n",
              "    border: 2px solid var(--fill-color);\n",
              "    border-color: transparent;\n",
              "    border-bottom-color: var(--fill-color);\n",
              "    animation:\n",
              "      spin 1s steps(1) infinite;\n",
              "  }\n",
              "\n",
              "  @keyframes spin {\n",
              "    0% {\n",
              "      border-color: transparent;\n",
              "      border-bottom-color: var(--fill-color);\n",
              "      border-left-color: var(--fill-color);\n",
              "    }\n",
              "    20% {\n",
              "      border-color: transparent;\n",
              "      border-left-color: var(--fill-color);\n",
              "      border-top-color: var(--fill-color);\n",
              "    }\n",
              "    30% {\n",
              "      border-color: transparent;\n",
              "      border-left-color: var(--fill-color);\n",
              "      border-top-color: var(--fill-color);\n",
              "      border-right-color: var(--fill-color);\n",
              "    }\n",
              "    40% {\n",
              "      border-color: transparent;\n",
              "      border-right-color: var(--fill-color);\n",
              "      border-top-color: var(--fill-color);\n",
              "    }\n",
              "    60% {\n",
              "      border-color: transparent;\n",
              "      border-right-color: var(--fill-color);\n",
              "    }\n",
              "    80% {\n",
              "      border-color: transparent;\n",
              "      border-right-color: var(--fill-color);\n",
              "      border-bottom-color: var(--fill-color);\n",
              "    }\n",
              "    90% {\n",
              "      border-color: transparent;\n",
              "      border-bottom-color: var(--fill-color);\n",
              "    }\n",
              "  }\n",
              "</style>\n",
              "\n",
              "  <script>\n",
              "    async function quickchart(key) {\n",
              "      const quickchartButtonEl =\n",
              "        document.querySelector('#' + key + ' button');\n",
              "      quickchartButtonEl.disabled = true;  // To prevent multiple clicks.\n",
              "      quickchartButtonEl.classList.add('colab-df-spinner');\n",
              "      try {\n",
              "        const charts = await google.colab.kernel.invokeFunction(\n",
              "            'suggestCharts', [key], {});\n",
              "      } catch (error) {\n",
              "        console.error('Error during call to suggestCharts:', error);\n",
              "      }\n",
              "      quickchartButtonEl.classList.remove('colab-df-spinner');\n",
              "      quickchartButtonEl.classList.add('colab-df-quickchart-complete');\n",
              "    }\n",
              "    (() => {\n",
              "      let quickchartButtonEl =\n",
              "        document.querySelector('#df-3b455e49-b65d-45b3-be87-4d60e31822e1 button');\n",
              "      quickchartButtonEl.style.display =\n",
              "        google.colab.kernel.accessAllowed ? 'block' : 'none';\n",
              "    })();\n",
              "  </script>\n",
              "</div>\n",
              "\n",
              "    </div>\n",
              "  </div>\n"
            ],
            "application/vnd.google.colaboratory.intrinsic+json": {
              "type": "dataframe",
              "variable_name": "df"
            }
          },
          "metadata": {},
          "execution_count": 133
        }
      ]
    },
    {
      "cell_type": "code",
      "source": [
        "df.info()"
      ],
      "metadata": {
        "colab": {
          "base_uri": "https://localhost:8080/"
        },
        "id": "ejYl9_9Gtr9V",
        "outputId": "5e657f95-8950-4e04-ee72-556752c59db4"
      },
      "execution_count": 134,
      "outputs": [
        {
          "output_type": "stream",
          "name": "stdout",
          "text": [
            "<class 'pandas.core.frame.DataFrame'>\n",
            "RangeIndex: 4760 entries, 0 to 4759\n",
            "Data columns (total 21 columns):\n",
            " #   Column                    Non-Null Count  Dtype  \n",
            "---  ------                    --------------  -----  \n",
            " 0   Movie_ID                  4760 non-null   int64  \n",
            " 1   Movie_Title               4760 non-null   object \n",
            " 2   Movie_Genre               4760 non-null   object \n",
            " 3   Movie_Language            4760 non-null   object \n",
            " 4   Movie_Budget              4760 non-null   int64  \n",
            " 5   Movie_Popularity          4760 non-null   float64\n",
            " 6   Movie_Release_Date        4760 non-null   object \n",
            " 7   Movie_Revenue             4760 non-null   int64  \n",
            " 8   Movie_Runtime             4758 non-null   float64\n",
            " 9   Movie_Vote                4760 non-null   float64\n",
            " 10  Movie_Vote_Count          4760 non-null   int64  \n",
            " 11  Movie_Homepage            1699 non-null   object \n",
            " 12  Movie_Keywords            4373 non-null   object \n",
            " 13  Movie_Overview            4757 non-null   object \n",
            " 14  Movie_Production_House    4760 non-null   object \n",
            " 15  Movie_Production_Country  4760 non-null   object \n",
            " 16  Movie_Spoken_Language     4760 non-null   object \n",
            " 17  Movie_Tagline             3942 non-null   object \n",
            " 18  Movie_Cast                4733 non-null   object \n",
            " 19  Movie_Crew                4760 non-null   object \n",
            " 20  Movie_Director            4738 non-null   object \n",
            "dtypes: float64(3), int64(4), object(14)\n",
            "memory usage: 781.1+ KB\n"
          ]
        }
      ]
    },
    {
      "cell_type": "code",
      "source": [
        "df.shape"
      ],
      "metadata": {
        "colab": {
          "base_uri": "https://localhost:8080/"
        },
        "id": "RqL0Ypbyv5mu",
        "outputId": "289a2000-d5c2-408d-aac0-e4007699abaa"
      },
      "execution_count": 135,
      "outputs": [
        {
          "output_type": "execute_result",
          "data": {
            "text/plain": [
              "(4760, 21)"
            ]
          },
          "metadata": {},
          "execution_count": 135
        }
      ]
    },
    {
      "cell_type": "code",
      "source": [
        "df.columns"
      ],
      "metadata": {
        "colab": {
          "base_uri": "https://localhost:8080/"
        },
        "id": "s_sr3MLzv_2s",
        "outputId": "f3a64bda-dc7f-42b8-90fd-40db8ac48cf5"
      },
      "execution_count": 136,
      "outputs": [
        {
          "output_type": "execute_result",
          "data": {
            "text/plain": [
              "Index(['Movie_ID', 'Movie_Title', 'Movie_Genre', 'Movie_Language',\n",
              "       'Movie_Budget', 'Movie_Popularity', 'Movie_Release_Date',\n",
              "       'Movie_Revenue', 'Movie_Runtime', 'Movie_Vote', 'Movie_Vote_Count',\n",
              "       'Movie_Homepage', 'Movie_Keywords', 'Movie_Overview',\n",
              "       'Movie_Production_House', 'Movie_Production_Country',\n",
              "       'Movie_Spoken_Language', 'Movie_Tagline', 'Movie_Cast', 'Movie_Crew',\n",
              "       'Movie_Director'],\n",
              "      dtype='object')"
            ]
          },
          "metadata": {},
          "execution_count": 136
        }
      ]
    },
    {
      "cell_type": "markdown",
      "source": [
        "##**Get Feature Selection**##"
      ],
      "metadata": {
        "id": "X2cV3FuOwTtN"
      }
    },
    {
      "cell_type": "code",
      "source": [
        "df_feature=df[['Movie_Genre','Movie_Keywords','Movie_Tagline', 'Movie_Cast','Movie_Director']].fillna('')"
      ],
      "metadata": {
        "id": "nIqRpDqvwGay"
      },
      "execution_count": 137,
      "outputs": []
    },
    {
      "cell_type": "markdown",
      "source": [
        "Select five existing feature to recommend movies. It may vary from one project to another. Like one can add vote count, budget, language etc."
      ],
      "metadata": {
        "id": "cq2jWLl3xRFM"
      }
    },
    {
      "cell_type": "code",
      "source": [
        "df_feature.shape"
      ],
      "metadata": {
        "colab": {
          "base_uri": "https://localhost:8080/"
        },
        "id": "i_kTbNTUxIk7",
        "outputId": "e409a632-e951-4a9a-b2ba-2d6822dee6e4"
      },
      "execution_count": 138,
      "outputs": [
        {
          "output_type": "execute_result",
          "data": {
            "text/plain": [
              "(4760, 5)"
            ]
          },
          "metadata": {},
          "execution_count": 138
        }
      ]
    },
    {
      "cell_type": "code",
      "source": [
        "df_feature"
      ],
      "metadata": {
        "colab": {
          "base_uri": "https://localhost:8080/",
          "height": 615
        },
        "id": "exfEunqDx4sA",
        "outputId": "2637ab82-f5e6-4b4b-c832-3736b0e98921"
      },
      "execution_count": 139,
      "outputs": [
        {
          "output_type": "execute_result",
          "data": {
            "text/plain": [
              "                           Movie_Genre  \\\n",
              "0                         Crime Comedy   \n",
              "1     Adventure Action Science Fiction   \n",
              "2                     Animation Family   \n",
              "3                 Comedy Drama Romance   \n",
              "4                                Drama   \n",
              "...                                ...   \n",
              "4755                            Horror   \n",
              "4756               Comedy Family Drama   \n",
              "4757                    Thriller Drama   \n",
              "4758                            Family   \n",
              "4759                       Documentary   \n",
              "\n",
              "                                         Movie_Keywords  \\\n",
              "0             hotel new year's eve witch bet hotel room   \n",
              "1           android galaxy hermit death star lightsaber   \n",
              "2     father son relationship harbor underwater fish...   \n",
              "3     vietnam veteran hippie mentally disabled runni...   \n",
              "4     male nudity female nudity adultery midlife cri...   \n",
              "...                                                 ...   \n",
              "4755                                                      \n",
              "4756                                                      \n",
              "4757                     christian film sex trafficking   \n",
              "4758                                                      \n",
              "4759  music actors legendary perfomer classic hollyw...   \n",
              "\n",
              "                                          Movie_Tagline  \\\n",
              "0     Twelve outrageous guests. Four scandalous requ...   \n",
              "1          A long time ago in a galaxy far, far away...   \n",
              "2     There are 3.7 trillion fish in the ocean, they...   \n",
              "3     The world will never be the same, once you've ...   \n",
              "4                                          Look closer.   \n",
              "...                                                 ...   \n",
              "4755                The hot spot where Satan's waitin'.   \n",
              "4756           It’s better to stand out than to fit in.   \n",
              "4757           She never knew it could happen to her...   \n",
              "4758                                                      \n",
              "4759                                                      \n",
              "\n",
              "                                             Movie_Cast     Movie_Director  \n",
              "0     Tim Roth Antonio Banderas Jennifer Beals Madon...     Allison Anders  \n",
              "1     Mark Hamill Harrison Ford Carrie Fisher Peter ...       George Lucas  \n",
              "2     Albert Brooks Ellen DeGeneres Alexander Gould ...     Andrew Stanton  \n",
              "3     Tom Hanks Robin Wright Gary Sinise Mykelti Wil...    Robert Zemeckis  \n",
              "4     Kevin Spacey Annette Bening Thora Birch Wes Be...         Sam Mendes  \n",
              "...                                                 ...                ...  \n",
              "4755  Lisa Hart Carroll Michael Des Barres Paul Drak...         Pece Dingo  \n",
              "4756  Roni Akurati Brighton Sharbino Jason Lee Anjul...       Frank Lotito  \n",
              "4757  Nicole Smolen Kim Baldwin Ariana Stephens Brys...       Jaco Booyens  \n",
              "4758                                                                        \n",
              "4759                                    Tony Oppedisano  Simon Napier-Bell  \n",
              "\n",
              "[4760 rows x 5 columns]"
            ],
            "text/html": [
              "\n",
              "  <div id=\"df-781d8e86-fecb-4abd-be02-2f0899a05166\" class=\"colab-df-container\">\n",
              "    <div>\n",
              "<style scoped>\n",
              "    .dataframe tbody tr th:only-of-type {\n",
              "        vertical-align: middle;\n",
              "    }\n",
              "\n",
              "    .dataframe tbody tr th {\n",
              "        vertical-align: top;\n",
              "    }\n",
              "\n",
              "    .dataframe thead th {\n",
              "        text-align: right;\n",
              "    }\n",
              "</style>\n",
              "<table border=\"1\" class=\"dataframe\">\n",
              "  <thead>\n",
              "    <tr style=\"text-align: right;\">\n",
              "      <th></th>\n",
              "      <th>Movie_Genre</th>\n",
              "      <th>Movie_Keywords</th>\n",
              "      <th>Movie_Tagline</th>\n",
              "      <th>Movie_Cast</th>\n",
              "      <th>Movie_Director</th>\n",
              "    </tr>\n",
              "  </thead>\n",
              "  <tbody>\n",
              "    <tr>\n",
              "      <th>0</th>\n",
              "      <td>Crime Comedy</td>\n",
              "      <td>hotel new year's eve witch bet hotel room</td>\n",
              "      <td>Twelve outrageous guests. Four scandalous requ...</td>\n",
              "      <td>Tim Roth Antonio Banderas Jennifer Beals Madon...</td>\n",
              "      <td>Allison Anders</td>\n",
              "    </tr>\n",
              "    <tr>\n",
              "      <th>1</th>\n",
              "      <td>Adventure Action Science Fiction</td>\n",
              "      <td>android galaxy hermit death star lightsaber</td>\n",
              "      <td>A long time ago in a galaxy far, far away...</td>\n",
              "      <td>Mark Hamill Harrison Ford Carrie Fisher Peter ...</td>\n",
              "      <td>George Lucas</td>\n",
              "    </tr>\n",
              "    <tr>\n",
              "      <th>2</th>\n",
              "      <td>Animation Family</td>\n",
              "      <td>father son relationship harbor underwater fish...</td>\n",
              "      <td>There are 3.7 trillion fish in the ocean, they...</td>\n",
              "      <td>Albert Brooks Ellen DeGeneres Alexander Gould ...</td>\n",
              "      <td>Andrew Stanton</td>\n",
              "    </tr>\n",
              "    <tr>\n",
              "      <th>3</th>\n",
              "      <td>Comedy Drama Romance</td>\n",
              "      <td>vietnam veteran hippie mentally disabled runni...</td>\n",
              "      <td>The world will never be the same, once you've ...</td>\n",
              "      <td>Tom Hanks Robin Wright Gary Sinise Mykelti Wil...</td>\n",
              "      <td>Robert Zemeckis</td>\n",
              "    </tr>\n",
              "    <tr>\n",
              "      <th>4</th>\n",
              "      <td>Drama</td>\n",
              "      <td>male nudity female nudity adultery midlife cri...</td>\n",
              "      <td>Look closer.</td>\n",
              "      <td>Kevin Spacey Annette Bening Thora Birch Wes Be...</td>\n",
              "      <td>Sam Mendes</td>\n",
              "    </tr>\n",
              "    <tr>\n",
              "      <th>...</th>\n",
              "      <td>...</td>\n",
              "      <td>...</td>\n",
              "      <td>...</td>\n",
              "      <td>...</td>\n",
              "      <td>...</td>\n",
              "    </tr>\n",
              "    <tr>\n",
              "      <th>4755</th>\n",
              "      <td>Horror</td>\n",
              "      <td></td>\n",
              "      <td>The hot spot where Satan's waitin'.</td>\n",
              "      <td>Lisa Hart Carroll Michael Des Barres Paul Drak...</td>\n",
              "      <td>Pece Dingo</td>\n",
              "    </tr>\n",
              "    <tr>\n",
              "      <th>4756</th>\n",
              "      <td>Comedy Family Drama</td>\n",
              "      <td></td>\n",
              "      <td>It’s better to stand out than to fit in.</td>\n",
              "      <td>Roni Akurati Brighton Sharbino Jason Lee Anjul...</td>\n",
              "      <td>Frank Lotito</td>\n",
              "    </tr>\n",
              "    <tr>\n",
              "      <th>4757</th>\n",
              "      <td>Thriller Drama</td>\n",
              "      <td>christian film sex trafficking</td>\n",
              "      <td>She never knew it could happen to her...</td>\n",
              "      <td>Nicole Smolen Kim Baldwin Ariana Stephens Brys...</td>\n",
              "      <td>Jaco Booyens</td>\n",
              "    </tr>\n",
              "    <tr>\n",
              "      <th>4758</th>\n",
              "      <td>Family</td>\n",
              "      <td></td>\n",
              "      <td></td>\n",
              "      <td></td>\n",
              "      <td></td>\n",
              "    </tr>\n",
              "    <tr>\n",
              "      <th>4759</th>\n",
              "      <td>Documentary</td>\n",
              "      <td>music actors legendary perfomer classic hollyw...</td>\n",
              "      <td></td>\n",
              "      <td>Tony Oppedisano</td>\n",
              "      <td>Simon Napier-Bell</td>\n",
              "    </tr>\n",
              "  </tbody>\n",
              "</table>\n",
              "<p>4760 rows × 5 columns</p>\n",
              "</div>\n",
              "    <div class=\"colab-df-buttons\">\n",
              "\n",
              "  <div class=\"colab-df-container\">\n",
              "    <button class=\"colab-df-convert\" onclick=\"convertToInteractive('df-781d8e86-fecb-4abd-be02-2f0899a05166')\"\n",
              "            title=\"Convert this dataframe to an interactive table.\"\n",
              "            style=\"display:none;\">\n",
              "\n",
              "  <svg xmlns=\"http://www.w3.org/2000/svg\" height=\"24px\" viewBox=\"0 -960 960 960\">\n",
              "    <path d=\"M120-120v-720h720v720H120Zm60-500h600v-160H180v160Zm220 220h160v-160H400v160Zm0 220h160v-160H400v160ZM180-400h160v-160H180v160Zm440 0h160v-160H620v160ZM180-180h160v-160H180v160Zm440 0h160v-160H620v160Z\"/>\n",
              "  </svg>\n",
              "    </button>\n",
              "\n",
              "  <style>\n",
              "    .colab-df-container {\n",
              "      display:flex;\n",
              "      gap: 12px;\n",
              "    }\n",
              "\n",
              "    .colab-df-convert {\n",
              "      background-color: #E8F0FE;\n",
              "      border: none;\n",
              "      border-radius: 50%;\n",
              "      cursor: pointer;\n",
              "      display: none;\n",
              "      fill: #1967D2;\n",
              "      height: 32px;\n",
              "      padding: 0 0 0 0;\n",
              "      width: 32px;\n",
              "    }\n",
              "\n",
              "    .colab-df-convert:hover {\n",
              "      background-color: #E2EBFA;\n",
              "      box-shadow: 0px 1px 2px rgba(60, 64, 67, 0.3), 0px 1px 3px 1px rgba(60, 64, 67, 0.15);\n",
              "      fill: #174EA6;\n",
              "    }\n",
              "\n",
              "    .colab-df-buttons div {\n",
              "      margin-bottom: 4px;\n",
              "    }\n",
              "\n",
              "    [theme=dark] .colab-df-convert {\n",
              "      background-color: #3B4455;\n",
              "      fill: #D2E3FC;\n",
              "    }\n",
              "\n",
              "    [theme=dark] .colab-df-convert:hover {\n",
              "      background-color: #434B5C;\n",
              "      box-shadow: 0px 1px 3px 1px rgba(0, 0, 0, 0.15);\n",
              "      filter: drop-shadow(0px 1px 2px rgba(0, 0, 0, 0.3));\n",
              "      fill: #FFFFFF;\n",
              "    }\n",
              "  </style>\n",
              "\n",
              "    <script>\n",
              "      const buttonEl =\n",
              "        document.querySelector('#df-781d8e86-fecb-4abd-be02-2f0899a05166 button.colab-df-convert');\n",
              "      buttonEl.style.display =\n",
              "        google.colab.kernel.accessAllowed ? 'block' : 'none';\n",
              "\n",
              "      async function convertToInteractive(key) {\n",
              "        const element = document.querySelector('#df-781d8e86-fecb-4abd-be02-2f0899a05166');\n",
              "        const dataTable =\n",
              "          await google.colab.kernel.invokeFunction('convertToInteractive',\n",
              "                                                    [key], {});\n",
              "        if (!dataTable) return;\n",
              "\n",
              "        const docLinkHtml = 'Like what you see? Visit the ' +\n",
              "          '<a target=\"_blank\" href=https://colab.research.google.com/notebooks/data_table.ipynb>data table notebook</a>'\n",
              "          + ' to learn more about interactive tables.';\n",
              "        element.innerHTML = '';\n",
              "        dataTable['output_type'] = 'display_data';\n",
              "        await google.colab.output.renderOutput(dataTable, element);\n",
              "        const docLink = document.createElement('div');\n",
              "        docLink.innerHTML = docLinkHtml;\n",
              "        element.appendChild(docLink);\n",
              "      }\n",
              "    </script>\n",
              "  </div>\n",
              "\n",
              "\n",
              "<div id=\"df-3e071615-20bd-4e08-8830-e47caa9c72f9\">\n",
              "  <button class=\"colab-df-quickchart\" onclick=\"quickchart('df-3e071615-20bd-4e08-8830-e47caa9c72f9')\"\n",
              "            title=\"Suggest charts\"\n",
              "            style=\"display:none;\">\n",
              "\n",
              "<svg xmlns=\"http://www.w3.org/2000/svg\" height=\"24px\"viewBox=\"0 0 24 24\"\n",
              "     width=\"24px\">\n",
              "    <g>\n",
              "        <path d=\"M19 3H5c-1.1 0-2 .9-2 2v14c0 1.1.9 2 2 2h14c1.1 0 2-.9 2-2V5c0-1.1-.9-2-2-2zM9 17H7v-7h2v7zm4 0h-2V7h2v10zm4 0h-2v-4h2v4z\"/>\n",
              "    </g>\n",
              "</svg>\n",
              "  </button>\n",
              "\n",
              "<style>\n",
              "  .colab-df-quickchart {\n",
              "      --bg-color: #E8F0FE;\n",
              "      --fill-color: #1967D2;\n",
              "      --hover-bg-color: #E2EBFA;\n",
              "      --hover-fill-color: #174EA6;\n",
              "      --disabled-fill-color: #AAA;\n",
              "      --disabled-bg-color: #DDD;\n",
              "  }\n",
              "\n",
              "  [theme=dark] .colab-df-quickchart {\n",
              "      --bg-color: #3B4455;\n",
              "      --fill-color: #D2E3FC;\n",
              "      --hover-bg-color: #434B5C;\n",
              "      --hover-fill-color: #FFFFFF;\n",
              "      --disabled-bg-color: #3B4455;\n",
              "      --disabled-fill-color: #666;\n",
              "  }\n",
              "\n",
              "  .colab-df-quickchart {\n",
              "    background-color: var(--bg-color);\n",
              "    border: none;\n",
              "    border-radius: 50%;\n",
              "    cursor: pointer;\n",
              "    display: none;\n",
              "    fill: var(--fill-color);\n",
              "    height: 32px;\n",
              "    padding: 0;\n",
              "    width: 32px;\n",
              "  }\n",
              "\n",
              "  .colab-df-quickchart:hover {\n",
              "    background-color: var(--hover-bg-color);\n",
              "    box-shadow: 0 1px 2px rgba(60, 64, 67, 0.3), 0 1px 3px 1px rgba(60, 64, 67, 0.15);\n",
              "    fill: var(--button-hover-fill-color);\n",
              "  }\n",
              "\n",
              "  .colab-df-quickchart-complete:disabled,\n",
              "  .colab-df-quickchart-complete:disabled:hover {\n",
              "    background-color: var(--disabled-bg-color);\n",
              "    fill: var(--disabled-fill-color);\n",
              "    box-shadow: none;\n",
              "  }\n",
              "\n",
              "  .colab-df-spinner {\n",
              "    border: 2px solid var(--fill-color);\n",
              "    border-color: transparent;\n",
              "    border-bottom-color: var(--fill-color);\n",
              "    animation:\n",
              "      spin 1s steps(1) infinite;\n",
              "  }\n",
              "\n",
              "  @keyframes spin {\n",
              "    0% {\n",
              "      border-color: transparent;\n",
              "      border-bottom-color: var(--fill-color);\n",
              "      border-left-color: var(--fill-color);\n",
              "    }\n",
              "    20% {\n",
              "      border-color: transparent;\n",
              "      border-left-color: var(--fill-color);\n",
              "      border-top-color: var(--fill-color);\n",
              "    }\n",
              "    30% {\n",
              "      border-color: transparent;\n",
              "      border-left-color: var(--fill-color);\n",
              "      border-top-color: var(--fill-color);\n",
              "      border-right-color: var(--fill-color);\n",
              "    }\n",
              "    40% {\n",
              "      border-color: transparent;\n",
              "      border-right-color: var(--fill-color);\n",
              "      border-top-color: var(--fill-color);\n",
              "    }\n",
              "    60% {\n",
              "      border-color: transparent;\n",
              "      border-right-color: var(--fill-color);\n",
              "    }\n",
              "    80% {\n",
              "      border-color: transparent;\n",
              "      border-right-color: var(--fill-color);\n",
              "      border-bottom-color: var(--fill-color);\n",
              "    }\n",
              "    90% {\n",
              "      border-color: transparent;\n",
              "      border-bottom-color: var(--fill-color);\n",
              "    }\n",
              "  }\n",
              "</style>\n",
              "\n",
              "  <script>\n",
              "    async function quickchart(key) {\n",
              "      const quickchartButtonEl =\n",
              "        document.querySelector('#' + key + ' button');\n",
              "      quickchartButtonEl.disabled = true;  // To prevent multiple clicks.\n",
              "      quickchartButtonEl.classList.add('colab-df-spinner');\n",
              "      try {\n",
              "        const charts = await google.colab.kernel.invokeFunction(\n",
              "            'suggestCharts', [key], {});\n",
              "      } catch (error) {\n",
              "        console.error('Error during call to suggestCharts:', error);\n",
              "      }\n",
              "      quickchartButtonEl.classList.remove('colab-df-spinner');\n",
              "      quickchartButtonEl.classList.add('colab-df-quickchart-complete');\n",
              "    }\n",
              "    (() => {\n",
              "      let quickchartButtonEl =\n",
              "        document.querySelector('#df-3e071615-20bd-4e08-8830-e47caa9c72f9 button');\n",
              "      quickchartButtonEl.style.display =\n",
              "        google.colab.kernel.accessAllowed ? 'block' : 'none';\n",
              "    })();\n",
              "  </script>\n",
              "</div>\n",
              "\n",
              "  <div id=\"id_0f12babf-0be7-4dd7-ae34-a3902281f7df\">\n",
              "    <style>\n",
              "      .colab-df-generate {\n",
              "        background-color: #E8F0FE;\n",
              "        border: none;\n",
              "        border-radius: 50%;\n",
              "        cursor: pointer;\n",
              "        display: none;\n",
              "        fill: #1967D2;\n",
              "        height: 32px;\n",
              "        padding: 0 0 0 0;\n",
              "        width: 32px;\n",
              "      }\n",
              "\n",
              "      .colab-df-generate:hover {\n",
              "        background-color: #E2EBFA;\n",
              "        box-shadow: 0px 1px 2px rgba(60, 64, 67, 0.3), 0px 1px 3px 1px rgba(60, 64, 67, 0.15);\n",
              "        fill: #174EA6;\n",
              "      }\n",
              "\n",
              "      [theme=dark] .colab-df-generate {\n",
              "        background-color: #3B4455;\n",
              "        fill: #D2E3FC;\n",
              "      }\n",
              "\n",
              "      [theme=dark] .colab-df-generate:hover {\n",
              "        background-color: #434B5C;\n",
              "        box-shadow: 0px 1px 3px 1px rgba(0, 0, 0, 0.15);\n",
              "        filter: drop-shadow(0px 1px 2px rgba(0, 0, 0, 0.3));\n",
              "        fill: #FFFFFF;\n",
              "      }\n",
              "    </style>\n",
              "    <button class=\"colab-df-generate\" onclick=\"generateWithVariable('df_feature')\"\n",
              "            title=\"Generate code using this dataframe.\"\n",
              "            style=\"display:none;\">\n",
              "\n",
              "  <svg xmlns=\"http://www.w3.org/2000/svg\" height=\"24px\"viewBox=\"0 0 24 24\"\n",
              "       width=\"24px\">\n",
              "    <path d=\"M7,19H8.4L18.45,9,17,7.55,7,17.6ZM5,21V16.75L18.45,3.32a2,2,0,0,1,2.83,0l1.4,1.43a1.91,1.91,0,0,1,.58,1.4,1.91,1.91,0,0,1-.58,1.4L9.25,21ZM18.45,9,17,7.55Zm-12,3A5.31,5.31,0,0,0,4.9,8.1,5.31,5.31,0,0,0,1,6.5,5.31,5.31,0,0,0,4.9,4.9,5.31,5.31,0,0,0,6.5,1,5.31,5.31,0,0,0,8.1,4.9,5.31,5.31,0,0,0,12,6.5,5.46,5.46,0,0,0,6.5,12Z\"/>\n",
              "  </svg>\n",
              "    </button>\n",
              "    <script>\n",
              "      (() => {\n",
              "      const buttonEl =\n",
              "        document.querySelector('#id_0f12babf-0be7-4dd7-ae34-a3902281f7df button.colab-df-generate');\n",
              "      buttonEl.style.display =\n",
              "        google.colab.kernel.accessAllowed ? 'block' : 'none';\n",
              "\n",
              "      buttonEl.onclick = () => {\n",
              "        google.colab.notebook.generateWithVariable('df_feature');\n",
              "      }\n",
              "      })();\n",
              "    </script>\n",
              "  </div>\n",
              "\n",
              "    </div>\n",
              "  </div>\n"
            ],
            "application/vnd.google.colaboratory.intrinsic+json": {
              "type": "dataframe",
              "variable_name": "df_feature",
              "summary": "{\n  \"name\": \"df_feature\",\n  \"rows\": 4760,\n  \"fields\": [\n    {\n      \"column\": \"Movie_Genre\",\n      \"properties\": {\n        \"dtype\": \"category\",\n        \"num_unique_values\": 1164,\n        \"samples\": [\n          \"Family Animation Adventure\",\n          \"Adventure Science Fiction Action\",\n          \"Action Crime Drama Romance Thriller\"\n        ],\n        \"semantic_type\": \"\",\n        \"description\": \"\"\n      }\n    },\n    {\n      \"column\": \"Movie_Keywords\",\n      \"properties\": {\n        \"dtype\": \"string\",\n        \"num_unique_values\": 4203,\n        \"samples\": [\n          \"canada nazis sequel spin off ancient evil\",\n          \"sex professor wedding woman director columbia university\",\n          \"prophecy sea beach gold small town\"\n        ],\n        \"semantic_type\": \"\",\n        \"description\": \"\"\n      }\n    },\n    {\n      \"column\": \"Movie_Tagline\",\n      \"properties\": {\n        \"dtype\": \"string\",\n        \"num_unique_values\": 3928,\n        \"samples\": [\n          \"The messenger must be silenced.\",\n          \"It's not the house that's haunted.\",\n          \"The final hunt begins.\"\n        ],\n        \"semantic_type\": \"\",\n        \"description\": \"\"\n      }\n    },\n    {\n      \"column\": \"Movie_Cast\",\n      \"properties\": {\n        \"dtype\": \"string\",\n        \"num_unique_values\": 4715,\n        \"samples\": [\n          \"Robin Tunney Fairuza Balk Neve Campbell Rachel True Skeet Ulrich\",\n          \"Peter Sellers Christopher Plummer Herbert Lom Catherine Schell Peter Arne\",\n          \"John Wayne Laraine Day Cedric Hardwicke Judith Anderson Anthony Quinn\"\n        ],\n        \"semantic_type\": \"\",\n        \"description\": \"\"\n      }\n    },\n    {\n      \"column\": \"Movie_Director\",\n      \"properties\": {\n        \"dtype\": \"category\",\n        \"num_unique_values\": 2332,\n        \"samples\": [\n          \"Rob McKittrick\",\n          \"Terron R. Parsons\",\n          \"Cyrus Nowrasteh\"\n        ],\n        \"semantic_type\": \"\",\n        \"description\": \"\"\n      }\n    }\n  ]\n}"
            }
          },
          "metadata": {},
          "execution_count": 139
        }
      ]
    },
    {
      "cell_type": "code",
      "source": [
        "x=df_feature['Movie_Genre']+' '+df_feature['Movie_Cast']+' '+df_feature['Movie_Director']+' '+df_feature['Movie_Keywords']+' '+df_feature['Movie_Tagline']"
      ],
      "metadata": {
        "id": "k-V1WyeCx8U2"
      },
      "execution_count": 140,
      "outputs": []
    },
    {
      "cell_type": "code",
      "source": [
        "x"
      ],
      "metadata": {
        "colab": {
          "base_uri": "https://localhost:8080/"
        },
        "id": "0yYeHKsazHO6",
        "outputId": "2b28d0cb-eccb-4c32-c16c-46a07f1f5e4f"
      },
      "execution_count": 141,
      "outputs": [
        {
          "output_type": "execute_result",
          "data": {
            "text/plain": [
              "0       Crime Comedy Tim Roth Antonio Banderas Jennife...\n",
              "1       Adventure Action Science Fiction Mark Hamill H...\n",
              "2       Animation Family Albert Brooks Ellen DeGeneres...\n",
              "3       Comedy Drama Romance Tom Hanks Robin Wright Ga...\n",
              "4       Drama Kevin Spacey Annette Bening Thora Birch ...\n",
              "                              ...                        \n",
              "4755    Horror Lisa Hart Carroll Michael Des Barres Pa...\n",
              "4756    Comedy Family Drama Roni Akurati Brighton Shar...\n",
              "4757    Thriller Drama Nicole Smolen Kim Baldwin Arian...\n",
              "4758                                           Family    \n",
              "4759    Documentary Tony Oppedisano Simon Napier-Bell ...\n",
              "Length: 4760, dtype: object"
            ]
          },
          "metadata": {},
          "execution_count": 141
        }
      ]
    },
    {
      "cell_type": "markdown",
      "source": [
        "##**Get Feature Text Conversion to Tokens**"
      ],
      "metadata": {
        "id": "_kw1WqsWzeB_"
      }
    },
    {
      "cell_type": "code",
      "source": [
        "from sklearn.feature_extraction.text import TfidfVectorizer"
      ],
      "metadata": {
        "id": "iywLwvSzzLJu"
      },
      "execution_count": 142,
      "outputs": []
    },
    {
      "cell_type": "code",
      "source": [
        "Tfidf=TfidfVectorizer()"
      ],
      "metadata": {
        "id": "nSeQpIRK0Ce1"
      },
      "execution_count": 143,
      "outputs": []
    },
    {
      "cell_type": "code",
      "source": [
        "x = Tfidf.fit_transform(x)"
      ],
      "metadata": {
        "id": "vpY9AMMf0j7j"
      },
      "execution_count": 144,
      "outputs": []
    },
    {
      "cell_type": "code",
      "source": [
        "x.shape"
      ],
      "metadata": {
        "colab": {
          "base_uri": "https://localhost:8080/"
        },
        "id": "JMshq5HTUlTs",
        "outputId": "8628fc86-1ed7-4069-d6d9-cc05d977b7cc"
      },
      "execution_count": 145,
      "outputs": [
        {
          "output_type": "execute_result",
          "data": {
            "text/plain": [
              "(4760, 17258)"
            ]
          },
          "metadata": {},
          "execution_count": 145
        }
      ]
    },
    {
      "cell_type": "code",
      "source": [
        "print(x)"
      ],
      "metadata": {
        "colab": {
          "base_uri": "https://localhost:8080/"
        },
        "id": "A8RLOqyvVIjV",
        "outputId": "30c8592e-81d1-4ef2-be8b-e89e8e2020d7"
      },
      "execution_count": 146,
      "outputs": [
        {
          "output_type": "stream",
          "name": "stdout",
          "text": [
            "  (0, 9048)\t0.08668421161607781\n",
            "  (0, 11161)\t0.0625038015164437\n",
            "  (0, 16773)\t0.17654247479915477\n",
            "  (0, 5612)\t0.08603537588547633\n",
            "  (0, 16735)\t0.1069008375152542\n",
            "  (0, 7904)\t0.13348000542112334\n",
            "  (0, 15219)\t0.09800472886453936\n",
            "  (0, 11242)\t0.07277788238484748\n",
            "  (0, 3878)\t0.11998399582562204\n",
            "  (0, 5499)\t0.11454057510303814\n",
            "  (0, 7071)\t0.1982241759840662\n",
            "  (0, 7454)\t0.14745635785412264\n",
            "  (0, 1495)\t0.19712637387361426\n",
            "  (0, 9206)\t0.15186283580984417\n",
            "  (0, 11244)\t0.08262965296941759\n",
            "  (0, 614)\t0.07642616241686974\n",
            "  (0, 12731)\t0.19712637387361426\n",
            "  (0, 13467)\t0.19712637387361426\n",
            "  (0, 5662)\t0.14655250953375432\n",
            "  (0, 6463)\t0.18801785343006194\n",
            "  (0, 11362)\t0.18801785343006194\n",
            "  (0, 15708)\t0.17654247479915477\n",
            "  (0, 13052)\t0.14655250953375432\n",
            "  (0, 1595)\t0.1568756163385454\n",
            "  (0, 16862)\t0.12768803549311025\n",
            "  :\t:\n",
            "  (4757, 5455)\t0.12491480594769522\n",
            "  (4757, 2967)\t0.16273475835631626\n",
            "  (4757, 8464)\t0.23522565554066333\n",
            "  (4757, 6938)\t0.17088173678136628\n",
            "  (4757, 8379)\t0.17480603856721913\n",
            "  (4757, 15303)\t0.07654356007668191\n",
            "  (4757, 15384)\t0.09754322497537371\n",
            "  (4757, 7649)\t0.11479421494340192\n",
            "  (4757, 10896)\t0.14546473055066447\n",
            "  (4757, 4494)\t0.05675298448720501\n",
            "  (4758, 5238)\t1.0\n",
            "  (4759, 11708)\t0.33947721804318337\n",
            "  (4759, 11264)\t0.33947721804318337\n",
            "  (4759, 205)\t0.3237911628497312\n",
            "  (4759, 8902)\t0.3040290704566037\n",
            "  (4759, 14062)\t0.3237911628497312\n",
            "  (4759, 3058)\t0.2812896191863103\n",
            "  (4759, 7130)\t0.26419662449963793\n",
            "  (4759, 10761)\t0.3126617295732147\n",
            "  (4759, 4358)\t0.18306542312175342\n",
            "  (4759, 14051)\t0.20084315377640435\n",
            "  (4759, 5690)\t0.19534291014627303\n",
            "  (4759, 15431)\t0.19628653185946862\n",
            "  (4759, 1490)\t0.21197258705292082\n",
            "  (4759, 10666)\t0.15888268987343043\n"
          ]
        }
      ]
    },
    {
      "cell_type": "markdown",
      "source": [
        "##**Getting Similarity Score using Cosine Similarity**"
      ],
      "metadata": {
        "id": "pyoX-7qIVWNC"
      }
    },
    {
      "cell_type": "markdown",
      "source": [
        "Cosine similarity is a metric used to measure the similarity between two vectors in an inner product space. This means it compares the directions, not just the magnitudes, of the vectors. Imagine two arrows in space; the closer their angles, the higher their cosine similarity."
      ],
      "metadata": {
        "id": "DXTynTXDVtdz"
      }
    },
    {
      "cell_type": "code",
      "source": [
        "from sklearn.metrics.pairwise import cosine_similarity"
      ],
      "metadata": {
        "id": "JhS-jbCjVK34"
      },
      "execution_count": 147,
      "outputs": []
    },
    {
      "cell_type": "code",
      "source": [
        "similarity_score = cosine_similarity(x)"
      ],
      "metadata": {
        "id": "umMZvA9RV5WN"
      },
      "execution_count": 148,
      "outputs": []
    },
    {
      "cell_type": "code",
      "source": [
        "similarity_score"
      ],
      "metadata": {
        "colab": {
          "base_uri": "https://localhost:8080/"
        },
        "id": "OaAWydmIV_z0",
        "outputId": "ea317b44-5057-4cc3-ff42-936ae11f3ae5"
      },
      "execution_count": 149,
      "outputs": [
        {
          "output_type": "execute_result",
          "data": {
            "text/plain": [
              "array([[1.        , 0.01351235, 0.03570468, ..., 0.        , 0.        ,\n",
              "        0.        ],\n",
              "       [0.01351235, 1.        , 0.00806674, ..., 0.        , 0.        ,\n",
              "        0.        ],\n",
              "       [0.03570468, 0.00806674, 1.        , ..., 0.        , 0.08014876,\n",
              "        0.        ],\n",
              "       ...,\n",
              "       [0.        , 0.        , 0.        , ..., 1.        , 0.        ,\n",
              "        0.        ],\n",
              "       [0.        , 0.        , 0.08014876, ..., 0.        , 1.        ,\n",
              "        0.        ],\n",
              "       [0.        , 0.        , 0.        , ..., 0.        , 0.        ,\n",
              "        1.        ]])"
            ]
          },
          "metadata": {},
          "execution_count": 149
        }
      ]
    },
    {
      "cell_type": "code",
      "source": [
        "similarity_score.shape"
      ],
      "metadata": {
        "colab": {
          "base_uri": "https://localhost:8080/"
        },
        "id": "qamlqVn6WGEL",
        "outputId": "736b2732-7794-487f-b41f-795e80a423e1"
      },
      "execution_count": 150,
      "outputs": [
        {
          "output_type": "execute_result",
          "data": {
            "text/plain": [
              "(4760, 4760)"
            ]
          },
          "metadata": {},
          "execution_count": 150
        }
      ]
    },
    {
      "cell_type": "markdown",
      "source": [
        "##**Get Movies Name as Input from User and Validate for Closest  Spelling**"
      ],
      "metadata": {
        "id": "41NZGDxkWRur"
      }
    },
    {
      "cell_type": "code",
      "source": [
        "Favourite_Movie_Name = input(' Enter you Favourite Movie Name :')"
      ],
      "metadata": {
        "colab": {
          "base_uri": "https://localhost:8080/"
        },
        "id": "pMbiHUGbWLId",
        "outputId": "a7887115-744a-4f80-c87d-b9c7870da4d2"
      },
      "execution_count": 172,
      "outputs": [
        {
          "name": "stdout",
          "output_type": "stream",
          "text": [
            " Enter you Favourite Movie Name :bad\n"
          ]
        }
      ]
    },
    {
      "cell_type": "code",
      "source": [
        "All_Movies_Title_list=df['Movie_Title'].tolist()"
      ],
      "metadata": {
        "id": "86MkeEouW-Ii"
      },
      "execution_count": 173,
      "outputs": []
    },
    {
      "cell_type": "code",
      "source": [
        "import difflib"
      ],
      "metadata": {
        "id": "lYF2yK_VXakn"
      },
      "execution_count": 174,
      "outputs": []
    },
    {
      "cell_type": "code",
      "source": [
        "Movie_recommendation = difflib.get_close_matches(Favourite_Movie_Name,All_Movies_Title_list)\n",
        "print(Movie_recommendation)"
      ],
      "metadata": {
        "colab": {
          "base_uri": "https://localhost:8080/"
        },
        "id": "tawEmDC7Xe_d",
        "outputId": "154b6c70-0dae-4459-e87a-a1102f4b73ab"
      },
      "execution_count": 175,
      "outputs": [
        {
          "output_type": "stream",
          "name": "stdout",
          "text": [
            "['Abandon']\n"
          ]
        }
      ]
    },
    {
      "cell_type": "code",
      "source": [
        "Close_Match = Movie_recommendation[0]\n",
        "print(Close_Match)"
      ],
      "metadata": {
        "colab": {
          "base_uri": "https://localhost:8080/"
        },
        "id": "zGrsipZeYGuG",
        "outputId": "174591dc-5d9c-4b44-8475-d749c62536b9"
      },
      "execution_count": 176,
      "outputs": [
        {
          "output_type": "stream",
          "name": "stdout",
          "text": [
            "Abandon\n"
          ]
        }
      ]
    },
    {
      "cell_type": "code",
      "source": [
        "Index_of_close_match_movie = df[df.Movie_Title==Close_Match]['Movie_ID'].values[0]\n",
        "print(Index_of_close_match_movie)"
      ],
      "metadata": {
        "colab": {
          "base_uri": "https://localhost:8080/"
        },
        "id": "-t6QdwfvY6Ei",
        "outputId": "f7387c06-6efc-4b4e-9429-59082d504b5b"
      },
      "execution_count": 177,
      "outputs": [
        {
          "output_type": "stream",
          "name": "stdout",
          "text": [
            "2478\n"
          ]
        }
      ]
    },
    {
      "cell_type": "code",
      "source": [
        "#Getting a list of similar movies\n",
        "Recommendation_score = list(enumerate(similarity_score[Index_of_close_match_movie]))\n",
        "print(Recommendation_score)"
      ],
      "metadata": {
        "colab": {
          "base_uri": "https://localhost:8080/"
        },
        "id": "lvtyr29bZeU2",
        "outputId": "c4754e95-5d9e-40d5-fd21-692b956250a2"
      },
      "execution_count": 178,
      "outputs": [
        {
          "output_type": "stream",
          "name": "stdout",
          "text": [
            "[(0, 0.020810955743440863), (1, 0.0), (2, 0.0), (3, 0.0069523106953851155), (4, 0.003537602306383294), (5, 0.003362783348932364), (6, 0.0), (7, 0.002408530302813642), (8, 0.0036412026722154258), (9, 0.0), (10, 0.0), (11, 0.03819628871660614), (12, 0.021484804643442497), (13, 0.0), (14, 0.0041685949930550855), (15, 0.0030925163552809544), (16, 0.002794523289937092), (17, 0.0), (18, 0.0032149665587720053), (19, 0.003234872084473849), (20, 0.01543020870593213), (21, 0.0035854441995547487), (22, 0.004523305788521357), (23, 0.0034939113501958005), (24, 0.002189808801660494), (25, 0.006541792163678671), (26, 0.0032805456984203426), (27, 0.07028719330989049), (28, 0.029401959943584844), (29, 0.0031928345357101037), (30, 0.0), (31, 0.0031532185587487016), (32, 0.01891742005257886), (33, 0.002963026686282094), (34, 0.01535060425256778), (35, 0.0), (36, 0.0), (37, 0.0), (38, 0.0052061260074025735), (39, 0.011446107776362452), (40, 0.005110209333563811), (41, 0.0037307380512314756), (42, 0.004659719062333721), (43, 0.00307746033027049), (44, 0.002790971414614582), (45, 0.015142343746339663), (46, 0.0), (47, 0.0), (48, 0.0036942915798885115), (49, 0.004415655549203858), (50, 0.004498854365035181), (51, 0.003527547042307344), (52, 0.020626028846159807), (53, 0.027440936257431374), (54, 0.0), (55, 0.0), (56, 0.0), (57, 0.0), (58, 0.0), (59, 0.029835877631173895), (60, 0.0067650311866202534), (61, 0.003310165395766172), (62, 0.00370168426539743), (63, 0.0026683877297935176), (64, 0.0), (65, 0.0), (66, 0.0033462673796854467), (67, 0.0), (68, 0.015645386908155444), (69, 0.0), (70, 0.0), (71, 0.040113215968266586), (72, 0.02842401724484764), (73, 0.013812989044018068), (74, 0.0035658329231117304), (75, 0.0), (76, 0.013680385102375153), (77, 0.0), (78, 0.0), (79, 0.0033423528663810882), (80, 0.0), (81, 0.027387651458314014), (82, 0.014651700535116578), (83, 0.0), (84, 0.0), (85, 0.035484176043254684), (86, 0.013721317680196063), (87, 0.0032366245870315315), (88, 0.0), (89, 0.0), (90, 0.011147058505245446), (91, 0.05108813657755283), (92, 0.03373925397396709), (93, 0.010918147583550544), (94, 0.010468264975672922), (95, 0.011726021033978897), (96, 0.0031031060892225426), (97, 0.033644531076411806), (98, 0.0032830435104242903), (99, 0.0), (100, 0.0), (101, 0.0), (102, 0.012453904722273739), (103, 0.00684977954346522), (104, 0.0033739739667806388), (105, 0.003325200147069094), (106, 0.0025809406265743444), (107, 0.0038026331369044627), (108, 0.021337568519469868), (109, 0.003342649108220226), (110, 0.004655886977635979), (111, 0.003114572178440856), (112, 0.0032278626161440084), (113, 0.010249442510512663), (114, 0.037703907641271364), (115, 0.00808647495401702), (116, 0.0031643928897264325), (117, 0.0), (118, 0.0), (119, 0.0510961811010805), (120, 0.0034578415404308283), (121, 0.0030815131872484014), (122, 0.04348130595264589), (123, 0.01613995844625335), (124, 0.0030614917457512103), (125, 0.013050069360961503), (126, 0.06700446512207962), (127, 0.02100455379771311), (128, 0.012646062822498843), (129, 0.005522409272717886), (130, 0.0), (131, 0.0), (132, 0.013078800079433751), (133, 0.0), (134, 0.004653691550694847), (135, 0.0), (136, 0.0030961725995043345), (137, 0.0), (138, 0.0), (139, 0.005111232819187556), (140, 0.0031406717476227045), (141, 0.005003755998132599), (142, 0.002773975682413119), (143, 0.0), (144, 0.026268655710345236), (145, 0.0), (146, 0.004913941440532098), (147, 0.06144069452798078), (148, 0.02700587691488462), (149, 0.016614072664152588), (150, 0.0), (151, 0.0), (152, 0.0), (153, 0.005354223442476566), (154, 0.003147143714731783), (155, 0.0), (156, 0.006424415873263005), (157, 0.007531866500900345), (158, 0.0030074855768459498), (159, 0.0026240751993096456), (160, 0.0), (161, 0.0071084566991082235), (162, 0.051843425093128004), (163, 0.0), (164, 0.003190331178557447), (165, 0.03314203814531936), (166, 0.002961049004922702), (167, 0.003239009145546262), (168, 0.05924543731766236), (169, 0.0077699245479716725), (170, 0.010328451379931432), (171, 0.0), (172, 0.003363438747609519), (173, 0.0035139151428063625), (174, 0.0078114855443245385), (175, 0.029171096355630324), (176, 0.0034451485514092137), (177, 0.0), (178, 0.038802004044830724), (179, 0.0), (180, 0.0), (181, 0.0), (182, 0.024343677305887282), (183, 0.0338281455917877), (184, 0.04852425372460741), (185, 0.004306824526356972), (186, 0.014021063834788853), (187, 0.0), (188, 0.004525820192009566), (189, 0.0), (190, 0.0028611567221105798), (191, 0.0), (192, 0.00362629380488331), (193, 0.0035448923153496826), (194, 0.002690038730746325), (195, 0.0066472368147326225), (196, 0.0028161593215861457), (197, 0.01823051127614578), (198, 0.0034018203081715884), (199, 0.0030571412173230816), (200, 0.002962561579417289), (201, 0.0), (202, 0.005189251975367138), (203, 0.003172411189615899), (204, 0.008262079344742018), (205, 0.0048238486396956146), (206, 0.015648801485834116), (207, 0.04043939648877612), (208, 0.0035595515314872546), (209, 0.0033831795161033337), (210, 0.003613484373566681), (211, 0.013027917242690578), (212, 0.06063996189812109), (213, 0.0031205322114482804), (214, 0.0041079033959565405), (215, 0.06559998640312871), (216, 0.003475977083691949), (217, 0.004440235703440141), (218, 0.003060958211306625), (219, 0.00463507670596206), (220, 0.0), (221, 0.014026090497517232), (222, 0.002951008022195643), (223, 0.0), (224, 0.0025652293607242205), (225, 0.010478432228979045), (226, 0.09882090210876027), (227, 0.0035831945097999926), (228, 0.03013612544658202), (229, 0.0031258000329428357), (230, 0.0), (231, 0.0), (232, 0.0), (233, 0.0), (234, 0.03375312953857804), (235, 0.003784334868130795), (236, 0.003149344732518476), (237, 0.0), (238, 0.008065974529064508), (239, 0.0), (240, 0.0), (241, 0.011371314518662318), (242, 0.0029028735854106234), (243, 0.002360478676964908), (244, 0.0), (245, 0.004672816474490873), (246, 0.031085579147963588), (247, 0.02744364908860651), (248, 0.0), (249, 0.002940395184190656), (250, 0.0), (251, 0.002873697715012998), (252, 0.0029698625964656904), (253, 0.008646387466419943), (254, 0.003695481517834448), (255, 0.0035109456782737906), (256, 0.0025048358446294215), (257, 0.0), (258, 0.0), (259, 0.0), (260, 0.0), (261, 0.0), (262, 0.015497559108560523), (263, 0.004311042164564747), (264, 0.004561828292193708), (265, 0.0), (266, 0.01659825359350819), (267, 0.03248955788707077), (268, 0.0029903747627425515), (269, 0.04728352035409346), (270, 0.0035064961435667184), (271, 0.0025695225653417685), (272, 0.0), (273, 0.0), (274, 0.003849699583072679), (275, 0.041473011439499934), (276, 0.0031613245584040587), (277, 0.0), (278, 0.006811186406415872), (279, 0.00740348574787909), (280, 0.0033440411572602537), (281, 0.0037849784751883054), (282, 0.021251873604573302), (283, 0.002453592012337927), (284, 0.0), (285, 0.018221404612086996), (286, 0.03165204647032606), (287, 0.0031460014500766325), (288, 0.0), (289, 0.0), (290, 0.0), (291, 0.0), (292, 0.0032529455896214005), (293, 0.0023839364490143033), (294, 0.0), (295, 0.0), (296, 0.0025128576205043925), (297, 0.0), (298, 0.0), (299, 0.0), (300, 0.010860159518796712), (301, 0.012058322190691783), (302, 0.07395657943069803), (303, 0.03056358727713243), (304, 0.0), (305, 0.0), (306, 0.027003326445225836), (307, 0.0031449161252318715), (308, 0.07941282684620962), (309, 0.03385982678840855), (310, 0.0), (311, 0.00427589293507571), (312, 0.004587079723509493), (313, 0.0), (314, 0.009555736172781422), (315, 0.0), (316, 0.0), (317, 0.002935795894888174), (318, 0.008642519297164288), (319, 0.017041452968661153), (320, 0.0), (321, 0.028446785128547907), (322, 0.0), (323, 0.0), (324, 0.0030902273279544176), (325, 0.007473143133745128), (326, 0.004106021428841428), (327, 0.01634373038228145), (328, 0.016283658064757192), (329, 0.0032524836451262077), (330, 0.01490543281165447), (331, 0.009049104231808523), (332, 0.0), (333, 0.0), (334, 0.0), (335, 0.0), (336, 0.014916264450744086), (337, 0.0), (338, 0.004156263381323589), (339, 0.004408470502882954), (340, 0.012247843792460883), (341, 0.0), (342, 0.0036524158145148926), (343, 0.037165103278026856), (344, 0.009582575232643087), (345, 0.00441520157484124), (346, 0.00785826663182784), (347, 0.0), (348, 0.03795173957180935), (349, 0.003251799217676098), (350, 0.06058306741024347), (351, 0.006033595021537153), (352, 0.0), (353, 0.05449004453855425), (354, 0.0), (355, 0.0030916074990530694), (356, 0.0031980957766250813), (357, 0.03576094622465617), (358, 0.003260841684595337), (359, 0.0030768906588825246), (360, 0.0), (361, 0.004835800099054391), (362, 0.005029725223508053), (363, 0.004977969385557967), (364, 0.002884437716715302), (365, 0.00505889967806844), (366, 0.00371508487758601), (367, 0.015284402011033316), (368, 0.019151267082611046), (369, 0.034640976224158786), (370, 0.029942220537836524), (371, 0.054730840035227546), (372, 0.035721556770294795), (373, 0.003177528048600142), (374, 0.05436769912719305), (375, 0.0), (376, 0.0), (377, 0.008148321797169282), (378, 0.0033671668678013607), (379, 0.02699072898546545), (380, 0.0), (381, 0.035333227268322775), (382, 0.0), (383, 0.004060080191979279), (384, 0.06716347164325157), (385, 0.03205741849760643), (386, 0.053888224773253696), (387, 0.09940794307841538), (388, 0.00316511541827297), (389, 0.016691794551925584), (390, 0.03961445665237805), (391, 0.07120479192864002), (392, 0.030760997069027386), (393, 0.004034236995038877), (394, 0.00974188205285157), (395, 0.003597222251335388), (396, 0.0032219339440242786), (397, 0.05504729926495858), (398, 0.004587236589288642), (399, 0.0031067271629581015), (400, 0.02137401493838696), (401, 0.004617124378545228), (402, 0.004087274866862921), (403, 0.046706187723263654), (404, 0.00442094446623321), (405, 0.004883774434147613), (406, 0.0034207564906178056), (407, 0.0295955973486303), (408, 0.0031699233028447903), (409, 0.0041941302843836485), (410, 0.020069399118521552), (411, 0.0), (412, 0.0027391565163478434), (413, 0.035787334819356836), (414, 0.003420985968859631), (415, 0.004811729158096497), (416, 0.04214995656480154), (417, 0.004231523297889662), (418, 0.004818657170434696), (419, 0.06206234540544266), (420, 0.0), (421, 0.003523214276057486), (422, 0.004304256358858065), (423, 0.0), (424, 0.0), (425, 0.0), (426, 0.0), (427, 0.00436961225809302), (428, 0.019476017607944072), (429, 0.034229641111817644), (430, 0.0036087187766586917), (431, 0.009326529997478154), (432, 0.002852291379896057), (433, 0.002742576090379691), (434, 0.0031719247399156947), (435, 0.0), (436, 0.07945516923568109), (437, 0.003181353647441941), (438, 0.0), (439, 0.0), (440, 0.013583340279870317), (441, 0.05895896388237427), (442, 0.0588848824642144), (443, 0.01706282413178409), (444, 0.036391509259052816), (445, 0.0028702364848967564), (446, 0.01439081172031577), (447, 0.0034814572190812066), (448, 0.0038699672649367585), (449, 0.0030323171349900422), (450, 0.0036789965985105522), (451, 0.0), (452, 0.027780907685578417), (453, 0.0025637820157480774), (454, 0.01480758325767748), (455, 0.0023791589086444814), (456, 0.01320535520397009), (457, 0.027525859787909175), (458, 0.003741081857605885), (459, 0.02037584098713558), (460, 0.0), (461, 0.005394763169040615), (462, 0.044822336040376956), (463, 0.003107284866627597), (464, 0.0033140860214123354), (465, 0.0030609563723740614), (466, 0.003314739037099371), (467, 0.01652747503485854), (468, 0.03137856579823236), (469, 0.013855887642607877), (470, 0.003536152496288338), (471, 0.007385271894748894), (472, 0.07446472731371193), (473, 0.038549747772484495), (474, 0.004786750986892972), (475, 0.010484473032927792), (476, 0.0036803989071243067), (477, 0.0), (478, 0.0037945211868972875), (479, 0.007899027519070088), (480, 0.017654464711351354), (481, 0.003646203205134648), (482, 0.015397838295385456), (483, 0.003540007606966144), (484, 0.0), (485, 0.003593038444546292), (486, 0.021894019743449344), (487, 0.003209570202887576), (488, 0.03708283956400383), (489, 0.00401079696896059), (490, 0.043629912498662146), (491, 0.0), (492, 0.0), (493, 0.11875579112058675), (494, 0.01602811628459094), (495, 0.002965431281781378), (496, 0.03273137032706063), (497, 0.014198074897266787), (498, 0.004343024676874281), (499, 0.055603522827979944), (500, 0.01634812481761548), (501, 0.0), (502, 0.015443833902469898), (503, 0.004431489803504173), (504, 0.007956159063263768), (505, 0.007512794597407132), (506, 0.003691729556056095), (507, 0.0074257341367917375), (508, 0.14209688912765994), (509, 0.003438370356152173), (510, 0.006321461577636098), (511, 0.0), (512, 0.0), (513, 0.0), (514, 0.0), (515, 0.007128500993785241), (516, 0.0), (517, 0.0), (518, 0.0039305952358082265), (519, 0.002960351485596944), (520, 0.018172498971818725), (521, 0.0043860940323763335), (522, 0.0032545702413817315), (523, 0.0), (524, 0.017976450419520625), (525, 0.004531168421831521), (526, 0.004216099855023988), (527, 0.015927581045947478), (528, 0.02318985273997278), (529, 0.004583714833394891), (530, 0.0), (531, 0.010939174517755468), (532, 0.00423021333854479), (533, 0.0037710655307131415), (534, 0.0033114449491987775), (535, 0.004494991029196742), (536, 0.004848159108241413), (537, 0.01297569796460075), (538, 0.0037578532845130284), (539, 0.0), (540, 0.0), (541, 0.10662382726339081), (542, 0.0023511434809770034), (543, 0.0034919935831694456), (544, 0.0034023986568886425), (545, 0.020006869241000903), (546, 0.039552836539440965), (547, 0.0028267833451556183), (548, 0.0), (549, 0.0), (550, 0.018519179170610075), (551, 0.05306294870064616), (552, 0.0), (553, 0.0), (554, 0.0), (555, 0.0), (556, 0.0), (557, 0.0), (558, 0.0030916839130398998), (559, 0.0), (560, 0.0), (561, 0.0), (562, 0.01636565625622431), (563, 0.0030232969627040306), (564, 0.07183218634573614), (565, 0.045585321209469336), (566, 0.018098131376223767), (567, 0.0), (568, 0.010572530223150824), (569, 0.02726788121162334), (570, 0.0), (571, 0.05867707057275494), (572, 0.01718798278690188), (573, 0.036686912420702746), (574, 0.0476950630415538), (575, 0.013626172241603217), (576, 0.0037795695590119595), (577, 0.004080044165730821), (578, 0.003164363223907048), (579, 0.04319391414459229), (580, 0.0035035485019981037), (581, 0.0030214163814974173), (582, 0.018796142267273937), (583, 0.008259726613750568), (584, 0.0208176718477149), (585, 0.004382394441602009), (586, 0.004745405013057744), (587, 0.003687356889752331), (588, 0.0034839919403790933), (589, 0.00732924509308318), (590, 0.11839049450356665), (591, 0.030931289313478282), (592, 0.0), (593, 0.022002832781677417), (594, 0.007068632622150338), (595, 0.0), (596, 0.024170461731504625), (597, 0.0030139120885654667), (598, 0.020099189074525892), (599, 0.0), (600, 0.0), (601, 0.0), (602, 0.0), (603, 0.0), (604, 0.02898720211269966), (605, 0.00695871339708212), (606, 0.0034621877246939843), (607, 0.029542166822225647), (608, 0.003039225887229426), (609, 0.006274773237961051), (610, 0.0), (611, 0.00538676901826539), (612, 0.0035597640584270622), (613, 0.0), (614, 0.003846857292530547), (615, 0.0), (616, 0.0027940418699343174), (617, 0.0028307427574991214), (618, 0.017786548909061253), (619, 0.0), (620, 0.003220253768073589), (621, 0.0), (622, 0.0035626429615122795), (623, 0.0035609474848351435), (624, 0.02987419104390386), (625, 0.0), (626, 0.018281359355595876), (627, 0.04061003336791206), (628, 0.014873424406743248), (629, 0.00393378957420962), (630, 0.004602992869518547), (631, 0.039419080667506545), (632, 0.004117263839100021), (633, 0.0), (634, 0.0), (635, 0.03908828164535852), (636, 0.03344101396736302), (637, 0.015276473332367708), (638, 0.030518537154507325), (639, 0.0), (640, 0.0), (641, 0.002400939181143014), (642, 0.00289603376961332), (643, 0.003248960269253162), (644, 0.003185023599449434), (645, 0.024494737781788997), (646, 0.01934757916021189), (647, 0.0029417567500869025), (648, 0.004257428278809152), (649, 0.004317443426031856), (650, 0.0), (651, 0.03701382598450184), (652, 0.0034294073685326733), (653, 0.017504688440165464), (654, 0.012014514464924122), (655, 0.003130946485216878), (656, 0.0), (657, 0.002977362042781122), (658, 0.023151020535089554), (659, 0.032179642486246746), (660, 0.015409774868980257), (661, 0.017091320824447337), (662, 0.004416916063680431), (663, 0.07520284766755418), (664, 0.014301803994267767), (665, 0.04391069736244112), (666, 0.0), (667, 0.004789509706780147), (668, 0.0), (669, 0.003084960329951916), (670, 0.004131954668584246), (671, 0.004703998670463264), (672, 0.007051898029648285), (673, 0.003658790232542373), (674, 0.0), (675, 0.0036563573807630637), (676, 0.0032504686151514045), (677, 0.0), (678, 0.004966322156522371), (679, 0.005250176074606755), (680, 0.0035656533858696164), (681, 0.0), (682, 0.0), (683, 0.016654066489503107), (684, 0.002460243636214832), (685, 0.0), (686, 0.0), (687, 0.005054227088756671), (688, 0.0037141402910942944), (689, 0.00333441812177874), (690, 0.02694331641200743), (691, 0.0063917075870463195), (692, 0.0), (693, 0.020995944047842722), (694, 0.0031528867533281955), (695, 0.0), (696, 0.03858970655184195), (697, 0.007941425153253447), (698, 0.003172175283389881), (699, 0.0), (700, 0.0), (701, 0.0037426606586287974), (702, 0.004262149267423813), (703, 0.007024816442356788), (704, 0.0), (705, 0.0029682426496324844), (706, 0.002663019940007254), (707, 0.02197599492268597), (708, 0.004700115704993847), (709, 0.0038146930006091443), (710, 0.019321654432792684), (711, 0.04611241399520902), (712, 0.017058211282326218), (713, 0.0), (714, 0.0), (715, 0.0036997958288897716), (716, 0.0035158774896335487), (717, 0.0034964183684416932), (718, 0.022523235419685025), (719, 0.016163252416528606), (720, 0.03256923007012591), (721, 0.03777822102207335), (722, 0.01938339044834832), (723, 0.0), (724, 0.0), (725, 0.0), (726, 0.028315368323957306), (727, 0.003294069508262834), (728, 0.0036162228512377063), (729, 0.0037387582529757432), (730, 0.004690733881794598), (731, 0.003207204227856282), (732, 0.002993050751894874), (733, 0.0713083201339932), (734, 0.018842121311018756), (735, 0.01079888615997687), (736, 0.0045861038799096445), (737, 0.014057980141943465), (738, 0.0), (739, 0.0038258565921950316), (740, 0.028584624782540587), (741, 0.01297700358749742), (742, 0.013866962136634093), (743, 0.0034453162598593067), (744, 0.0031006283705304863), (745, 0.0042119725584415894), (746, 0.0), (747, 0.0), (748, 0.012096083467627236), (749, 0.021585045753951464), (750, 0.0034157577084615266), (751, 0.019252940375893552), (752, 0.02146331068508833), (753, 0.0), (754, 0.017093235486993607), (755, 0.007685570487783299), (756, 0.010009903532943124), (757, 0.006317084801545579), (758, 0.004590896349034688), (759, 0.03879527652423644), (760, 0.04503524383872695), (761, 0.03806024071118506), (762, 0.0), (763, 0.0), (764, 0.023285226847225074), (765, 0.0), (766, 0.030220429773479607), (767, 0.0031804854864210877), (768, 0.036469394096813545), (769, 0.003308915805329179), (770, 0.004207684609765293), (771, 0.004907933349851719), (772, 0.0043703298349378455), (773, 0.0044069472475042615), (774, 0.0034739998685439566), (775, 0.0), (776, 0.0409929800449981), (777, 0.023551647298145933), (778, 0.009376442575935702), (779, 0.0), (780, 0.0043342705244951455), (781, 0.004797601465192409), (782, 0.003217292826297546), (783, 0.05596608647073502), (784, 0.004723520132441925), (785, 0.0045582577089484), (786, 0.0038155256344483803), (787, 0.004837317200010637), (788, 0.010339600840743068), (789, 0.0), (790, 0.011048585814844546), (791, 0.0036018278946219114), (792, 0.040781579442991274), (793, 0.05431166183507712), (794, 0.003623373417004588), (795, 0.005384389432513126), (796, 0.016703305861653122), (797, 0.004754373370035153), (798, 0.020586245445706943), (799, 0.0032684760205277715), (800, 0.03315378895682026), (801, 0.0), (802, 0.0), (803, 0.0), (804, 0.03317552511084188), (805, 0.00310042830696509), (806, 0.0034600172554407854), (807, 0.007233970394194836), (808, 0.0029557751913287266), (809, 0.0), (810, 0.0), (811, 0.0), (812, 0.0), (813, 0.003765679700179204), (814, 0.004679656376084744), (815, 0.049230191139392074), (816, 0.002728885425732797), (817, 0.0032445700562445338), (818, 0.003167418974039243), (819, 0.023129742428081287), (820, 0.004024100591027522), (821, 0.004172148798373007), (822, 0.040528731621256864), (823, 0.023190304078583773), (824, 0.005507127200870449), (825, 0.011055818247916628), (826, 0.06001557874863455), (827, 0.0), (828, 0.019005452479348477), (829, 0.013551726881504196), (830, 0.015507342612035471), (831, 0.002366939475310532), (832, 0.014999718591387497), (833, 0.0), (834, 0.016110486802963106), (835, 0.015357483195912713), (836, 0.004016072122637856), (837, 0.003501887477864766), (838, 0.003117640886212583), (839, 0.005146936764178241), (840, 0.004410528070968165), (841, 0.005002151884943742), (842, 0.03814191384788315), (843, 0.016545323545618412), (844, 0.00722767201105064), (845, 0.0035100793934492993), (846, 0.016337096307583277), (847, 0.009068780186223304), (848, 0.0033813137328755215), (849, 0.004552553361060091), (850, 0.021961150993317795), (851, 0.006928015093734356), (852, 0.03528365893625188), (853, 0.015555622594354635), (854, 0.0031997629520698688), (855, 0.0), (856, 0.12962502733815265), (857, 0.023821645714344954), (858, 0.014565416963759039), (859, 0.03243689123132619), (860, 0.0038846940383959845), (861, 0.03276976521093598), (862, 0.02950144329691392), (863, 0.013484669913477564), (864, 0.014906538778086988), (865, 0.0034426578909675437), (866, 0.003116912376564794), (867, 0.007794051786258707), (868, 0.018679797721912167), (869, 0.004670788580298624), (870, 0.029325559581262546), (871, 0.03402250212515507), (872, 0.00846636042740578), (873, 0.004878280374312703), (874, 0.002891379821721233), (875, 0.030913076388752042), (876, 0.003826939828503473), (877, 0.0), (878, 0.029769548347408664), (879, 0.008250672228522566), (880, 0.003304661900047516), (881, 0.0), (882, 0.0), (883, 0.00755447237561961), (884, 0.008227915109381739), (885, 0.007093434320206956), (886, 0.00741414233327704), (887, 0.02187616739916746), (888, 0.0037159221596175323), (889, 0.004314953251227668), (890, 0.008247907545088784), (891, 0.0), (892, 0.003946572512731567), (893, 0.0), (894, 0.0033213114964034413), (895, 0.003123673244760818), (896, 0.0036626972501999384), (897, 0.0033783061449203355), (898, 0.02608710992478662), (899, 0.0030906678310597614), (900, 0.003134823870890881), (901, 0.002777048619443294), (902, 0.06617158974745585), (903, 0.0180984058911935), (904, 0.005362579157270998), (905, 0.005269800977199627), (906, 0.0), (907, 0.007272621348312983), (908, 0.004653912849180012), (909, 0.011521363688447249), (910, 0.003069151252954714), (911, 0.034944609617776165), (912, 0.014029678454745231), (913, 0.017784531310492947), (914, 0.014114205159769118), (915, 0.0), (916, 0.004221167247422074), (917, 0.0030010730012694367), (918, 0.0), (919, 0.0), (920, 0.004182076637612294), (921, 0.00312040333021517), (922, 0.0037616338365877313), (923, 0.01859373015713587), (924, 0.002920452223413978), (925, 0.009093295067887084), (926, 0.01776331617574597), (927, 0.016445954974156973), (928, 0.011895783036813764), (929, 0.014135529205568386), (930, 0.0035587106735208937), (931, 0.0045524131697544145), (932, 0.0), (933, 0.008076628305385514), (934, 0.11871927213370428), (935, 0.003118534577002347), (936, 0.034495667253030396), (937, 0.003917171005383354), (938, 0.004566357789455203), (939, 0.0771816085973179), (940, 0.005534722284066699), (941, 0.00740697049045454), (942, 0.06282021503709234), (943, 0.015993123966078847), (944, 0.0031237437332302144), (945, 0.0046127857546283775), (946, 0.0045333591675613405), (947, 0.0045227042416549085), (948, 0.005736003587381478), (949, 0.03748991311820706), (950, 0.0), (951, 0.00667614748729802), (952, 0.03241970538650135), (953, 0.0026995323189427183), (954, 0.0), (955, 0.005371335837349036), (956, 0.023360691463965244), (957, 0.03439542766531145), (958, 0.004163863307104641), (959, 0.003256595123948577), (960, 0.0), (961, 0.02996167993207046), (962, 0.003179186165636439), (963, 0.0031340576461177253), (964, 0.0037977223190156085), (965, 0.004545596212033461), (966, 0.0031656430186345784), (967, 0.0037016868654854724), (968, 0.0030371462855974074), (969, 0.026668020919313456), (970, 0.003848938257211173), (971, 0.004689073793419558), (972, 0.022181283702240637), (973, 0.007791437832809837), (974, 0.0), (975, 0.003138741778804044), (976, 0.0), (977, 0.07380627312378485), (978, 0.008427337142992028), (979, 0.0), (980, 0.0034652133690578333), (981, 0.003018455396449712), (982, 0.005011302340439927), (983, 0.004474267107675937), (984, 0.10918828124940408), (985, 0.009046584328048782), (986, 0.021555611024468162), (987, 0.02086781170425598), (988, 0.03807986865393523), (989, 0.003297738325338299), (990, 0.005004365606776435), (991, 0.0035989925698204097), (992, 0.01219523122979274), (993, 0.0033774660413582415), (994, 0.003407261692400881), (995, 0.004462791710614851), (996, 0.006428322607877605), (997, 0.0), (998, 0.008965177546917644), (999, 0.008957840173933872), (1000, 0.0030156478720648012), (1001, 0.003195483188818037), (1002, 0.022736793674519154), (1003, 0.0), (1004, 0.0030051826985082425), (1005, 0.060181307867245994), (1006, 0.008262223084948788), (1007, 0.008325541950070545), (1008, 0.0039036014109352585), (1009, 0.03272199291137536), (1010, 0.017590995927712124), (1011, 0.0), (1012, 0.016609256077080418), (1013, 0.004813559890804363), (1014, 0.0), (1015, 0.003624291493117342), (1016, 0.0), (1017, 0.10714504244759851), (1018, 0.0), (1019, 0.022273308412360585), (1020, 0.0032166463903696985), (1021, 0.03752054782886088), (1022, 0.004534722505403064), (1023, 0.0037687858487013256), (1024, 0.004744760282924342), (1025, 0.004059602091355938), (1026, 0.003290023687681365), (1027, 0.0032060628800878576), (1028, 0.004496093936219606), (1029, 0.004310945983888521), (1030, 0.0032454873936033773), (1031, 0.0), (1032, 0.03594281335872669), (1033, 0.003213752079805781), (1034, 0.03171039795123935), (1035, 0.003257169386549054), (1036, 0.03589112471166731), (1037, 0.016366150980327614), (1038, 0.0309277132355911), (1039, 0.014766552576451252), (1040, 0.006176773160396093), (1041, 0.0031471958579054305), (1042, 0.01680314547453682), (1043, 0.03618514811763089), (1044, 0.035731654882750395), (1045, 0.0), (1046, 0.0), (1047, 0.004746367715120267), (1048, 0.0034841180794393414), (1049, 0.009377505710204978), (1050, 0.0028563398288210026), (1051, 0.0), (1052, 0.01862582179849617), (1053, 0.09509925197381275), (1054, 0.0), (1055, 0.0), (1056, 0.0), (1057, 0.012231540943426867), (1058, 0.0), (1059, 0.0033188598962841016), (1060, 0.020813398919224367), (1061, 0.004101222416496094), (1062, 0.0038090959954561487), (1063, 0.0), (1064, 0.004062040304938744), (1065, 0.01348337605229561), (1066, 0.0), (1067, 0.0), (1068, 0.0), (1069, 0.04605039013368612), (1070, 0.028943343141818123), (1071, 0.0035779618745743766), (1072, 0.0033207992030992242), (1073, 0.004331045766326233), (1074, 0.00456955127471164), (1075, 0.044845595113623064), (1076, 0.02825142437452288), (1077, 0.003425272239385482), (1078, 0.006585950953952385), (1079, 0.029713410841523867), (1080, 0.0030183065879754688), (1081, 0.0), (1082, 0.0), (1083, 0.003488456655188365), (1084, 0.018919013234747036), (1085, 0.0046441867347779275), (1086, 0.0), (1087, 0.0034086387013800325), (1088, 0.006760384826453522), (1089, 0.01754128912382568), (1090, 0.0), (1091, 0.01247969806347428), (1092, 0.0), (1093, 0.03060696461254204), (1094, 0.03358215665537482), (1095, 0.0), (1096, 0.0032618216455806612), (1097, 0.0), (1098, 0.0027340175912249813), (1099, 0.004830599010898528), (1100, 0.05093596777837719), (1101, 0.023173377361926015), (1102, 0.00332759447066681), (1103, 0.004908981234218686), (1104, 0.04968202849335856), (1105, 0.004623200090609493), (1106, 0.03166102429069115), (1107, 0.0031194780031433356), (1108, 0.004648210098287805), (1109, 0.013820666468296845), (1110, 0.014500393665931257), (1111, 0.0), (1112, 0.053793512141362576), (1113, 0.004397762607124601), (1114, 0.0030881467092527762), (1115, 0.00366048173131204), (1116, 0.0), (1117, 0.025099640596721585), (1118, 0.0), (1119, 0.0035796800788009263), (1120, 0.0), (1121, 0.004200541467556541), (1122, 0.003413459667660684), (1123, 0.02050189849463018), (1124, 0.008198976505107213), (1125, 0.015331812216543745), (1126, 0.004498422487964226), (1127, 0.0), (1128, 0.0), (1129, 0.0), (1130, 0.02038009456862263), (1131, 0.07211079635831255), (1132, 0.0031863903718433195), (1133, 0.01592056767557583), (1134, 0.010275263435699704), (1135, 0.015558606353365655), (1136, 0.018911912253881513), (1137, 0.0), (1138, 0.0033915990056345257), (1139, 0.0042848755170673885), (1140, 0.003589932982962053), (1141, 0.003583051865453858), (1142, 0.03267902623125), (1143, 0.0), (1144, 0.026399516991905594), (1145, 0.07065273514761836), (1146, 0.0), (1147, 0.025437427812124554), (1148, 0.0037855414387353774), (1149, 0.00419965686640394), (1150, 0.0), (1151, 0.047120766563880534), (1152, 0.028919556417069607), (1153, 0.0031940801065391683), (1154, 0.0), (1155, 0.004724837307054653), (1156, 0.003739734987454063), (1157, 0.004179871062823516), (1158, 0.0), (1159, 0.011281311954423367), (1160, 0.052303436679524654), (1161, 0.018161341318015514), (1162, 0.0), (1163, 0.014726125217328207), (1164, 0.009269068644163686), (1165, 0.004718881242519529), (1166, 0.004643697356892389), (1167, 0.0), (1168, 0.11509589066631915), (1169, 0.06887913184765855), (1170, 0.007917251133499602), (1171, 0.0), (1172, 0.0), (1173, 0.014438589050842377), (1174, 0.003427576445580181), (1175, 0.0033836527039950467), (1176, 0.0034224397265364337), (1177, 0.003158354331134457), (1178, 0.0038699294840547523), (1179, 0.05364423244848384), (1180, 0.03329861066511173), (1181, 0.0), (1182, 0.0034207724117721345), (1183, 0.0031120734457970845), (1184, 0.016829663390630974), (1185, 0.0), (1186, 0.07365036097222112), (1187, 0.00929157413465916), (1188, 0.003519113109440548), (1189, 0.0), (1190, 0.004331132558088608), (1191, 0.014810306123634251), (1192, 0.02908058556900641), (1193, 0.004773643329664883), (1194, 0.027253869100454672), (1195, 0.011816233045455786), (1196, 0.040094534794501514), (1197, 0.010481006289559145), (1198, 0.004509395003159744), (1199, 0.023048361183010926), (1200, 0.014501984516183473), (1201, 0.010318578285385132), (1202, 0.0028439270735460317), (1203, 0.007425288265540397), (1204, 0.008023818680847884), (1205, 0.004847192057112443), (1206, 0.028035822929838628), (1207, 0.0), (1208, 0.10888865405662224), (1209, 0.017976554807925087), (1210, 0.0), (1211, 0.004316639025924989), (1212, 0.029603416389621832), (1213, 0.045939151243474974), (1214, 0.0038199206347433036), (1215, 0.03157253858854049), (1216, 0.02784508056515441), (1217, 0.006865748513333169), (1218, 0.010874720913910733), (1219, 0.028275304786955686), (1220, 0.013314765226940164), (1221, 0.02436615985794451), (1222, 0.017874202203886264), (1223, 0.033240597701466), (1224, 0.04325890618070455), (1225, 0.003537020009622903), (1226, 0.0), (1227, 0.015938687193669785), (1228, 0.0), (1229, 0.0035003137263394943), (1230, 0.0), (1231, 0.0043653731952828494), (1232, 0.007969371085278), (1233, 0.0), (1234, 0.00837442310220153), (1235, 0.004424360848865049), (1236, 0.0), (1237, 0.00304353992650652), (1238, 0.004524503590898634), (1239, 0.0), (1240, 0.02704532889069418), (1241, 0.06027794945677919), (1242, 0.004167466405757626), (1243, 0.021059352704018867), (1244, 0.016457159170502354), (1245, 0.0032499954793899777), (1246, 0.004921377594267332), (1247, 0.0032383539253665167), (1248, 0.0032213368920596002), (1249, 0.013832278635423682), (1250, 0.0), (1251, 0.006998075269763621), (1252, 0.0033218378286234388), (1253, 0.0), (1254, 0.0034362409067122787), (1255, 0.01401677469227447), (1256, 0.004301284533437482), (1257, 0.036347179544517584), (1258, 0.01379014270846813), (1259, 0.015324415447484908), (1260, 0.005081692286396539), (1261, 0.007656875098900701), (1262, 0.016199435997855515), (1263, 0.0), (1264, 0.00403870792895793), (1265, 0.012389352950734227), (1266, 0.01162978904421834), (1267, 0.020105696012376353), (1268, 0.0036470346226635487), (1269, 0.0), (1270, 0.010450468848371565), (1271, 0.011960177111558933), (1272, 0.01600393826410851), (1273, 0.04733625506390802), (1274, 0.010825749625617345), (1275, 0.017021785033878533), (1276, 0.0), (1277, 0.0059139158939825204), (1278, 0.0033959221588212006), (1279, 0.0), (1280, 0.0), (1281, 0.0), (1282, 0.004870252796118405), (1283, 0.0), (1284, 0.007698409737365501), (1285, 0.0), (1286, 0.007752963557314228), (1287, 0.037785058488241575), (1288, 0.004144931174191758), (1289, 0.003742714720407493), (1290, 0.002970353717022724), (1291, 0.004219807957573853), (1292, 0.00447981633585625), (1293, 0.004378679051501716), (1294, 0.0034418922010996974), (1295, 0.0), (1296, 0.013780235495895098), (1297, 0.009118746702203823), (1298, 0.007864552582699436), (1299, 0.01674855147384792), (1300, 0.003852059789135792), (1301, 0.002929177395581884), (1302, 0.00462042801143717), (1303, 0.002703228441177043), (1304, 0.007910993497136181), (1305, 0.0027718054174952337), (1306, 0.01572572602025292), (1307, 0.0), (1308, 0.0072556139277825775), (1309, 0.007797769597732878), (1310, 0.004111622459389405), (1311, 0.00511067061408255), (1312, 0.0066738516105076424), (1313, 0.007792957002807), (1314, 0.0164932886391759), (1315, 0.0), (1316, 0.026651480270848002), (1317, 0.0064075639796352), (1318, 0.03800146724036611), (1319, 0.0032894375979950342), (1320, 0.003576120787459646), (1321, 0.005242968749765414), (1322, 0.0046374272862057565), (1323, 0.00391409388206206), (1324, 0.003576457776866119), (1325, 0.028345063395758097), (1326, 0.0037188518513313422), (1327, 0.0043319988801684235), (1328, 0.0), (1329, 0.008990978726600247), (1330, 0.004471968384454985), (1331, 0.00417552630207354), (1332, 0.012700782020565857), (1333, 0.004858007090767608), (1334, 0.0034418366318252186), (1335, 0.0033861918539072077), (1336, 0.030406560828983544), (1337, 0.043483913775186976), (1338, 0.003297639732844282), (1339, 0.08419763908299241), (1340, 0.00671612713590487), (1341, 0.003738950300907191), (1342, 0.0), (1343, 0.0), (1344, 0.0036837200723930123), (1345, 0.004545459463519425), (1346, 0.0), (1347, 0.0), (1348, 0.003968112507635218), (1349, 0.0431975403596516), (1350, 0.003265927099870375), (1351, 0.002472601808045374), (1352, 0.01832414130658804), (1353, 0.004235754884949184), (1354, 0.015466741941713952), (1355, 0.003433446033389528), (1356, 0.0028377765679372144), (1357, 0.018540695919200306), (1358, 0.0), (1359, 0.013393124001245257), (1360, 0.003051456119296098), (1361, 0.004627514118273261), (1362, 0.0033853397832022906), (1363, 0.0043234162840123805), (1364, 0.008211709604893966), (1365, 0.002831253410109244), (1366, 0.0030243794854895993), (1367, 0.006604207700816243), (1368, 0.004395382788268435), (1369, 0.0027441732671237627), (1370, 0.006818960969574586), (1371, 0.005060439876087537), (1372, 0.007418528009545935), (1373, 0.004413417841612061), (1374, 0.0), (1375, 0.003186660029642807), (1376, 0.004325754199923866), (1377, 0.0027046071610253184), (1378, 0.0033499599224392383), (1379, 0.0184808095017472), (1380, 0.0), (1381, 0.0), (1382, 0.00816289173670379), (1383, 0.0037847446370309905), (1384, 0.010145519988353386), (1385, 0.003357024157382563), (1386, 0.0), (1387, 0.0030267215963415005), (1388, 0.004575394443323596), (1389, 0.004797141716424648), (1390, 0.031155562108347613), (1391, 0.0), (1392, 0.011081666899238892), (1393, 0.0), (1394, 0.007006642210445694), (1395, 0.0), (1396, 0.025520235525438424), (1397, 0.006838876178705373), (1398, 0.04438114634640436), (1399, 0.11438061160476365), (1400, 0.0035342304341205062), (1401, 0.016847565196866168), (1402, 0.0035157896557578825), (1403, 0.006076110343545301), (1404, 0.020391356404696394), (1405, 0.004005014804182615), (1406, 0.0), (1407, 0.0), (1408, 0.0077021901419016825), (1409, 0.045585300373487514), (1410, 0.062020728807095735), (1411, 0.023865337303459303), (1412, 0.0), (1413, 0.014971628780473575), (1414, 0.00299111757489543), (1415, 0.002746983335934424), (1416, 0.020614561576934025), (1417, 0.0026171842582665677), (1418, 0.012887619912044353), (1419, 0.0), (1420, 0.0045370147683890085), (1421, 0.02891215597359514), (1422, 0.012135550808721838), (1423, 0.039103173153315844), (1424, 0.005200970001640674), (1425, 0.01623075155754973), (1426, 0.0), (1427, 0.006482794164694416), (1428, 0.0), (1429, 0.03980708100601506), (1430, 0.0), (1431, 0.0), (1432, 0.01661941339103371), (1433, 0.0031192527829525356), (1434, 0.0030611050889333283), (1435, 0.0), (1436, 0.0), (1437, 0.005162066021182425), (1438, 0.0033204217778113458), (1439, 0.0035105223316129032), (1440, 0.003404567020467825), (1441, 0.0049109719319275266), (1442, 0.04099388617265258), (1443, 0.0), (1444, 0.004533098067358116), (1445, 0.004759797703002046), (1446, 0.03310573467427033), (1447, 0.03872117553975429), (1448, 0.03516271101905709), (1449, 0.0), (1450, 0.042617383384972424), (1451, 0.0), (1452, 0.012048940242844643), (1453, 0.023300142372139863), (1454, 0.003682621677191031), (1455, 0.0), (1456, 0.0031120371473945144), (1457, 0.004242479738983927), (1458, 0.009648081739186288), (1459, 0.0), (1460, 0.0), (1461, 0.004606531165210058), (1462, 0.003075264648056444), (1463, 0.04926235661377191), (1464, 0.0027464267747978385), (1465, 0.029950994907873795), (1466, 0.0), (1467, 0.0), (1468, 0.004037991687607003), (1469, 0.004716106891494987), (1470, 0.0), (1471, 0.02843023202722236), (1472, 0.0033917878068460564), (1473, 0.004614252419829648), (1474, 0.0037390901480421138), (1475, 0.020973794256482537), (1476, 0.019561279948217696), (1477, 0.007294352848474867), (1478, 0.0032106364281103265), (1479, 0.008673796475588117), (1480, 0.010595435081613357), (1481, 0.0032450580762490183), (1482, 0.003981939895678389), (1483, 0.021404757626580506), (1484, 0.003546598339462039), (1485, 0.0041100751432488055), (1486, 0.005016977603501524), (1487, 0.0043191939788558235), (1488, 0.012495261473485139), (1489, 0.008886349452396997), (1490, 0.0418240009795766), (1491, 0.004964459716971636), (1492, 0.003942336601509915), (1493, 0.0), (1494, 0.008147125755730851), (1495, 0.0046347362125540815), (1496, 0.00428082746667985), (1497, 0.07128103529454712), (1498, 0.003727483837636224), (1499, 0.05535996115585705), (1500, 0.0033127455823572538), (1501, 0.004549791407524361), (1502, 0.017705432278868737), (1503, 0.003039881930227789), (1504, 0.0), (1505, 0.004568744933061204), (1506, 0.005415751925220749), (1507, 0.005216803761335977), (1508, 0.008972739133775444), (1509, 0.0022904668728807695), (1510, 0.003384781220422002), (1511, 0.0), (1512, 0.0), (1513, 0.008238166376220768), (1514, 0.07762678509763617), (1515, 0.026811563199176575), (1516, 0.008144525916003937), (1517, 0.02883133680346824), (1518, 0.00851732084370817), (1519, 0.003100442164960866), (1520, 0.0048903047950313895), (1521, 0.00393447972229805), (1522, 0.0), (1523, 0.0038919355495168175), (1524, 0.0041722264582514795), (1525, 0.0046708178685450725), (1526, 0.02037531149787064), (1527, 0.09557162915110978), (1528, 0.0071830269561265645), (1529, 0.0), (1530, 0.0), (1531, 0.03666570735322171), (1532, 0.004324256051840083), (1533, 0.008022106718495878), (1534, 0.0), (1535, 0.0), (1536, 0.0), (1537, 0.008466940743038899), (1538, 0.003043310140109005), (1539, 0.011113932143927245), (1540, 0.0), (1541, 0.0), (1542, 0.00471659647821185), (1543, 0.007286092432051586), (1544, 0.015315781459752067), (1545, 0.004368485557926786), (1546, 0.0), (1547, 0.04465236310826347), (1548, 0.0), (1549, 0.004493681784937654), (1550, 0.0033060907848695966), (1551, 0.0), (1552, 0.004355569778125593), (1553, 0.0029590518394319917), (1554, 0.0), (1555, 0.003121218435226924), (1556, 0.010676833039269227), (1557, 0.07420952766023545), (1558, 0.003116698870848892), (1559, 0.0), (1560, 0.005133558756703891), (1561, 0.004378751696640055), (1562, 0.0), (1563, 0.009898595781367975), (1564, 0.00466565470073436), (1565, 0.0028658537435259277), (1566, 0.0), (1567, 0.004126652953145344), (1568, 0.0), (1569, 0.014325366661075044), (1570, 0.05795204639567192), (1571, 0.006538345551501854), (1572, 0.008414852527282317), (1573, 0.0), (1574, 0.003383427714126202), (1575, 0.0), (1576, 0.0), (1577, 0.016094157124125777), (1578, 0.016804066465983876), (1579, 0.0), (1580, 0.023803967704411032), (1581, 0.008620269761675247), (1582, 0.007592360443124243), (1583, 0.06677850489287034), (1584, 0.0), (1585, 0.009323442291524701), (1586, 0.0036395082162122908), (1587, 0.004637169012621454), (1588, 0.011910753557346679), (1589, 0.00446245536541704), (1590, 0.0), (1591, 0.013202102694918607), (1592, 0.03615288358208534), (1593, 0.004063185531245948), (1594, 0.00885439186271993), (1595, 0.003034190668584986), (1596, 0.004839105826033639), (1597, 0.018598893631991367), (1598, 0.06347940344842631), (1599, 0.004612405518663056), (1600, 0.0), (1601, 0.004043641928114999), (1602, 0.04187276374990763), (1603, 0.0), (1604, 0.01662335364035215), (1605, 0.0030290122891456833), (1606, 0.01060438536514947), (1607, 0.0), (1608, 0.00295946676036519), (1609, 0.004861364944735978), (1610, 0.004217795670331424), (1611, 0.004603816729331211), (1612, 0.0033386962283458547), (1613, 0.03012151914587183), (1614, 0.0048734504644056655), (1615, 0.0053947620367230005), (1616, 0.006949797990764136), (1617, 0.03715122338824237), (1618, 0.038012382865329535), (1619, 0.021440644965941322), (1620, 0.0031350665582317193), (1621, 0.02956559272361614), (1622, 0.0), (1623, 0.0), (1624, 0.0027283390718342037), (1625, 0.017620551139131125), (1626, 0.004127805621885867), (1627, 0.08448446781714006), (1628, 0.0030678026908064473), (1629, 0.003460925725890933), (1630, 0.01081623913231496), (1631, 0.0), (1632, 0.0), (1633, 0.0), (1634, 0.0123532563669619), (1635, 0.0), (1636, 0.0), (1637, 0.020710606656409603), (1638, 0.021239149790840777), (1639, 0.0038565720090160288), (1640, 0.004920301385332332), (1641, 0.03070592537893621), (1642, 0.0073193024498242505), (1643, 0.0035199677887785483), (1644, 0.004550408420785414), (1645, 0.026813848770705275), (1646, 0.0036654392118573697), (1647, 0.0), (1648, 0.02439087652067308), (1649, 0.03793791030349254), (1650, 0.0031089961046990335), (1651, 0.0), (1652, 0.030037286687352126), (1653, 0.0032695546757287954), (1654, 0.004348442786900698), (1655, 0.004078419561725524), (1656, 0.04751165118892675), (1657, 0.010295362394093243), (1658, 0.04588071250446805), (1659, 0.0), (1660, 0.008262909960195382), (1661, 0.0), (1662, 0.0), (1663, 0.007450256163726753), (1664, 0.0411079012647452), (1665, 0.0031392629781054823), (1666, 0.003306340566500983), (1667, 0.0030899721932891866), (1668, 0.004386201261647675), (1669, 0.0), (1670, 0.015526759887853068), (1671, 0.04366958858203496), (1672, 0.0030692948578110108), (1673, 0.004241034273820986), (1674, 0.019874642569931017), (1675, 0.0030543975891292687), (1676, 0.003637399764504148), (1677, 0.006221817220772547), (1678, 0.014667842274420351), (1679, 0.0049359782639509945), (1680, 0.0030450078377623415), (1681, 0.0), (1682, 0.0031463265098832746), (1683, 0.020660975980256555), (1684, 0.00399046706410576), (1685, 0.0035473219841575514), (1686, 0.0), (1687, 0.0035548726553127946), (1688, 0.008064246018157138), (1689, 0.02237028684064311), (1690, 0.011229562776686913), (1691, 0.002860811164459769), (1692, 0.0), (1693, 0.007425282000690928), (1694, 0.0696755488748543), (1695, 0.023439128282100975), (1696, 0.0), (1697, 0.016422879720487747), (1698, 0.013781334613943142), (1699, 0.0), (1700, 0.015205500378453406), (1701, 0.01438676700333475), (1702, 0.03242133890657402), (1703, 0.02231972623726375), (1704, 0.0), (1705, 0.08299027174766259), (1706, 0.003383344095046108), (1707, 0.04633586920375492), (1708, 0.04844532520873037), (1709, 0.004270666905138081), (1710, 0.003175976753295154), (1711, 0.004204496425417144), (1712, 0.0035838123407715933), (1713, 0.0), (1714, 0.004165040670051757), (1715, 0.008160073759332878), (1716, 0.003760146674595123), (1717, 0.0034530219429563455), (1718, 0.022349258046306955), (1719, 0.0311779093987298), (1720, 0.0), (1721, 0.01492973445295833), (1722, 0.007986052327185949), (1723, 0.0), (1724, 0.0), (1725, 0.012602260985483192), (1726, 0.004674753678778791), (1727, 0.008222536936833027), (1728, 0.03997758699368635), (1729, 0.004149187308680414), (1730, 0.06419922040381165), (1731, 0.00488408605296925), (1732, 0.0048689392459609435), (1733, 0.03542820293855031), (1734, 0.004773374156715049), (1735, 0.004697993645849391), (1736, 0.0035099178723107492), (1737, 0.1419754187281768), (1738, 0.015146385666399576), (1739, 0.003014674477799393), (1740, 0.02052351880406), (1741, 0.004592416907892708), (1742, 0.020397056970832474), (1743, 0.0028538752251246564), (1744, 0.0075444240682823694), (1745, 0.0), (1746, 0.004251642083097252), (1747, 0.002609242843181252), (1748, 0.06451621713744903), (1749, 0.0), (1750, 0.06454166701773621), (1751, 0.004609097769516801), (1752, 0.003766464851432683), (1753, 0.0), (1754, 0.016250801891981536), (1755, 0.0), (1756, 0.010749623558171457), (1757, 0.004487702942383855), (1758, 0.005267846506156782), (1759, 0.011776656120482343), (1760, 0.04464232503213484), (1761, 0.0), (1762, 0.002991047424446879), (1763, 0.002871162889293246), (1764, 0.04776536554251113), (1765, 0.04407012667331548), (1766, 0.005027084505527368), (1767, 0.032964084117603924), (1768, 0.0034471572235474143), (1769, 0.021017456215381577), (1770, 0.0), (1771, 0.00444138101885219), (1772, 0.0), (1773, 0.0), (1774, 0.002560011555114545), (1775, 0.03650569861990639), (1776, 0.0029527560822249143), (1777, 0.004680176051020149), (1778, 0.004243210950626418), (1779, 0.0405154034114778), (1780, 0.02500953455236881), (1781, 0.029197639374780367), (1782, 0.0030665151732087773), (1783, 0.004286391340996367), (1784, 0.0041366607987544015), (1785, 0.004310674839479684), (1786, 0.005010346551299156), (1787, 0.0043147230552274965), (1788, 0.004283790581850703), (1789, 0.0), (1790, 0.005430648051168113), (1791, 0.0048498257944060595), (1792, 0.028997011615817903), (1793, 0.00314247038727544), (1794, 0.004168480550259864), (1795, 0.0), (1796, 0.025324683609891846), (1797, 0.035381645247195594), (1798, 0.0035993598045041654), (1799, 0.0), (1800, 0.0), (1801, 0.0028157236563882268), (1802, 0.019418356968973385), (1803, 0.009950181021332032), (1804, 0.033966565516307015), (1805, 0.0036529454311960644), (1806, 0.004973445243058926), (1807, 0.037326897892344224), (1808, 0.019346527580202128), (1809, 0.0), (1810, 0.010898357362939471), (1811, 0.02974962222536528), (1812, 0.0), (1813, 0.019024265337100842), (1814, 0.013583059420876259), (1815, 0.0), (1816, 0.032225334014652225), (1817, 0.0), (1818, 0.004316956479212959), (1819, 0.0031236080471268622), (1820, 0.0), (1821, 0.04821389267740315), (1822, 0.008348239012057987), (1823, 0.0), (1824, 0.0042821501212068095), (1825, 0.0), (1826, 0.003031816792426482), (1827, 0.007151391067583053), (1828, 0.02844977717965623), (1829, 0.0), (1830, 0.007007316040518462), (1831, 0.003315088738419034), (1832, 0.0), (1833, 0.006771837793097336), (1834, 0.004516233115578202), (1835, 0.0), (1836, 0.043587721478022076), (1837, 0.00451084593551385), (1838, 0.0), (1839, 0.004350420953193628), (1840, 0.07340552563725328), (1841, 0.0395617011494078), (1842, 0.004457265280759644), (1843, 0.003802790215251224), (1844, 0.0467622186420591), (1845, 0.012475077279292587), (1846, 0.0), (1847, 0.0047034623912837956), (1848, 0.020784539187312805), (1849, 0.004484729283932752), (1850, 0.013761534404482642), (1851, 0.008233278034430146), (1852, 0.0), (1853, 0.0035489014073548947), (1854, 0.03161472553060265), (1855, 0.004261000877658437), (1856, 0.004844694161736504), (1857, 0.0), (1858, 0.01650692148086001), (1859, 0.012020068002931322), (1860, 0.08315075334669023), (1861, 0.029638902955837373), (1862, 0.0037550075237655525), (1863, 0.0), (1864, 0.00322479457104114), (1865, 0.018251898814345087), (1866, 0.03030730727471899), (1867, 0.00449903340343924), (1868, 0.008532963329639053), (1869, 0.0030356313491981296), (1870, 0.004071663677770993), (1871, 0.006294392624819541), (1872, 0.003391097867495413), (1873, 0.0), (1874, 0.003623419051046746), (1875, 0.003078878971107083), (1876, 0.003372068276721425), (1877, 0.007546494124562158), (1878, 0.0075089245269780655), (1879, 0.0046087621470973505), (1880, 0.004441573339302373), (1881, 0.01668782096492133), (1882, 0.003285035175952238), (1883, 0.04757651080329814), (1884, 0.0201627484482356), (1885, 0.017285053789876312), (1886, 0.08114946442028856), (1887, 0.0037995276329743674), (1888, 0.008950133205291741), (1889, 0.00462501440066899), (1890, 0.003720310020958013), (1891, 0.0033237162073712265), (1892, 0.0030445026219980574), (1893, 0.04974696947731245), (1894, 0.0), (1895, 0.15580082824309466), (1896, 0.07055107502299568), (1897, 0.0036352613029780943), (1898, 0.004259708162137617), (1899, 0.004246896949467871), (1900, 0.004385932634763114), (1901, 0.0), (1902, 0.04478768521293092), (1903, 0.004261495453923615), (1904, 0.0), (1905, 0.008621943235114742), (1906, 0.01600900316093384), (1907, 0.008512564449024505), (1908, 0.0), (1909, 0.003805557955505493), (1910, 0.0), (1911, 0.04965559107951903), (1912, 0.15940592523754735), (1913, 0.00449562240766676), (1914, 0.0322502944853621), (1915, 0.02027727954366461), (1916, 0.0035331717471893294), (1917, 0.004676297785057678), (1918, 0.015582367425613787), (1919, 0.005527469291721514), (1920, 0.0031000508636255713), (1921, 0.013183983979337678), (1922, 0.033283803085710384), (1923, 0.008782987133335697), (1924, 0.0038303897520491725), (1925, 0.0), (1926, 0.004840713916632033), (1927, 0.0), (1928, 0.0418762830476469), (1929, 0.03293382177977989), (1930, 0.011523563761237416), (1931, 0.003425621378962626), (1932, 0.0), (1933, 0.011111595961554902), (1934, 0.002993721845022083), (1935, 0.018617377279223753), (1936, 0.02836772359034498), (1937, 0.0), (1938, 0.003798196958773822), (1939, 0.00604574703760013), (1940, 0.0), (1941, 0.005452452093223226), (1942, 0.043311545970554054), (1943, 0.02812406986432727), (1944, 0.003783618782869463), (1945, 0.011485850851765273), (1946, 0.02216725283513777), (1947, 0.049464700253195396), (1948, 0.0), (1949, 0.004722840608377687), (1950, 0.016433610393823704), (1951, 0.013223928832890067), (1952, 0.018054422224386316), (1953, 0.011075980146086671), (1954, 0.03774521565972151), (1955, 0.016759004432369256), (1956, 0.0292912580180099), (1957, 0.028449459008168913), (1958, 0.0), (1959, 0.003626796237304137), (1960, 0.003712199779946497), (1961, 0.016436447416243966), (1962, 0.0863371725062729), (1963, 0.02996898667347576), (1964, 0.01818679741555705), (1965, 0.004758366744905669), (1966, 0.0), (1967, 0.0032571559413228915), (1968, 0.003937428936046826), (1969, 0.03181908142502173), (1970, 0.0), (1971, 0.05866144639336069), (1972, 0.0), (1973, 0.004285480706424706), (1974, 0.004163226974542444), (1975, 0.0), (1976, 0.0), (1977, 0.0029851777166920806), (1978, 0.004060287186625343), (1979, 0.0), (1980, 0.007093242896034484), (1981, 0.027325792109679017), (1982, 0.04721575803771943), (1983, 0.0034918910682310822), (1984, 0.004187053771856749), (1985, 0.039565230660159496), (1986, 0.004505329182441127), (1987, 0.004181691372691802), (1988, 0.0), (1989, 0.026482189942692216), (1990, 0.0), (1991, 0.0), (1992, 0.004255957719270413), (1993, 0.0), (1994, 0.004053349099007575), (1995, 0.03966219815354484), (1996, 0.0), (1997, 0.0036427104952015156), (1998, 0.0), (1999, 0.005145960749739348), (2000, 0.01719053635631617), (2001, 0.0039227680582632), (2002, 0.004768010940900014), (2003, 0.04473801175243676), (2004, 0.003151208196050426), (2005, 0.004096306527556672), (2006, 0.0729384577159429), (2007, 0.004158176682695287), (2008, 0.0032605863005081225), (2009, 0.005395545388254345), (2010, 0.04351694215876517), (2011, 0.0666736018873632), (2012, 0.00523899025502872), (2013, 0.0), (2014, 0.07182895269452463), (2015, 0.0), (2016, 0.003480635002512611), (2017, 0.0), (2018, 0.027621276199171315), (2019, 0.0045243119913213154), (2020, 0.0), (2021, 0.004931095553680545), (2022, 0.0), (2023, 0.003157321798646159), (2024, 0.014126565230808186), (2025, 0.0037579446958461095), (2026, 0.004551936881960125), (2027, 0.03040292688592649), (2028, 0.04387857983685865), (2029, 0.037152487363422686), (2030, 0.0), (2031, 0.013312048538644568), (2032, 0.01067671860158963), (2033, 0.0041437777838729374), (2034, 0.05529188829057185), (2035, 0.018274873674105817), (2036, 0.00414695844837745), (2037, 0.0036538781977372894), (2038, 0.0), (2039, 0.018145714637068988), (2040, 0.0037040618416869903), (2041, 0.004620060273316113), (2042, 0.004753682082526717), (2043, 0.01930804098063396), (2044, 0.012108417711353016), (2045, 0.0034073877281898335), (2046, 0.020772361736115463), (2047, 0.0029627579340917648), (2048, 0.020707682412890522), (2049, 0.008718539293469225), (2050, 0.0043438441826547805), (2051, 0.0038093286115028755), (2052, 0.004248501616597871), (2053, 0.015230389388825278), (2054, 0.0), (2055, 0.0030387366208321576), (2056, 0.030059294827412448), (2057, 0.0), (2058, 0.004111016267192385), (2059, 0.003973066147456957), (2060, 0.07480459060580384), (2061, 0.0033958914386893716), (2062, 0.0), (2063, 0.004130029004687954), (2064, 0.01175173583589872), (2065, 0.0030122309931066866), (2066, 0.0), (2067, 0.021701775231886232), (2068, 0.01834681730764924), (2069, 0.0032941897054718236), (2070, 0.002867810781784947), (2071, 0.01484294523761426), (2072, 0.022353195329854487), (2073, 0.015034872123550674), (2074, 0.0), (2075, 0.004393183634754326), (2076, 0.03593736158829996), (2077, 0.005555776070469239), (2078, 0.0), (2079, 0.005200443456473114), (2080, 0.0032394144564777206), (2081, 0.004560377028788352), (2082, 0.03673731511239264), (2083, 0.05766783905478391), (2084, 0.012302293112273894), (2085, 0.0), (2086, 0.004851923374567004), (2087, 0.0572424635334388), (2088, 0.0035127583908831843), (2089, 0.003939697233944645), (2090, 0.004754499940682779), (2091, 0.03357340220725848), (2092, 0.004679783457090839), (2093, 0.004213225158019466), (2094, 0.0), (2095, 0.0), (2096, 0.003573657248923272), (2097, 0.016053248726921668), (2098, 0.0038967642554821763), (2099, 0.007391781743511716), (2100, 0.0234656201259208), (2101, 0.004985211550911603), (2102, 0.003277738395504804), (2103, 0.0032647187997226794), (2104, 0.02148656245329523), (2105, 0.03525994348964894), (2106, 0.009418748782630803), (2107, 0.015197511783258073), (2108, 0.04729401992580627), (2109, 0.0033797230359349706), (2110, 0.01045902144530663), (2111, 0.012208927788125684), (2112, 0.003700563706780133), (2113, 0.024410003483955542), (2114, 0.0), (2115, 0.01814814280671634), (2116, 0.008535362456315), (2117, 0.0032160576517281506), (2118, 0.03276426244675919), (2119, 0.0), (2120, 0.016977312189176832), (2121, 0.014044251455792441), (2122, 0.007983694500715458), (2123, 0.003470370680820425), (2124, 0.004882147435223726), (2125, 0.0041664535559951185), (2126, 0.0034577072194447002), (2127, 0.018109626608782316), (2128, 0.028476763870262146), (2129, 0.055820022301716656), (2130, 0.0), (2131, 0.007597090785386879), (2132, 0.0028010430617229805), (2133, 0.003171269325590389), (2134, 0.10657207469115043), (2135, 0.0), (2136, 0.0305255137631904), (2137, 0.011208722660017902), (2138, 0.005163233204570341), (2139, 0.0), (2140, 0.004331638225701368), (2141, 0.036373168878418065), (2142, 0.03497784001935693), (2143, 0.007561138226019842), (2144, 0.03838530229604895), (2145, 0.008091785797902623), (2146, 0.0067584433758994915), (2147, 0.04166907165704141), (2148, 0.024734107914693864), (2149, 0.035556190254280404), (2150, 0.004411522958637896), (2151, 0.01328887775666077), (2152, 0.015493165276652933), (2153, 0.0045804581062138605), (2154, 0.004294596414480863), (2155, 0.003411417292757905), (2156, 0.004056492157409383), (2157, 0.006649844122986693), (2158, 0.005311565459862266), (2159, 0.0036971347304003734), (2160, 0.004286723530166936), (2161, 0.004056351694174747), (2162, 0.003600508060803491), (2163, 0.0029916598681064012), (2164, 0.005099013438887612), (2165, 0.0), (2166, 0.007447961762727011), (2167, 0.0043775539532927244), (2168, 0.01365304284920444), (2169, 0.021711520830949547), (2170, 0.004260212778663795), (2171, 0.08747370973540539), (2172, 0.0), (2173, 0.09519330662127858), (2174, 0.0033233555101419314), (2175, 0.0320443333820255), (2176, 0.0037012277884197037), (2177, 0.009800032874192625), (2178, 0.011087872494961591), (2179, 0.004279588804280237), (2180, 0.0), (2181, 0.01293906737764302), (2182, 0.0), (2183, 0.004224445490136058), (2184, 0.0), (2185, 0.0040811028999916486), (2186, 0.04449708688438611), (2187, 0.009076356470172303), (2188, 0.018003778898962323), (2189, 0.004706454434109967), (2190, 0.041019308339148665), (2191, 0.029696033108448077), (2192, 0.007964151344972078), (2193, 0.007980305302137126), (2194, 0.004724801107603149), (2195, 0.03795424870805369), (2196, 0.0035455821242005043), (2197, 0.0), (2198, 0.03929295060858819), (2199, 0.056899164617158396), (2200, 0.004655317030940119), (2201, 0.007356726664143382), (2202, 0.00858343249291155), (2203, 0.004168524039613115), (2204, 0.033278698407314365), (2205, 0.0), (2206, 0.0), (2207, 0.004170656565274258), (2208, 0.022598564476429522), (2209, 0.04743759814818489), (2210, 0.003408896109428272), (2211, 0.0706886730381141), (2212, 0.003345539083291441), (2213, 0.017941429217908738), (2214, 0.0036454316932233322), (2215, 0.004275982817419318), (2216, 0.08851047101046769), (2217, 0.04582585441558146), (2218, 0.04866463055665558), (2219, 0.02302065026996848), (2220, 0.0), (2221, 0.002787321425573903), (2222, 0.01647988430645927), (2223, 0.036738380526384964), (2224, 0.0031815036818729023), (2225, 0.004172575509386548), (2226, 0.03606740908845572), (2227, 0.0037854343375817753), (2228, 0.0058960781653191845), (2229, 0.0036640577797840404), (2230, 0.020662016276912762), (2231, 0.0), (2232, 0.038314952373981484), (2233, 0.0), (2234, 0.009357706131251923), (2235, 0.0), (2236, 0.007176283900765686), (2237, 0.02765690993656091), (2238, 0.0), (2239, 0.0), (2240, 0.00693998559883351), (2241, 0.004737204420520769), (2242, 0.00751687793422835), (2243, 0.0), (2244, 0.03816544727120212), (2245, 0.011010231418994702), (2246, 0.0), (2247, 0.026887784871333496), (2248, 0.034211883856829745), (2249, 0.004764116515389349), (2250, 0.014720282396587056), (2251, 0.030014733245428755), (2252, 0.0), (2253, 0.013584735090780007), (2254, 0.040836216007040814), (2255, 0.0043256852588407875), (2256, 0.010242322031757177), (2257, 0.004316680829445898), (2258, 0.03382517581256483), (2259, 0.0), (2260, 0.008459918873753795), (2261, 0.03356682535032331), (2262, 0.004104147455554449), (2263, 0.0), (2264, 0.007025874907801679), (2265, 0.007179375511314609), (2266, 0.03417638119361868), (2267, 0.0), (2268, 0.003238072227560003), (2269, 0.0038913157020444744), (2270, 0.02791767891055355), (2271, 0.0043112697031432124), (2272, 0.04705240941736732), (2273, 0.0), (2274, 0.004191662335819214), (2275, 0.0), (2276, 0.0), (2277, 0.003398699184353083), (2278, 0.0), (2279, 0.031823160779734835), (2280, 0.0045127379304965), (2281, 0.07696400109499071), (2282, 0.0058530095923058165), (2283, 0.0), (2284, 0.007951035067098646), (2285, 0.013274275396793513), (2286, 0.06320004147568402), (2287, 0.002797212829807389), (2288, 0.0035463938931269904), (2289, 0.0033295899876366135), (2290, 0.0046487692864113465), (2291, 0.0), (2292, 0.043398130451241274), (2293, 0.03269060590767538), (2294, 0.05919282943879732), (2295, 0.0034061136255883586), (2296, 0.013402618949789504), (2297, 0.004465321696408203), (2298, 0.004495409301288128), (2299, 0.005361501200823662), (2300, 0.0), (2301, 0.003066967344491567), (2302, 0.008982513202898298), (2303, 0.007458651084293589), (2304, 0.010179958163991063), (2305, 0.04489923045966651), (2306, 0.004241949653023701), (2307, 0.07573446163663199), (2308, 0.0057011385895646225), (2309, 0.007554501814031985), (2310, 0.052351554555176705), (2311, 0.03692871947046664), (2312, 0.0065586396095541006), (2313, 0.0034040083778723944), (2314, 0.0), (2315, 0.004198957880705452), (2316, 0.0), (2317, 0.0031022497501707494), (2318, 0.015043132191488711), (2319, 0.01532515356745769), (2320, 0.04953526359448777), (2321, 0.00344469238299783), (2322, 0.02820864716459353), (2323, 0.003025652829571433), (2324, 0.008651795198736106), (2325, 0.004729253591484851), (2326, 0.032785293517550884), (2327, 0.00424734901504725), (2328, 0.0), (2329, 0.004468344887229574), (2330, 0.0), (2331, 0.0037377725846129755), (2332, 0.04392279350361082), (2333, 0.005423013391725245), (2334, 0.003450952382548074), (2335, 0.03606497717125657), (2336, 0.0045299885237697285), (2337, 0.0), (2338, 0.003029201828251726), (2339, 0.005174084485734333), (2340, 0.042715704580531394), (2341, 0.0), (2342, 0.0), (2343, 0.0), (2344, 0.003359776527767918), (2345, 0.01188358303887044), (2346, 0.0038121118013808657), (2347, 0.01983053796728863), (2348, 0.05087250073124075), (2349, 0.05268998091813651), (2350, 0.06538093861473052), (2351, 0.005437600748157956), (2352, 0.02085554696020111), (2353, 0.004690330166815453), (2354, 0.0033561501760289865), (2355, 0.002795220452659994), (2356, 0.0037480649282007335), (2357, 0.005171717783617988), (2358, 0.0), (2359, 0.0027984381667655158), (2360, 0.004026089419926585), (2361, 0.022881509386753512), (2362, 0.0030734023112530557), (2363, 0.005629730163314283), (2364, 0.003662758428695574), (2365, 0.033176145388866284), (2366, 0.004040020364837818), (2367, 0.007570102873788212), (2368, 0.06233049569236913), (2369, 0.0), (2370, 0.003493050093610623), (2371, 0.004934890773804212), (2372, 0.0), (2373, 0.003799173494838663), (2374, 0.020389956596673968), (2375, 0.008688111460572839), (2376, 0.0), (2377, 0.0036162846322406465), (2378, 0.02538707877374701), (2379, 0.011413259142926388), (2380, 0.004765071016534551), (2381, 0.005079141109420243), (2382, 0.03159685515471609), (2383, 0.0), (2384, 0.005073694291865109), (2385, 0.046038434198836374), (2386, 0.03919647677173049), (2387, 0.09302496281202226), (2388, 0.050836297981727), (2389, 0.004063549211983861), (2390, 0.054213930888799625), (2391, 0.00844655838038435), (2392, 0.004377695017361338), (2393, 0.035336916635047615), (2394, 0.00833307016754867), (2395, 0.006301523941089338), (2396, 0.042997415800482094), (2397, 0.05204032028391741), (2398, 0.013755506951845782), (2399, 0.007300039013144953), (2400, 0.0037922030065066755), (2401, 0.03698397591235433), (2402, 0.038588695609823406), (2403, 0.10298081602720031), (2404, 0.02626117959090333), (2405, 0.059085267583487665), (2406, 0.003938280023535046), (2407, 0.004634615544662686), (2408, 0.0), (2409, 0.004338814817819606), (2410, 0.008675714179530336), (2411, 0.008954938060269316), (2412, 0.0029112558516921753), (2413, 0.0), (2414, 0.0), (2415, 0.026176204377759943), (2416, 0.0033044458572160746), (2417, 0.044556279892630425), (2418, 0.015637155890489033), (2419, 0.003522467012732624), (2420, 0.005102791760894925), (2421, 0.011614551291896185), (2422, 0.025362143028920453), (2423, 0.009966498186202523), (2424, 0.004129170675818208), (2425, 0.004345360286761606), (2426, 0.004106109508290909), (2427, 0.01713562493458597), (2428, 0.0037001100836141507), (2429, 0.0), (2430, 0.020412379312729233), (2431, 0.004688589291908167), (2432, 0.0), (2433, 0.02535934308004549), (2434, 0.05093964408858265), (2435, 0.004498482554872622), (2436, 0.008838917498701635), (2437, 0.003805599138328891), (2438, 0.004152947033268344), (2439, 0.003740175679572341), (2440, 0.011436467378810631), (2441, 0.03450463952199603), (2442, 0.01060161398043097), (2443, 0.0022019350913451696), (2444, 0.004646839765191975), (2445, 0.0041929134289154435), (2446, 0.05466229188907855), (2447, 0.002875615902719423), (2448, 0.004378671191880865), (2449, 0.004585061287599338), (2450, 0.0042349124201157915), (2451, 0.0), (2452, 0.03532308694464283), (2453, 0.0030815240936461694), (2454, 0.004048613072976736), (2455, 0.020250937458270755), (2456, 0.004701859731850023), (2457, 0.003015989190617176), (2458, 0.004964517694204692), (2459, 0.04631864958886853), (2460, 0.034212250805094824), (2461, 0.007667832844442902), (2462, 0.0), (2463, 0.00329566748772475), (2464, 0.00867336639193672), (2465, 0.015377032566465136), (2466, 0.03908150504028138), (2467, 0.007630004772503339), (2468, 0.005322746984065957), (2469, 0.0026250440051900584), (2470, 0.0), (2471, 0.0), (2472, 0.004570013919929837), (2473, 0.003193108906274256), (2474, 0.016550464567470002), (2475, 0.003605647906302631), (2476, 0.0), (2477, 0.0036224517298346763), (2478, 1.0), (2479, 0.0050870638831401), (2480, 0.0), (2481, 0.0027921036684899806), (2482, 0.15287908799495706), (2483, 0.006007845485327592), (2484, 0.004482932697242159), (2485, 0.0), (2486, 0.04482149614021172), (2487, 0.004616847946550197), (2488, 0.009664892629696284), (2489, 0.0034168387047141214), (2490, 0.01139843902255239), (2491, 0.00420015359465957), (2492, 0.007957861700855398), (2493, 0.005027783062291704), (2494, 0.008526323893983195), (2495, 0.01930597726949782), (2496, 0.003135461458257567), (2497, 0.0042073896526760345), (2498, 0.011228505425696781), (2499, 0.009687202207457148), (2500, 0.006355996825673885), (2501, 0.0), (2502, 0.002958150676757186), (2503, 0.0), (2504, 0.004447837382220903), (2505, 0.022343645343710892), (2506, 0.0), (2507, 0.058670421480222404), (2508, 0.0037707886787690372), (2509, 0.03501602959893585), (2510, 0.005222122938821206), (2511, 0.004721962727753628), (2512, 0.04230439097491865), (2513, 0.0), (2514, 0.045510865901371246), (2515, 0.005655794988230958), (2516, 0.03305152103116504), (2517, 0.0), (2518, 0.00514278239446101), (2519, 0.004699037381559275), (2520, 0.0477692283171178), (2521, 0.0), (2522, 0.003573330061623782), (2523, 0.00787373005174657), (2524, 0.0), (2525, 0.0031571501728150314), (2526, 0.08086555611268482), (2527, 0.002883669940575285), (2528, 0.0031135954707993494), (2529, 0.011479865143700852), (2530, 0.004261390882236089), (2531, 0.060994525481288135), (2532, 0.0), (2533, 0.03827430602574599), (2534, 0.01846371480752341), (2535, 0.008765220863564368), (2536, 0.005950923869416165), (2537, 0.05845280708030295), (2538, 0.011724611257257185), (2539, 0.0039546547025417775), (2540, 0.030039486305361185), (2541, 0.0), (2542, 0.02621099393929832), (2543, 0.005716165015960684), (2544, 0.0), (2545, 0.03402773281171096), (2546, 0.1194975283866555), (2547, 0.1020560711800148), (2548, 0.004209360657089903), (2549, 0.0), (2550, 0.03729835660613796), (2551, 0.004628760353353438), (2552, 0.03557862263616315), (2553, 0.007709935118328139), (2554, 0.007978021273568973), (2555, 0.007625378551767639), (2556, 0.020002908310408764), (2557, 0.018295999934260967), (2558, 0.003353248966469633), (2559, 0.004407491927336957), (2560, 0.01693124342460789), (2561, 0.020143265453205654), (2562, 0.0), (2563, 0.017841120738581524), (2564, 0.005659524592285854), (2565, 0.015649159146857064), (2566, 0.021683926842645238), (2567, 0.019896031458125445), (2568, 0.004100595743533471), (2569, 0.007814410351131989), (2570, 0.009307900609902633), (2571, 0.0032393013805293567), (2572, 0.0031760228498993225), (2573, 0.0), (2574, 0.0), (2575, 0.01743842760128935), (2576, 0.0), (2577, 0.0), (2578, 0.0), (2579, 0.003758159944396943), (2580, 0.040280575920004724), (2581, 0.00569271821759013), (2582, 0.0046474840060560015), (2583, 0.0), (2584, 0.008400994503432969), (2585, 0.04236299739245923), (2586, 0.016165483250593776), (2587, 0.011060831813362083), (2588, 0.004879555587423624), (2589, 0.0), (2590, 0.014852415858368754), (2591, 0.007095019917627246), (2592, 0.008755069970692591), (2593, 0.003093366189105861), (2594, 0.03677045960837949), (2595, 0.003636554400175767), (2596, 0.0), (2597, 0.007522626374054978), (2598, 0.003172121809132104), (2599, 0.0), (2600, 0.005747429582470566), (2601, 0.008247616059935072), (2602, 0.002781990404050527), (2603, 0.00664206562342548), (2604, 0.00495767615639446), (2605, 0.0047555129205384145), (2606, 0.0033759631524608253), (2607, 0.03411005523581296), (2608, 0.007980097994319294), (2609, 0.0035761772273698437), (2610, 0.013172115992306225), (2611, 0.018506906397298108), (2612, 0.02680632882093388), (2613, 0.04483148786373919), (2614, 0.027063872311070825), (2615, 0.004231800227075413), (2616, 0.004454209260858624), (2617, 0.013006311320618923), (2618, 0.0), (2619, 0.04439708884545919), (2620, 0.0043470478486836136), (2621, 0.00291699364411064), (2622, 0.009671330314150657), (2623, 0.022776308042772697), (2624, 0.0036686957452801722), (2625, 0.0038520701404290963), (2626, 0.004999740781729419), (2627, 0.009593152398067548), (2628, 0.04981666393872891), (2629, 0.003805987780866884), (2630, 0.012140980140399575), (2631, 0.06554212294141956), (2632, 0.0032739979316394967), (2633, 0.020269914687705046), (2634, 0.035822724214585475), (2635, 0.005337858934665551), (2636, 0.037128180560558846), (2637, 0.0048910508041971465), (2638, 0.00380947002305323), (2639, 0.00446966152884354), (2640, 0.04454252969775423), (2641, 0.0), (2642, 0.007619369690385578), (2643, 0.027899250422345815), (2644, 0.004334698505495024), (2645, 0.04897444629384115), (2646, 0.025064089732389612), (2647, 0.020377191067108086), (2648, 0.0046974327450092284), (2649, 0.004735974387246824), (2650, 0.015327054997416423), (2651, 0.0031721519222337223), (2652, 0.003389569949233198), (2653, 0.007631466538328139), (2654, 0.0), (2655, 0.004443219871225792), (2656, 0.0057518204178201885), (2657, 0.023370572696299028), (2658, 0.06746214613196123), (2659, 0.05654805808167885), (2660, 0.0), (2661, 0.008489649859525081), (2662, 0.05540532935473136), (2663, 0.008907407899550452), (2664, 0.0035744334233201885), (2665, 0.003751132257374925), (2666, 0.004187790790380425), (2667, 0.006207590322867858), (2668, 0.0034497904521000313), (2669, 0.0067370643536761), (2670, 0.037447707374016724), (2671, 0.10208052423089596), (2672, 0.005106054369433071), (2673, 0.004460145646261487), (2674, 0.019857640064711534), (2675, 0.004775559617555443), (2676, 0.0052238082680714105), (2677, 0.004438588506894044), (2678, 0.012879628248867861), (2679, 0.0031726541083818747), (2680, 0.0), (2681, 0.004379698195929718), (2682, 0.010635442579149355), (2683, 0.0), (2684, 0.006597206096060933), (2685, 0.08679758993700422), (2686, 0.0), (2687, 0.007780581717586558), (2688, 0.003908353648909907), (2689, 0.0), (2690, 0.004325935826372717), (2691, 0.01744336573437089), (2692, 0.002911461177243871), (2693, 0.004403812527111715), (2694, 0.05670698031528349), (2695, 0.003356943405439235), (2696, 0.04953263671179895), (2697, 0.0027448080353456366), (2698, 0.03707671425237827), (2699, 0.004250042978274185), (2700, 0.0), (2701, 0.0073729526025196205), (2702, 0.048700374784322015), (2703, 0.007052104235179908), (2704, 0.0), (2705, 0.0036303550447910012), (2706, 0.007518457557395335), (2707, 0.003935049337537135), (2708, 0.0), (2709, 0.004557539191905741), (2710, 0.0), (2711, 0.0), (2712, 0.020629293822296804), (2713, 0.0), (2714, 0.015612700643265521), (2715, 0.005997244361506363), (2716, 0.0032294922729319683), (2717, 0.0), (2718, 0.0), (2719, 0.025897274152892245), (2720, 0.05997111137898822), (2721, 0.01677673165343807), (2722, 0.011101991620247666), (2723, 0.0035958110994348575), (2724, 0.08782405854681762), (2725, 0.003585712794380891), (2726, 0.045240358113899495), (2727, 0.047217440812859626), (2728, 0.00719840687146446), (2729, 0.00972028430026166), (2730, 0.07275606037886495), (2731, 0.010615470803450116), (2732, 0.00929202112680919), (2733, 0.0), (2734, 0.03120188433868214), (2735, 0.0351357744173331), (2736, 0.0), (2737, 0.026676197735485123), (2738, 0.022785101464396), (2739, 0.048284619367098755), (2740, 0.0037750448643910175), (2741, 0.007120602865358629), (2742, 0.0), (2743, 0.0759942963672478), (2744, 0.008196178550873724), (2745, 0.0033841919356380136), (2746, 0.025088390875217713), (2747, 0.010799874339173631), (2748, 0.008599684397171865), (2749, 0.031582052269888486), (2750, 0.0), (2751, 0.0), (2752, 0.0032067964014130643), (2753, 0.012996071222625194), (2754, 0.004776045664077999), (2755, 0.03983070508540797), (2756, 0.06983660422698716), (2757, 0.0051317223389743625), (2758, 0.00671650739393187), (2759, 0.0), (2760, 0.0025734138284642717), (2761, 0.0028852281509231296), (2762, 0.019293482851832574), (2763, 0.004448953146740149), (2764, 0.011266975267940309), (2765, 0.0031869766965095603), (2766, 0.029267777325950536), (2767, 0.02991054374343288), (2768, 0.02097002787495777), (2769, 0.022789395157841195), (2770, 0.018833290504158887), (2771, 0.01251761218457899), (2772, 0.017475009227294447), (2773, 0.0), (2774, 0.012749229522913252), (2775, 0.05166145253366052), (2776, 0.04211366596580159), (2777, 0.0031023322067007305), (2778, 0.004054129216583292), (2779, 0.01920602123785263), (2780, 0.0), (2781, 0.005490048761509164), (2782, 0.021492626800663713), (2783, 0.0033741692547430975), (2784, 0.0034269539030025637), (2785, 0.0), (2786, 0.008468975778502585), (2787, 0.04816855336692284), (2788, 0.027119135302112483), (2789, 0.0), (2790, 0.01198545327537865), (2791, 0.0), (2792, 0.029405880236055313), (2793, 0.0), (2794, 0.004716253963069416), (2795, 0.018630014858922284), (2796, 0.03953507247927542), (2797, 0.00967975384891547), (2798, 0.04322957032767394), (2799, 0.0050987759665693895), (2800, 0.020380898053046458), (2801, 0.0), (2802, 0.06562378361417041), (2803, 0.018309204433841285), (2804, 0.004556951606949389), (2805, 0.003983631304826438), (2806, 0.0), (2807, 0.004469166426918966), (2808, 0.0032488084867444565), (2809, 0.007058225360256399), (2810, 0.005105611390732688), (2811, 0.004988758958048492), (2812, 0.0074530106500992855), (2813, 0.004565273451737638), (2814, 0.01141451480241074), (2815, 0.0), (2816, 0.0406195318804157), (2817, 0.054015543203451366), (2818, 0.0063794267573993296), (2819, 0.0), (2820, 0.003984594146608852), (2821, 0.04039904871661082), (2822, 0.0039315653635892305), (2823, 0.008626226220303604), (2824, 0.0), (2825, 0.004500345910007332), (2826, 0.07257509711093037), (2827, 0.0), (2828, 0.0), (2829, 0.02182010473429757), (2830, 0.003731469997135979), (2831, 0.0033566595291581003), (2832, 0.01037854645679073), (2833, 0.03499244185097159), (2834, 0.009811361647901739), (2835, 0.031712373720756484), (2836, 0.0045201432286795466), (2837, 0.0), (2838, 0.010106711012198687), (2839, 0.0), (2840, 0.0037394428821769772), (2841, 0.0018727333229183614), (2842, 0.0), (2843, 0.005058788679962174), (2844, 0.002769116857240986), (2845, 0.035025886711793845), (2846, 0.0404228159580929), (2847, 0.0), (2848, 0.0986917670164246), (2849, 0.003544559475151136), (2850, 0.0), (2851, 0.0), (2852, 0.010174674823409932), (2853, 0.0146782134561684), (2854, 0.0037236153377060346), (2855, 0.0038632148739279775), (2856, 0.004679137250963123), (2857, 0.0666685857060428), (2858, 0.027366786693788815), (2859, 0.0031787009939536677), (2860, 0.037650047031225584), (2861, 0.004444075290842161), (2862, 0.0031246397637244567), (2863, 0.003457002117299166), (2864, 0.0), (2865, 0.0), (2866, 0.004239121098030257), (2867, 0.0215569448258306), (2868, 0.030504646362694537), (2869, 0.01412704266331457), (2870, 0.004545137083439778), (2871, 0.0), (2872, 0.009103278947239562), (2873, 0.0051741013722054734), (2874, 0.004228064854169562), (2875, 0.005789996846700162), (2876, 0.006604941836504869), (2877, 0.0038245897269166755), (2878, 0.0035343048352082518), (2879, 0.004083198724746571), (2880, 0.004909899034049869), (2881, 0.003797271405389016), (2882, 0.07107724481178168), (2883, 0.004537154487928162), (2884, 0.009129280892953362), (2885, 0.0), (2886, 0.031160449124921323), (2887, 0.0033972695221445395), (2888, 0.02179371155156361), (2889, 0.004615485841026799), (2890, 0.041991507661226626), (2891, 0.006452890169468676), (2892, 0.0031826259754254202), (2893, 0.05348690056058725), (2894, 0.0034406489307590004), (2895, 0.017657860739667523), (2896, 0.004626146149023431), (2897, 0.004351327679971551), (2898, 0.0306934501262444), (2899, 0.003151774516986342), (2900, 0.03793357558732542), (2901, 0.004304701707381721), (2902, 0.002465899148020771), (2903, 0.016543506064456308), (2904, 0.03958092357526261), (2905, 0.0), (2906, 0.030551079551024814), (2907, 0.0031095148364017255), (2908, 0.0026943332331809434), (2909, 0.003269935339036063), (2910, 0.00328044730394206), (2911, 0.003489428517794855), (2912, 0.041259084576465446), (2913, 0.0037365790742570726), (2914, 0.00894383565793726), (2915, 0.00364608247384029), (2916, 0.003755516887642606), (2917, 0.025725701333766705), (2918, 0.0), (2919, 0.020784081682205052), (2920, 0.07273713697834978), (2921, 0.012755271838853673), (2922, 0.006198517810469072), (2923, 0.004517462103712401), (2924, 0.009171657567287342), (2925, 0.03421151958502047), (2926, 0.12924270779104374), (2927, 0.0), (2928, 0.005882586701615638), (2929, 0.0), (2930, 0.017542062376617314), (2931, 0.08940382510910291), (2932, 0.004432951083617698), (2933, 0.0067160501994014184), (2934, 0.003377235097184208), (2935, 0.06085294160225327), (2936, 0.01669952351536845), (2937, 0.004814492691366598), (2938, 0.0), (2939, 0.04889399080837417), (2940, 0.008452778685454493), (2941, 0.08181054028645256), (2942, 0.0029012590282154684), (2943, 0.003340757394073802), (2944, 0.0), (2945, 0.04170992415488485), (2946, 0.037729883877378655), (2947, 0.0), (2948, 0.005932506636294774), (2949, 0.003582398756836619), (2950, 0.05549052509127195), (2951, 0.09147388158202774), (2952, 0.0), (2953, 0.0035488713453088595), (2954, 0.0389066817924739), (2955, 0.0), (2956, 0.0), (2957, 0.004101816063580437), (2958, 0.0), (2959, 0.01765027377834045), (2960, 0.0), (2961, 0.0033002313062870515), (2962, 0.004335085221843437), (2963, 0.0), (2964, 0.003582800326338433), (2965, 0.014013443432758364), (2966, 0.046261082641917285), (2967, 0.0), (2968, 0.00497249132638276), (2969, 0.01789163506013671), (2970, 0.045417808612102185), (2971, 0.02946520606935492), (2972, 0.007454409423710786), (2973, 0.0429715830494177), (2974, 0.024219636119167113), (2975, 0.0029455716076013817), (2976, 0.0070843554108619596), (2977, 0.14006981248979028), (2978, 0.004953473200031328), (2979, 0.004949340368175474), (2980, 0.029413335443120123), (2981, 0.01673939737161089), (2982, 0.005184392828758258), (2983, 0.005749459098720716), (2984, 0.04383051161722843), (2985, 0.0027966156421861815), (2986, 0.009354365385164709), (2987, 0.003870685593378616), (2988, 0.04390715224449993), (2989, 0.004671845808347117), (2990, 0.006132578663615965), (2991, 0.02310224227248571), (2992, 0.042203662786928366), (2993, 0.00404401679806306), (2994, 0.004585092787683123), (2995, 0.0031776248172178693), (2996, 0.04187890682750193), (2997, 0.003169022791442974), (2998, 0.0050334377876933385), (2999, 0.042368528014990775), (3000, 0.00343283377985281), (3001, 0.0), (3002, 0.0), (3003, 0.02144837496245154), (3004, 0.018170095186253562), (3005, 0.0), (3006, 0.0), (3007, 0.033112114422220985), (3008, 0.05023139388525791), (3009, 0.02234080130917524), (3010, 0.0032331128647035846), (3011, 0.0), (3012, 0.003759003471829681), (3013, 0.09678412760041286), (3014, 0.03619248899725574), (3015, 0.048222474122108505), (3016, 0.012795362360988785), (3017, 0.04023425475321188), (3018, 0.004757491211754406), (3019, 0.0039030878427532686), (3020, 0.051728301072784755), (3021, 0.032750760506236466), (3022, 0.026523162909956363), (3023, 0.0), (3024, 0.017845080473090396), (3025, 0.0), (3026, 0.027261456445643577), (3027, 0.003017056876461045), (3028, 0.020846122156978085), (3029, 0.03638024346646013), (3030, 0.004542045528171614), (3031, 0.04648570471746205), (3032, 0.0037528830526348104), (3033, 0.004552976547747225), (3034, 0.004585201856417854), (3035, 0.0031918463140557063), (3036, 0.019128071238690324), (3037, 0.00834772162204793), (3038, 0.004765451653167123), (3039, 0.00515503858588064), (3040, 0.011044178719186618), (3041, 0.004808526217118222), (3042, 0.05773406922722549), (3043, 0.016700008814098822), (3044, 0.0467563086628088), (3045, 0.0), (3046, 0.021157828715647045), (3047, 0.0), (3048, 0.0), (3049, 0.0), (3050, 0.0072455472057692625), (3051, 0.021042971390880134), (3052, 0.09700102577930031), (3053, 0.0), (3054, 0.005473943900011501), (3055, 0.00456231690495485), (3056, 0.0027775488723290956), (3057, 0.035699106821667166), (3058, 0.0), (3059, 0.0), (3060, 0.00463069774557426), (3061, 0.004763021356410161), (3062, 0.00876769785895166), (3063, 0.004028643423017424), (3064, 0.023473012770372337), (3065, 0.0028478580803252868), (3066, 0.004450860614858373), (3067, 0.06011638939965547), (3068, 0.026043116710657392), (3069, 0.0032741843840552887), (3070, 0.019046294175437007), (3071, 0.007407403989586059), (3072, 0.05851534403519403), (3073, 0.004494669755009568), (3074, 0.009702708694870313), (3075, 0.0032562622719374307), (3076, 0.01930641513167014), (3077, 0.008604213402392159), (3078, 0.005853898940385689), (3079, 0.010505659312665573), (3080, 0.005077769830447859), (3081, 0.003945796610313456), (3082, 0.004051729744398961), (3083, 0.004234849067154922), (3084, 0.008387694610847582), (3085, 0.02842984632523259), (3086, 0.0036219280106975587), (3087, 0.0731883444838013), (3088, 0.058376487349695735), (3089, 0.03518454697885615), (3090, 0.00447972272901661), (3091, 0.0028063481865831606), (3092, 0.0), (3093, 0.032143033870766564), (3094, 0.003923061042405816), (3095, 0.0035995624910712862), (3096, 0.0029144948151916712), (3097, 0.008720365367154606), (3098, 0.008276935840851886), (3099, 0.0), (3100, 0.0), (3101, 0.04204274256480534), (3102, 0.004642976766478024), (3103, 0.0), (3104, 0.004544889364337494), (3105, 0.02798628450659033), (3106, 0.004541132921287868), (3107, 0.043620610987254574), (3108, 0.0484747262157794), (3109, 0.004851761192215096), (3110, 0.03903747092303112), (3111, 0.003000825570396302), (3112, 0.0036053102177461167), (3113, 0.008066127112310044), (3114, 0.0), (3115, 0.0070918747499927465), (3116, 0.003684332138729717), (3117, 0.0), (3118, 0.0), (3119, 0.004596510514574008), (3120, 0.0031041111285105), (3121, 0.0), (3122, 0.0031984769617096737), (3123, 0.04641725586737441), (3124, 0.0), (3125, 0.1124025386342605), (3126, 0.0), (3127, 0.004412708152176382), (3128, 0.004226414011751983), (3129, 0.009793793816576343), (3130, 0.0), (3131, 0.0), (3132, 0.0), (3133, 0.0), (3134, 0.0), (3135, 0.0), (3136, 0.0), (3137, 0.025260189305833833), (3138, 0.0), (3139, 0.011196756817074738), (3140, 0.018565497817247943), (3141, 0.015371432798976119), (3142, 0.006298488958333915), (3143, 0.0), (3144, 0.0), (3145, 0.0), (3146, 0.041628585051941946), (3147, 0.011603248833175294), (3148, 0.05784896974813073), (3149, 0.0043941357116630084), (3150, 0.008274285242143221), (3151, 0.003193786864908813), (3152, 0.02969592030155767), (3153, 0.00345251522354871), (3154, 0.018055786634141764), (3155, 0.00796246380869656), (3156, 0.0), (3157, 0.042356775934461216), (3158, 0.0), (3159, 0.018257972268904795), (3160, 0.0), (3161, 0.0), (3162, 0.004750349212484289), (3163, 0.0), (3164, 0.003857831552733056), (3165, 0.0038509558506219267), (3166, 0.026782045962719166), (3167, 0.003002615158543981), (3168, 0.005129711036135351), (3169, 0.004670178089420144), (3170, 0.046524081882980114), (3171, 0.014032848003036372), (3172, 0.005304504121467157), (3173, 0.003301893977206363), (3174, 0.003343856349257808), (3175, 0.004881594420653197), (3176, 0.0), (3177, 0.037291677078595764), (3178, 0.01250354804686804), (3179, 0.027352797607204812), (3180, 0.0), (3181, 0.004964179394608425), (3182, 0.012696754295392349), (3183, 0.008660032692709475), (3184, 0.04572430411845382), (3185, 0.0), (3186, 0.0038016302487693656), (3187, 0.008322203979382358), (3188, 0.004550365990198315), (3189, 0.004786224884984786), (3190, 0.0052787945812042955), (3191, 0.0), (3192, 0.010065336884007238), (3193, 0.01070823581866034), (3194, 0.08061492284310741), (3195, 0.003299480998551256), (3196, 0.003759674071379939), (3197, 0.004140116038331024), (3198, 0.03891260271494457), (3199, 0.01670526265039774), (3200, 0.036171261209153205), (3201, 0.010160733971534015), (3202, 0.01980905350941678), (3203, 0.019215040258557477), (3204, 0.006098219561663347), (3205, 0.0), (3206, 0.04604218143825179), (3207, 0.005006178974791159), (3208, 0.0), (3209, 0.004659067784156446), (3210, 0.04444318160342037), (3211, 0.0029029248608125756), (3212, 0.0037765374061457563), (3213, 0.049544675623375736), (3214, 0.007550042769212066), (3215, 0.0), (3216, 0.0033364529573062336), (3217, 0.05058911388260328), (3218, 0.00843112334219246), (3219, 0.0043816107960820225), (3220, 0.04164439407384998), (3221, 0.01784486590145), (3222, 0.024436215988132497), (3223, 0.0), (3224, 0.04436241701913975), (3225, 0.003435780973084623), (3226, 0.03808367633279202), (3227, 0.014874378583055403), (3228, 0.0040688787463682066), (3229, 0.004731278536686773), (3230, 0.003870777363641427), (3231, 0.004079462084150113), (3232, 0.003983013578370804), (3233, 0.0034492315082480783), (3234, 0.00864428710491553), (3235, 0.0035742194859555293), (3236, 0.004845177042601386), (3237, 0.003311593437948983), (3238, 0.006805802879109948), (3239, 0.0738369202422498), (3240, 0.006479899543009289), (3241, 0.020989418014461237), (3242, 0.03995332241200448), (3243, 0.0031402253295952573), (3244, 0.019532005291836747), (3245, 0.004602793648169063), (3246, 0.007581466796293308), (3247, 0.014690270377794792), (3248, 0.0037392436970287747), (3249, 0.05329304995167289), (3250, 0.004272527373259943), (3251, 0.03974739918313775), (3252, 0.002793744515749097), (3253, 0.01814359079154123), (3254, 0.00274140519123196), (3255, 0.0), (3256, 0.005310410894851828), (3257, 0.08720208786518337), (3258, 0.008599504829404933), (3259, 0.004804374737666267), (3260, 0.007759175797355418), (3261, 0.0), (3262, 0.004314083980446406), (3263, 0.05119484469927429), (3264, 0.040182046694642), (3265, 0.009389411383535674), (3266, 0.054305636591560756), (3267, 0.007175850424661506), (3268, 0.02862420541537159), (3269, 0.04116403721004243), (3270, 0.01585113466775498), (3271, 0.013467258676047096), (3272, 0.0), (3273, 0.0037326840533553804), (3274, 0.06982222444458383), (3275, 0.003918750878809107), (3276, 0.022268925515670834), (3277, 0.004796761518495001), (3278, 0.0030486541777332192), (3279, 0.045806245139314535), (3280, 0.0), (3281, 0.0), (3282, 0.05525921659192516), (3283, 0.04340158782675057), (3284, 0.0442223104271481), (3285, 0.02772950247649842), (3286, 0.06619156451781898), (3287, 0.004709473953324233), (3288, 0.030520561734870423), (3289, 0.04366801986539802), (3290, 0.008138557939235281), (3291, 0.004505592885003704), (3292, 0.004376815746244361), (3293, 0.013962818459242899), (3294, 0.0), (3295, 0.004145724867239974), (3296, 0.0038133723393912523), (3297, 0.013243824523513172), (3298, 0.0032387300732135394), (3299, 0.029801277204837343), (3300, 0.003150791689043047), (3301, 0.016892740664322312), (3302, 0.004085086632244366), (3303, 0.01964822860586831), (3304, 0.007160923535431787), (3305, 0.0), (3306, 0.003073791880327832), (3307, 0.0038946175388395263), (3308, 0.00936259002815851), (3309, 0.008700229464259208), (3310, 0.032541481355112624), (3311, 0.0071537765077199994), (3312, 0.0), (3313, 0.0027373151055493437), (3314, 0.0213378049392635), (3315, 0.0075547187188263355), (3316, 0.04238817948591151), (3317, 0.017668690664395602), (3318, 0.0030217734320551184), (3319, 0.008518670871232217), (3320, 0.004278673423597867), (3321, 0.004215052471607787), (3322, 0.004315105340759295), (3323, 0.02651019267561498), (3324, 0.046136479030353596), (3325, 0.06799036282780936), (3326, 0.0035510671788395115), (3327, 0.0030073520328389204), (3328, 0.02071661924482694), (3329, 0.03895445655354254), (3330, 0.0033413892653643027), (3331, 0.002794869166139447), (3332, 0.004610111913914648), (3333, 0.0), (3334, 0.0), (3335, 0.0033875990303384126), (3336, 0.0030177899913412173), (3337, 0.009125030629237226), (3338, 0.0), (3339, 0.0), (3340, 0.01806032912209552), (3341, 0.0033621964841948075), (3342, 0.003113360050696363), (3343, 0.004550950523664315), (3344, 0.002847413638823749), (3345, 0.0), (3346, 0.0033438947441271237), (3347, 0.027412857818482954), (3348, 0.04123637726343317), (3349, 0.008204779184732128), (3350, 0.00449427132739484), (3351, 0.036055413371802424), (3352, 0.011986016024387498), (3353, 0.0034856959107629135), (3354, 0.07661497801181506), (3355, 0.0038572934649264336), (3356, 0.012250791621402109), (3357, 0.05296483198480633), (3358, 0.004070435246040551), (3359, 0.04428679702602738), (3360, 0.017406188177757145), (3361, 0.0), (3362, 0.0026549357391162736), (3363, 0.0183982523451773), (3364, 0.009129497548736121), (3365, 0.01521271041995264), (3366, 0.004399672763633515), (3367, 0.0677700267515132), (3368, 0.01636924228255336), (3369, 0.0030926378763197217), (3370, 0.03693839339361924), (3371, 0.04348749256286269), (3372, 0.08835547675091113), (3373, 0.00890103029680971), (3374, 0.0033273974885904218), (3375, 0.0044162625056245845), (3376, 0.03249587830499626), (3377, 0.0), (3378, 0.0047537006936615184), (3379, 0.02114944471749757), (3380, 0.024638839938241695), (3381, 0.0033127724003331315), (3382, 0.008252100961254297), (3383, 0.005158307499057404), (3384, 0.05509319038733735), (3385, 0.012776100499534442), (3386, 0.00801310605464467), (3387, 0.0), (3388, 0.04489448309146888), (3389, 0.02221195162370638), (3390, 0.0031945165380174952), (3391, 0.00747485098105717), (3392, 0.0022277735635057748), (3393, 0.02247118323891402), (3394, 0.02555968621823532), (3395, 0.004184941040402109), (3396, 0.0038672903395051343), (3397, 0.014318538128081508), (3398, 0.0), (3399, 0.03080398157216634), (3400, 0.004455103336857916), (3401, 0.0), (3402, 0.007706537757111794), (3403, 0.0029374353319805676), (3404, 0.0), (3405, 0.0), (3406, 0.0035384000690695514), (3407, 0.0031475994558557282), (3408, 0.09462834027350446), (3409, 0.017164829215438087), (3410, 0.034288744889370136), (3411, 0.003996817019095383), (3412, 0.014387530031298739), (3413, 0.009498892735222478), (3414, 0.04259807359130383), (3415, 0.0410854660701747), (3416, 0.0), (3417, 0.0036927274016457863), (3418, 0.011311174418557834), (3419, 0.04391620419843212), (3420, 0.015038668665451345), (3421, 0.026060050309945678), (3422, 0.041407616067428064), (3423, 0.003836363831471938), (3424, 0.004991185017724989), (3425, 0.0440936557163267), (3426, 0.0), (3427, 0.018288088998843405), (3428, 0.004706461890967442), (3429, 0.0), (3430, 0.006582671460306238), (3431, 0.030558962329787998), (3432, 0.0), (3433, 0.0031569791672651512), (3434, 0.003566939927278668), (3435, 0.014608741512092387), (3436, 0.0033743641651951166), (3437, 0.0035099478904451714), (3438, 0.0), (3439, 0.005908780010539559), (3440, 0.02648920679146545), (3441, 0.027527931665374268), (3442, 0.004832166489277185), (3443, 0.05721996129047059), (3444, 0.022608626353716025), (3445, 0.020604534698025496), (3446, 0.0), (3447, 0.038208807936105045), (3448, 0.0), (3449, 0.037330643669972574), (3450, 0.017133090059418807), (3451, 0.03189752399503053), (3452, 0.0031264244958148293), (3453, 0.0), (3454, 0.0), (3455, 0.02998919685417076), (3456, 0.0), (3457, 0.0), (3458, 0.0022970246814940677), (3459, 0.0), (3460, 0.018500558288137185), (3461, 0.00485592799319099), (3462, 0.004612124867565463), (3463, 0.011759092730812291), (3464, 0.004828085086156269), (3465, 0.03866564984012907), (3466, 0.0), (3467, 0.0), (3468, 0.0), (3469, 0.012765810485812388), (3470, 0.0), (3471, 0.002665829601795814), (3472, 0.0), (3473, 0.0), (3474, 0.0030465865211256726), (3475, 0.007405187854753689), (3476, 0.024066707480412536), (3477, 0.042252075058752184), (3478, 0.003352815269721415), (3479, 0.01056142641454267), (3480, 0.009346870868583799), (3481, 0.003834024597701466), (3482, 0.0), (3483, 0.0035499113574239552), (3484, 0.04545663114999641), (3485, 0.025733062071968762), (3486, 0.0), (3487, 0.0032236140427622808), (3488, 0.03055460886202717), (3489, 0.004695814004531545), (3490, 0.004374729586740207), (3491, 0.03703019207643874), (3492, 0.0033486818739146664), (3493, 0.008277354419520794), (3494, 0.0045847980191338), (3495, 0.0), (3496, 0.020724952763691948), (3497, 0.0036632946907823242), (3498, 0.0032034689524823097), (3499, 0.0032937563797349415), (3500, 0.022892149208861907), (3501, 0.03868218954140557), (3502, 0.013797586076577948), (3503, 0.007583344112448749), (3504, 0.01876904578456195), (3505, 0.0), (3506, 0.04389005157665514), (3507, 0.0), (3508, 0.004483222205403245), (3509, 0.027063541742022502), (3510, 0.04232180213271316), (3511, 0.00352928801148303), (3512, 0.012126790256514053), (3513, 0.0047729772638555185), (3514, 0.0082560656237298), (3515, 0.018228662649454677), (3516, 0.0036464120643411686), (3517, 0.008188382609793972), (3518, 0.031048808526762842), (3519, 0.005015503023547087), (3520, 0.0), (3521, 0.04688145205624549), (3522, 0.011666722795076377), (3523, 0.004806327874813706), (3524, 0.003944762823521071), (3525, 0.014576207035528267), (3526, 0.008093345234494929), (3527, 0.02079697188305361), (3528, 0.0), (3529, 0.005005863699266259), (3530, 0.0), (3531, 0.004418562735394921), (3532, 0.030669733307740338), (3533, 0.0), (3534, 0.01894906625051947), (3535, 0.0), (3536, 0.02713452841773057), (3537, 0.05285139425633478), (3538, 0.033975917173339865), (3539, 0.004853414620105419), (3540, 0.044384670968395726), (3541, 0.007955140627899229), (3542, 0.0034304222346936363), (3543, 0.040691753352321405), (3544, 0.051867467526341506), (3545, 0.0045216947731468995), (3546, 0.002501451412927596), (3547, 0.04030351582179859), (3548, 0.026858739957678946), (3549, 0.004711349902830918), (3550, 0.0), (3551, 0.0033839327740583327), (3552, 0.06930103658739165), (3553, 0.0033229383484931992), (3554, 0.005514611328401765), (3555, 0.0), (3556, 0.0029978490264803543), (3557, 0.003287852021148908), (3558, 0.0030953555100812625), (3559, 0.057269427110861956), (3560, 0.0037671895565691417), (3561, 0.05158687629665459), (3562, 0.004387989232951494), (3563, 0.007207759366290291), (3564, 0.04273620347813242), (3565, 0.012335201768043735), (3566, 0.0), (3567, 0.0), (3568, 0.0), (3569, 0.06883827640447068), (3570, 0.0045270565046556825), (3571, 0.10020071724178141), (3572, 0.005043633968466601), (3573, 0.0), (3574, 0.0034987833924723863), (3575, 0.006388995814230804), (3576, 0.0), (3577, 0.00977343149994161), (3578, 0.0), (3579, 0.0067504212196362445), (3580, 0.004463271849371115), (3581, 0.005007880459543619), (3582, 0.0043885969382397375), (3583, 0.0), (3584, 0.004892499625647699), (3585, 0.008880164312053226), (3586, 0.0), (3587, 0.003776837507435604), (3588, 0.0), (3589, 0.014712990405591252), (3590, 0.02291493846657078), (3591, 0.0047545865749234195), (3592, 0.11619171986985524), (3593, 0.0037427418606832065), (3594, 0.0), (3595, 0.004358608904337675), (3596, 0.01459970118091328), (3597, 0.0), (3598, 0.004032690430025144), (3599, 0.008257307437627958), (3600, 0.0), (3601, 0.008434146028099028), (3602, 0.0), (3603, 0.03178888186343726), (3604, 0.0), (3605, 0.0), (3606, 0.008063386581416816), (3607, 0.0), (3608, 0.0021838499119579686), (3609, 0.0), (3610, 0.005380460222103345), (3611, 0.003809541992500849), (3612, 0.06957765753301151), (3613, 0.004135465683631338), (3614, 0.0030347564592071038), (3615, 0.003157305540474944), (3616, 0.009834370505333995), (3617, 0.03448589935261824), (3618, 0.029420890409249015), (3619, 0.010001265619975441), (3620, 0.004082688994323133), (3621, 0.009305838224971379), (3622, 0.04106699651806514), (3623, 0.0034587032966031115), (3624, 0.021372181375532474), (3625, 0.0), (3626, 0.028552855122630262), (3627, 0.057337336920661536), (3628, 0.004981658363134127), (3629, 0.002879436771297323), (3630, 0.007863819055153315), (3631, 0.0), (3632, 0.0295997498433474), (3633, 0.0259355569995214), (3634, 0.002834781206610623), (3635, 0.004533023025092793), (3636, 0.0034552046722369097), (3637, 0.017594510694185064), (3638, 0.004180189690801531), (3639, 0.06964471426720606), (3640, 0.022437452239061177), (3641, 0.007637733832113459), (3642, 0.015997050415079747), (3643, 0.0034061066753891265), (3644, 0.004475830704942198), (3645, 0.0025271569064749633), (3646, 0.04029069133285965), (3647, 0.03744082217743328), (3648, 0.004713545178623097), (3649, 0.005168031113044976), (3650, 0.004615971933559479), (3651, 0.003835478590297765), (3652, 0.0050336370373924915), (3653, 0.0034177394014091264), (3654, 0.043529918778305116), (3655, 0.0029178577906498627), (3656, 0.0030899344066655753), (3657, 0.002829383934558068), (3658, 0.026212169081410032), (3659, 0.0), (3660, 0.03669736191497141), (3661, 0.01682473402192016), (3662, 0.0045532772731157545), (3663, 0.0), (3664, 0.0), (3665, 0.007889545403850208), (3666, 0.0034812613962004976), (3667, 0.017544957549189725), (3668, 0.002837886261718301), (3669, 0.002841348514706121), (3670, 0.003381470990739152), (3671, 0.005670650702904691), (3672, 0.0540747534068893), (3673, 0.007876337283143936), (3674, 0.0038454639086090104), (3675, 0.003996691061742239), (3676, 0.004603636205871681), (3677, 0.0036803175612576053), (3678, 0.05017681953827989), (3679, 0.0), (3680, 0.0037913703368116615), (3681, 0.04480195780275729), (3682, 0.0), (3683, 0.00466315279450408), (3684, 0.013846583080465567), (3685, 0.004469178704951995), (3686, 0.005415717899225629), (3687, 0.08470075215022295), (3688, 0.005047761311467662), (3689, 0.0804014490807788), (3690, 0.017134317715285056), (3691, 0.0031903518445976615), (3692, 0.003609986948712233), (3693, 0.0), (3694, 0.0036285084884539456), (3695, 0.032551094686242565), (3696, 0.0032333693887545358), (3697, 0.0), (3698, 0.0), (3699, 0.015067754352240453), (3700, 0.0), (3701, 0.03901303983712956), (3702, 0.0), (3703, 0.0), (3704, 0.015941931763319008), (3705, 0.02996299095719336), (3706, 0.03741553047823719), (3707, 0.015014311724665308), (3708, 0.0), (3709, 0.0), (3710, 0.012118790014236328), (3711, 0.0), (3712, 0.019701112805005593), (3713, 0.0), (3714, 0.003664729542423374), (3715, 0.005878427956502587), (3716, 0.0040943965004452765), (3717, 0.0), (3718, 0.010570335576122379), (3719, 0.00327252788306075), (3720, 0.0), (3721, 0.0), (3722, 0.004683866619563716), (3723, 0.0), (3724, 0.0), (3725, 0.020086144587175645), (3726, 0.0), (3727, 0.003324278603682446), (3728, 0.008456714345197163), (3729, 0.003885604845969642), (3730, 0.03165635378445867), (3731, 0.0), (3732, 0.02906181498104897), (3733, 0.016209453981011), (3734, 0.0031622810422800647), (3735, 0.005041060295665601), (3736, 0.008556388048659448), (3737, 0.003743823390670857), (3738, 0.015335605305488569), (3739, 0.09999709331416956), (3740, 0.0661845746090859), (3741, 0.0), (3742, 0.05033381869253042), (3743, 0.0), (3744, 0.0), (3745, 0.10852068207051871), (3746, 0.0), (3747, 0.0), (3748, 0.1385934917000371), (3749, 0.041801564914144815), (3750, 0.010983863145272941), (3751, 0.01773061704381299), (3752, 0.0), (3753, 0.004196663871698867), (3754, 0.009171418700185324), (3755, 0.0328917888062149), (3756, 0.0027425318049532476), (3757, 0.0036167174508612188), (3758, 0.005448514808045478), (3759, 0.005215673855427321), (3760, 0.0), (3761, 0.0), (3762, 0.019218956721347803), (3763, 0.009320234661713635), (3764, 0.03311686733499032), (3765, 0.0076820548045471535), (3766, 0.0039983286996639255), (3767, 0.053842123244359746), (3768, 0.05439124576370595), (3769, 0.0), (3770, 0.003506091938631026), (3771, 0.0036315094773384116), (3772, 0.008999695898259743), (3773, 0.0), (3774, 0.0), (3775, 0.0), (3776, 0.014359313550285063), (3777, 0.003542466266209564), (3778, 0.015323328445127854), (3779, 0.004048627002097398), (3780, 0.003579869540720984), (3781, 0.01580622684944163), (3782, 0.017959185983239576), (3783, 0.01581335543050943), (3784, 0.03138327893209551), (3785, 0.0), (3786, 0.0), (3787, 0.0), (3788, 0.0), (3789, 0.0053800461766201355), (3790, 0.00473490902170032), (3791, 0.005198138029438075), (3792, 0.008042418784440673), (3793, 0.0), (3794, 0.0), (3795, 0.019296827754477528), (3796, 0.006300680390394401), (3797, 0.05841652958926528), (3798, 0.0), (3799, 0.036341714401321425), (3800, 0.05179313562132172), (3801, 0.09876180109576192), (3802, 0.0), (3803, 0.0039857821840377375), (3804, 0.003740092481589687), (3805, 0.004542309638750718), (3806, 0.0), (3807, 0.0033352278212250702), (3808, 0.005058019656623403), (3809, 0.003435183472226288), (3810, 0.0), (3811, 0.007455318922810803), (3812, 0.044553979578776944), (3813, 0.0036582588335428456), (3814, 0.0), (3815, 0.0), (3816, 0.11704701090032921), (3817, 0.0), (3818, 0.004517729878679321), (3819, 0.0031656817781461712), (3820, 0.005150156417344883), (3821, 0.002811815144486904), (3822, 0.0362800862767077), (3823, 0.0), (3824, 0.004348006318161602), (3825, 0.0), (3826, 0.0032233046258953774), (3827, 0.0032873494679073354), (3828, 0.004240289651914699), (3829, 0.035374007102600455), (3830, 0.0), (3831, 0.0), (3832, 0.015215844244942291), (3833, 0.0), (3834, 0.031358722542428025), (3835, 0.03231287737636841), (3836, 0.052042079463372574), (3837, 0.034240252389236475), (3838, 0.0), (3839, 0.02227620154884619), (3840, 0.0), (3841, 0.0030067443389079993), (3842, 0.004146380873614921), (3843, 0.0), (3844, 0.005708658841250018), (3845, 0.008248810861723396), (3846, 0.0), (3847, 0.0), (3848, 0.04827944397165833), (3849, 0.0), (3850, 0.0), (3851, 0.0052158543210301), (3852, 0.0), (3853, 0.0), (3854, 0.0031005001459591414), (3855, 0.006710347131659657), (3856, 0.026996138596604338), (3857, 0.0037239472591354497), (3858, 0.005223979824183589), (3859, 0.004308916223574441), (3860, 0.0), (3861, 0.004033833340346998), (3862, 0.0035016562192589774), (3863, 0.029349154389280426), (3864, 0.1571218778569621), (3865, 0.004062692713103399), (3866, 0.009115908454842728), (3867, 0.00380880510431883), (3868, 0.0075669634566088995), (3869, 0.0), (3870, 0.004762568815720022), (3871, 0.01901596953388924), (3872, 0.0), (3873, 0.0035850973460542215), (3874, 0.004099937035868415), (3875, 0.006427956806197755), (3876, 0.003077657629100966), (3877, 0.0037329922303374185), (3878, 0.04352007557551961), (3879, 0.030242147688465826), (3880, 0.028494852385645877), (3881, 0.0), (3882, 0.00832322649230864), (3883, 0.0038218115519209417), (3884, 0.017163831929378398), (3885, 0.004144202942665474), (3886, 0.004375015464570119), (3887, 0.0), (3888, 0.060538757957184386), (3889, 0.008576747408299841), (3890, 0.012058341573270718), (3891, 0.028182219766095504), (3892, 0.0102805983851087), (3893, 0.0036220355071019646), (3894, 0.0029404846617530835), (3895, 0.002935024298342977), (3896, 0.004392772872863299), (3897, 0.0), (3898, 0.0031816945893549187), (3899, 0.010184826206041555), (3900, 0.036592982168741114), (3901, 0.004043487203203162), (3902, 0.003488511329671288), (3903, 0.0038403640680695697), (3904, 0.015778954551729008), (3905, 0.004818785504493921), (3906, 0.027308363459640106), (3907, 0.0), (3908, 0.0), (3909, 0.004250302907799079), (3910, 0.017203627606232414), (3911, 0.004006324493603904), (3912, 0.0046541653481244945), (3913, 0.01991532107675524), (3914, 0.007975376379740327), (3915, 0.003641721519025175), (3916, 0.003881792069940773), (3917, 0.0032252323792871618), (3918, 0.0), (3919, 0.09291077091195016), (3920, 0.003472849134277664), (3921, 0.0052493796358445005), (3922, 0.00976267041916271), (3923, 0.031115480121882092), (3924, 0.02371331133901952), (3925, 0.004990564595964661), (3926, 0.004562878403254602), (3927, 0.027185369820775723), (3928, 0.0028006441257490415), (3929, 0.0), (3930, 0.05711955214334396), (3931, 0.005329096071366776), (3932, 0.006184798168545704), (3933, 0.014221664285339691), (3934, 0.06956459726507999), (3935, 0.003950781252611669), (3936, 0.005763007605992119), (3937, 0.02779741509614049), (3938, 0.0), (3939, 0.019648139712169162), (3940, 0.0), (3941, 0.00741095972654208), (3942, 0.029767708502599403), (3943, 0.0048966863602483805), (3944, 0.0), (3945, 0.009763032412527682), (3946, 0.0), (3947, 0.03439048477647502), (3948, 0.0), (3949, 0.006262186352925846), (3950, 0.010128040258645374), (3951, 0.02517089154965037), (3952, 0.00906918922518678), (3953, 0.0030505819450523763), (3954, 0.0031643110779082844), (3955, 0.04062341607952441), (3956, 0.0029883497213194893), (3957, 0.012159422733577514), (3958, 0.0), (3959, 0.0034726240415645284), (3960, 0.04511102450370874), (3961, 0.003700676877394789), (3962, 0.008881903985823865), (3963, 0.018082889873428116), (3964, 0.005087795502619182), (3965, 0.004350751962721598), (3966, 0.0), (3967, 0.013778357808517038), (3968, 0.0), (3969, 0.11001943749431306), (3970, 0.0), (3971, 0.003673796962982199), (3972, 0.0), (3973, 0.013270271896718278), (3974, 0.003017723468974938), (3975, 0.0), (3976, 0.0), (3977, 0.0), (3978, 0.0031979774301773003), (3979, 0.0), (3980, 0.0), (3981, 0.0), (3982, 0.011396460323542064), (3983, 0.0025118099146786916), (3984, 0.008317015971587462), (3985, 0.0), (3986, 0.00301671584261448), (3987, 0.0035709763517221167), (3988, 0.00573409683682535), (3989, 0.0), (3990, 0.004627839697175169), (3991, 0.017181795289091435), (3992, 0.008939435503367869), (3993, 0.0), (3994, 0.0), (3995, 0.02363688347760407), (3996, 0.0054316765427431316), (3997, 0.0), (3998, 0.004388851306412921), (3999, 0.004128364270188664), (4000, 0.01463255914249984), (4001, 0.031246063904898903), (4002, 0.0038937428211173707), (4003, 0.00503226968848395), (4004, 0.003400207681057692), (4005, 0.0035825765506334252), (4006, 0.016233162813072292), (4007, 0.0064776419227559), (4008, 0.004727808352051093), (4009, 0.0), (4010, 0.005256475288878114), (4011, 0.018894880194568107), (4012, 0.019357484043421278), (4013, 0.0036503083815352787), (4014, 0.0033923692297230723), (4015, 0.002765744061347102), (4016, 0.014711510838080644), (4017, 0.004549801923743952), (4018, 0.007765626469154752), (4019, 0.01912354539922998), (4020, 0.01447250518006346), (4021, 0.0), (4022, 0.0), (4023, 0.02280133882833548), (4024, 0.05950742232342032), (4025, 0.008204495321983158), (4026, 0.010038336852904324), (4027, 0.03293863583498876), (4028, 0.03617099739111065), (4029, 0.004464414664045509), (4030, 0.003924341702515545), (4031, 0.018650985043443005), (4032, 0.03238722559271918), (4033, 0.003537112379994506), (4034, 0.0), (4035, 0.003963844281655635), (4036, 0.007727185232312899), (4037, 0.004315566641515321), (4038, 0.0035844330881239805), (4039, 0.0), (4040, 0.02058802140788739), (4041, 0.0), (4042, 0.0037031175451609838), (4043, 0.0), (4044, 0.0), (4045, 0.012042934108390886), (4046, 0.0036755834666063166), (4047, 0.014408066000161411), (4048, 0.0036704472704809548), (4049, 0.00802613672631715), (4050, 0.0), (4051, 0.02154058860114663), (4052, 0.06060679088250214), (4053, 0.03004605965896165), (4054, 0.09056335398298575), (4055, 0.0), (4056, 0.0033346901695028098), (4057, 0.014902766344921676), (4058, 0.005666369997877802), (4059, 0.024455957349915576), (4060, 0.0033310727936904693), (4061, 0.03748239461369612), (4062, 0.004060942501897791), (4063, 0.0), (4064, 0.005053657352542556), (4065, 0.0), (4066, 0.03033830844172992), (4067, 0.0), (4068, 0.003406207587469845), (4069, 0.04804127511522831), (4070, 0.011401416534748687), (4071, 0.015096127102010665), (4072, 0.0), (4073, 0.0044401864983750605), (4074, 0.07588524959868219), (4075, 0.003912180578642854), (4076, 0.018062459744442576), (4077, 0.0), (4078, 0.0), (4079, 0.0034756676062724216), (4080, 0.0030062205647541865), (4081, 0.014833776038956508), (4082, 0.004736429034852234), (4083, 0.0035003699501032826), (4084, 0.005857812089225453), (4085, 0.0031911167498730394), (4086, 0.004929617158810145), (4087, 0.003644747385089867), (4088, 0.011681998969337156), (4089, 0.015360244048697161), (4090, 0.0), (4091, 0.0), (4092, 0.0037942433353202426), (4093, 0.00465999097862734), (4094, 0.021981082394729394), (4095, 0.0028453839655963624), (4096, 0.0), (4097, 0.046643594002999014), (4098, 0.003436776431008013), (4099, 0.03118531229558148), (4100, 0.017513999441569856), (4101, 0.003659416944241871), (4102, 0.010041211544948504), (4103, 0.0), (4104, 0.007009886879071792), (4105, 0.005113513298795718), (4106, 0.0), (4107, 0.018215760893404688), (4108, 0.017852790796316072), (4109, 0.035521110700612306), (4110, 0.0), (4111, 0.025854215037072262), (4112, 0.004446651606473676), (4113, 0.029020197470786317), (4114, 0.009893324914817663), (4115, 0.021527863728385378), (4116, 0.0036553217900800413), (4117, 0.022040138420550935), (4118, 0.004912609580795735), (4119, 0.0), (4120, 0.0), (4121, 0.005181343184234122), (4122, 0.0), (4123, 0.0035401326531147134), (4124, 0.0031725019084958314), (4125, 0.004731503485076124), (4126, 0.003901464708470041), (4127, 0.03786396850275398), (4128, 0.0), (4129, 0.0032452825950147596), (4130, 0.003664597396692792), (4131, 0.004875028133001667), (4132, 0.037185286665641276), (4133, 0.01608555261007573), (4134, 0.0), (4135, 0.008020537742444343), (4136, 0.003492732807482342), (4137, 0.02177008560813024), (4138, 0.0037163474100250444), (4139, 0.003237658682836932), (4140, 0.00864081293774321), (4141, 0.0029893857629254244), (4142, 0.004286576505385391), (4143, 0.08098144853725442), (4144, 0.0492857397642594), (4145, 0.0370238859652328), (4146, 0.0), (4147, 0.0096294603296612), (4148, 0.0), (4149, 0.009211328112244926), (4150, 0.012939861548510168), (4151, 0.0057605835742165845), (4152, 0.014074722975572227), (4153, 0.09887148165027161), (4154, 0.003029639932841657), (4155, 0.014093337566497117), (4156, 0.006932300053092762), (4157, 0.0), (4158, 0.0917711368742943), (4159, 0.0), (4160, 0.003759130228292138), (4161, 0.0036069578620269846), (4162, 0.08920224585301156), (4163, 0.0038871882932462487), (4164, 0.010410407445356823), (4165, 0.0), (4166, 0.005881282150984697), (4167, 0.0), (4168, 0.0), (4169, 0.0035714560283413585), (4170, 0.0), (4171, 0.015245845016177904), (4172, 0.00443246555027606), (4173, 0.004874094897618928), (4174, 0.007279009917215146), (4175, 0.01570827924954525), (4176, 0.0030829515197138037), (4177, 0.0), (4178, 0.0035205135763612077), (4179, 0.0), (4180, 0.0733508655064975), (4181, 0.012565173731135179), (4182, 0.005999945099676127), (4183, 0.003251898461070513), (4184, 0.016019984577644444), (4185, 0.0), (4186, 0.02650861048698485), (4187, 0.0038043049159290623), (4188, 0.011326329566840748), (4189, 0.0034295472086112813), (4190, 0.005433149927534628), (4191, 0.028255424021999098), (4192, 0.007658129370051959), (4193, 0.0), (4194, 0.0), (4195, 0.004552789974915365), (4196, 0.0), (4197, 0.008062142853404224), (4198, 0.07285203768246373), (4199, 0.01979309556798356), (4200, 0.015963379425671873), (4201, 0.0), (4202, 0.004688182323912592), (4203, 0.00916695272747868), (4204, 0.005422113030408488), (4205, 0.0029947274449549388), (4206, 0.018340069785511434), (4207, 0.004943990717592776), (4208, 0.0), (4209, 0.00410846616446316), (4210, 0.004620726056804025), (4211, 0.0), (4212, 0.0), (4213, 0.007519997849849948), (4214, 0.0046143893986046285), (4215, 0.06306144402261277), (4216, 0.0), (4217, 0.008799987826841932), (4218, 0.0400988332473015), (4219, 0.0), (4220, 0.013013970229165535), (4221, 0.004482700960489614), (4222, 0.025894373258636364), (4223, 0.06186104248090944), (4224, 0.0), (4225, 0.003519539388946872), (4226, 0.017442497358836136), (4227, 0.0), (4228, 0.03787624789875725), (4229, 0.0), (4230, 0.004295974071627816), (4231, 0.003576550790569237), (4232, 0.0029147979227829414), (4233, 0.009650109392294225), (4234, 0.042702725547831874), (4235, 0.0), (4236, 0.0), (4237, 0.00405571914210869), (4238, 0.0), (4239, 0.02204260186261935), (4240, 0.0), (4241, 0.08107625466143903), (4242, 0.004165282419551099), (4243, 0.003816908685622677), (4244, 0.003841042366429211), (4245, 0.0036022940159744815), (4246, 0.007487880491033551), (4247, 0.01896020896775571), (4248, 0.0), (4249, 0.0034593978965249176), (4250, 0.0), (4251, 0.0), (4252, 0.0043830501954347555), (4253, 0.0), (4254, 0.00742558636077413), (4255, 0.03739152905895148), (4256, 0.03310220465671143), (4257, 0.018188391163683593), (4258, 0.00496360100910779), (4259, 0.04133904709327059), (4260, 0.004814951544848443), (4261, 0.0), (4262, 0.003480863862346509), (4263, 0.008710350389736287), (4264, 0.0), (4265, 0.0), (4266, 0.003383214775714126), (4267, 0.0038499297513292386), (4268, 0.014692546220941958), (4269, 0.015823634229135502), (4270, 0.0), (4271, 0.0), (4272, 0.020227782109746163), (4273, 0.020588159921794188), (4274, 0.0), (4275, 0.0), (4276, 0.0), (4277, 0.003071021670191021), (4278, 0.0), (4279, 0.0), (4280, 0.003973532305503019), (4281, 0.0), (4282, 0.05072426120152668), (4283, 0.021989369939757215), (4284, 0.0032897281972731488), (4285, 0.005346036347878321), (4286, 0.015596995248310073), (4287, 0.008170327715603543), (4288, 0.006822261642898396), (4289, 0.0), (4290, 0.010288481584560761), (4291, 0.004549171887887883), (4292, 0.0), (4293, 0.008824771523245935), (4294, 0.0), (4295, 0.009029260089952787), (4296, 0.002920437967919695), (4297, 0.028584923431242644), (4298, 0.004113272402548531), (4299, 0.04155832396821325), (4300, 0.004591167041259409), (4301, 0.0024875207322545313), (4302, 0.0), (4303, 0.03281625931655322), (4304, 0.007097821794337732), (4305, 0.004232077952563892), (4306, 0.034315222230381734), (4307, 0.0), (4308, 0.008672643505828258), (4309, 0.0032724394402338973), (4310, 0.0), (4311, 0.006425120285828241), (4312, 0.012247262794852116), (4313, 0.0), (4314, 0.004392639047542654), (4315, 0.004851326244909255), (4316, 0.0), (4317, 0.00516580949717406), (4318, 0.003542872067594819), (4319, 0.016399013948399176), (4320, 0.003344292747624088), (4321, 0.08131302241266686), (4322, 0.010437312902249718), (4323, 0.016805607129471878), (4324, 0.005050210996126141), (4325, 0.014798685217077948), (4326, 0.0030739248497003804), (4327, 0.06746949769094626), (4328, 0.0), (4329, 0.004677592714038416), (4330, 0.003354677215162234), (4331, 0.0), (4332, 0.09003832811563772), (4333, 0.003772743454538602), (4334, 0.003465303127475453), (4335, 0.005188917102452361), (4336, 0.06801769377487772), (4337, 0.0), (4338, 0.012450864308095904), (4339, 0.0), (4340, 0.0034676581620725583), (4341, 0.005403873723661449), (4342, 0.0), (4343, 0.002965613344616672), (4344, 0.0028660300938823415), (4345, 0.16817590545121716), (4346, 0.06450131078209086), (4347, 0.009749781199823759), (4348, 0.003083318060190308), (4349, 0.0032968538747520154), (4350, 0.0030220306025625374), (4351, 0.004885366379808986), (4352, 0.0), (4353, 0.018061815821979618), (4354, 0.003507394190311114), (4355, 0.003571869528827199), (4356, 0.03962781334064461), (4357, 0.008430001934239414), (4358, 0.004019281765429634), (4359, 0.013468249971325), (4360, 0.0), (4361, 0.0034882482896346533), (4362, 0.003282914869456748), (4363, 0.003511577477933441), (4364, 0.0), (4365, 0.0), (4366, 0.0), (4367, 0.03022854491438335), (4368, 0.0037734156510518925), (4369, 0.01697201198874222), (4370, 0.09404956179697958), (4371, 0.008480562157108868), (4372, 0.0), (4373, 0.0), (4374, 0.003182614069716619), (4375, 0.0), (4376, 0.0), (4377, 0.0), (4378, 0.0), (4379, 0.0034738274843492535), (4380, 0.0), (4381, 0.0032504157823409936), (4382, 0.007647110728984103), (4383, 0.11607650505926276), (4384, 0.0), (4385, 0.0), (4386, 0.002891651709530594), (4387, 0.003269236133761156), (4388, 0.004684760593151927), (4389, 0.0), (4390, 0.017422748433816766), (4391, 0.049978013257887005), (4392, 0.0), (4393, 0.0), (4394, 0.007847572846733706), (4395, 0.007693610005849939), (4396, 0.0037511473774482196), (4397, 0.003731429451935072), (4398, 0.0038742459522211324), (4399, 0.04023270118561614), (4400, 0.027499549683920085), (4401, 0.016482089410069213), (4402, 0.0031002366185984543), (4403, 0.03333201680687632), (4404, 0.01630050589655631), (4405, 0.0), (4406, 0.012057530367414518), (4407, 0.004385558187247297), (4408, 0.04713316770502003), (4409, 0.0033329733400312683), (4410, 0.0), (4411, 0.0028723556208315355), (4412, 0.003927533928922858), (4413, 0.004939542201672147), (4414, 0.0), (4415, 0.0), (4416, 0.0039465825089913505), (4417, 0.0), (4418, 0.043488579786724824), (4419, 0.003495305745826037), (4420, 0.008338990024137558), (4421, 0.004755467208354639), (4422, 0.019952512844738528), (4423, 0.004347668864860429), (4424, 0.0), (4425, 0.0), (4426, 0.003930731256713432), (4427, 0.0033490444045819823), (4428, 0.0031836640078426884), (4429, 0.01873015352388652), (4430, 0.003510362761959464), (4431, 0.015776506526196266), (4432, 0.017151451294820416), (4433, 0.0047528616196770975), (4434, 0.004363973374891715), (4435, 0.0033688026550663707), (4436, 0.0), (4437, 0.051206765704920096), (4438, 0.0), (4439, 0.04756451240651846), (4440, 0.005825922700464676), (4441, 0.0), (4442, 0.007670789946887241), (4443, 0.004107263155126881), (4444, 0.004391993240485321), (4445, 0.02769021164272869), (4446, 0.008675349718139476), (4447, 0.00413303061165961), (4448, 0.05518295831183544), (4449, 0.0), (4450, 0.0), (4451, 0.00537492857585203), (4452, 0.0051526919838711036), (4453, 0.0050864645749401395), (4454, 0.005255666176257872), (4455, 0.0), (4456, 0.0), (4457, 0.004538766815213444), (4458, 0.003998743508236788), (4459, 0.0), (4460, 0.005163857731629777), (4461, 0.0032277083861179906), (4462, 0.0), (4463, 0.005056635324617278), (4464, 0.04412325209631013), (4465, 0.0038425682562216964), (4466, 0.0), (4467, 0.0), (4468, 0.021306786387735602), (4469, 0.004189117700094171), (4470, 0.0034567094921957205), (4471, 0.0035554292020707774), (4472, 0.0032409991127314974), (4473, 0.10060782856914477), (4474, 0.015532800685124977), (4475, 0.00301500710117742), (4476, 0.0028690032923410153), (4477, 0.003917037930703483), (4478, 0.0), (4479, 0.003087979869771947), (4480, 0.006414261611528758), (4481, 0.0), (4482, 0.0), (4483, 0.01903261737748223), (4484, 0.010544090334067256), (4485, 0.0), (4486, 0.01653747408639073), (4487, 0.0033032244361669147), (4488, 0.0), (4489, 0.00838756046686315), (4490, 0.003976173986432123), (4491, 0.012403402498428693), (4492, 0.0048937212412947665), (4493, 0.0363154027963388), (4494, 0.003787693039623251), (4495, 0.02972967706970195), (4496, 0.00521431535338296), (4497, 0.0035102298695448065), (4498, 0.007466779016816439), (4499, 0.0), (4500, 0.0), (4501, 0.02032654101200989), (4502, 0.0030622130698305878), (4503, 0.003381403442028579), (4504, 0.04910713543383784), (4505, 0.0035489372097168973), (4506, 0.005438918049991608), (4507, 0.009083645308598776), (4508, 0.0), (4509, 0.0), (4510, 0.0), (4511, 0.04234162882480319), (4512, 0.012772700534391175), (4513, 0.0), (4514, 0.005510267400420406), (4515, 0.11893360212575857), (4516, 0.003844664539192136), (4517, 0.0033730880141755507), (4518, 0.0), (4519, 0.027167628794097013), (4520, 0.021354969732321757), (4521, 0.062081860163313865), (4522, 0.008618338370353902), (4523, 0.0032073208599549302), (4524, 0.0), (4525, 0.0), (4526, 0.0), (4527, 0.0), (4528, 0.02184935316313269), (4529, 0.004495429949538959), (4530, 0.03639756696927003), (4531, 0.016348841597525865), (4532, 0.0), (4533, 0.0034314148130150314), (4534, 0.0), (4535, 0.12338132543158112), (4536, 0.028652999723824714), (4537, 0.005930018925208867), (4538, 0.0), (4539, 0.0), (4540, 0.0036025900265006937), (4541, 0.0265301559060639), (4542, 0.01577423864457768), (4543, 0.0), (4544, 0.004182571243259377), (4545, 0.003628261500300161), (4546, 0.004333852574784799), (4547, 0.0), (4548, 0.0), (4549, 0.0), (4550, 0.0032503446955319325), (4551, 0.0037105290659617644), (4552, 0.004721969856257174), (4553, 0.0), (4554, 0.003985478384118599), (4555, 0.011919054185945025), (4556, 0.09871063888432292), (4557, 0.004832336399571399), (4558, 0.07493738067752076), (4559, 0.0), (4560, 0.03317308050242988), (4561, 0.0), (4562, 0.0056593276411320064), (4563, 0.022120601563995028), (4564, 0.02788315753758433), (4565, 0.0), (4566, 0.003534413689394728), (4567, 0.0032044134586380344), (4568, 0.0), (4569, 0.0), (4570, 0.00544567648415407), (4571, 0.03068035086173629), (4572, 0.004114877215162558), (4573, 0.0032502652331214982), (4574, 0.0035899226178335297), (4575, 0.003547502895325719), (4576, 0.035826067736726315), (4577, 0.07852850645251212), (4578, 0.0), (4579, 0.0036139077865205366), (4580, 0.0050835391697807725), (4581, 0.0), (4582, 0.0), (4583, 0.0), (4584, 0.0039417131543051), (4585, 0.0), (4586, 0.029328547672582438), (4587, 0.010864426454696176), (4588, 0.0), (4589, 0.003924322143181875), (4590, 0.04453722593777894), (4591, 0.02006320352084308), (4592, 0.0045414514268588045), (4593, 0.003728216688426578), (4594, 0.003949162516653614), (4595, 0.0), (4596, 0.004015138211336827), (4597, 0.0), (4598, 0.002630375371149645), (4599, 0.010451100158786248), (4600, 0.00416897796665284), (4601, 0.0036697970042121526), (4602, 0.003678578086015851), (4603, 0.0073769183414799915), (4604, 0.0033709176396836417), (4605, 0.01638640157734971), (4606, 0.10236012970707502), (4607, 0.004868652618163973), (4608, 0.002975295679237017), (4609, 0.004586873921373174), (4610, 0.006637233872874276), (4611, 0.004469006976671786), (4612, 0.004173928598742699), (4613, 0.08204293840558108), (4614, 0.003202527105701537), (4615, 0.0), (4616, 0.030170777942003485), (4617, 0.0045855863324515845), (4618, 0.0), (4619, 0.0036992684072963806), (4620, 0.013478802865542462), (4621, 0.0), (4622, 0.030739090346092734), (4623, 0.0), (4624, 0.11584256910443329), (4625, 0.003481264243928526), (4626, 0.0027107172814145896), (4627, 0.006785893696369052), (4628, 0.009404083032208507), (4629, 0.057484661230110465), (4630, 0.0), (4631, 0.04112284047388165), (4632, 0.003952771665271937), (4633, 0.009294070313137028), (4634, 0.0031285395829269884), (4635, 0.049762540795619495), (4636, 0.02203341596064371), (4637, 0.003978442496874525), (4638, 0.003058436092405228), (4639, 0.0), (4640, 0.03303237325451083), (4641, 0.003275289872991123), (4642, 0.028798748226041258), (4643, 0.0034488039684295053), (4644, 0.0), (4645, 0.0), (4646, 0.0), (4647, 0.026186155725799087), (4648, 0.00471133926465263), (4649, 0.0030790856100239407), (4650, 0.009113903205951632), (4651, 0.09028704016787338), (4652, 0.00604478271991744), (4653, 0.0), (4654, 0.0), (4655, 0.004821963689773183), (4656, 0.0), (4657, 0.0036059529537975886), (4658, 0.020739017053262927), (4659, 0.0), (4660, 0.004134420198609733), (4661, 0.013076503896331375), (4662, 0.0), (4663, 0.0), (4664, 0.02252347669676679), (4665, 0.0), (4666, 0.0), (4667, 0.004260207974405538), (4668, 0.003303641151010778), (4669, 0.05386192699446754), (4670, 0.0032116635518702843), (4671, 0.0), (4672, 0.0), (4673, 0.0032473506679848462), (4674, 0.02623232485846781), (4675, 0.004538430534587), (4676, 0.05001113197699054), (4677, 0.0033887854326544536), (4678, 0.0), (4679, 0.012969456682534797), (4680, 0.015772892387200376), (4681, 0.0), (4682, 0.01767874232394723), (4683, 0.0), (4684, 0.0), (4685, 0.003291707628502209), (4686, 0.003373248151799342), (4687, 0.0032783652048718245), (4688, 0.004523377396111768), (4689, 0.0), (4690, 0.014962514846131394), (4691, 0.0), (4692, 0.018414668302338), (4693, 0.003256821756773922), (4694, 0.003939451790015795), (4695, 0.0), (4696, 0.004392453094766736), (4697, 0.036454822850364124), (4698, 0.0), (4699, 0.0037829123010718105), (4700, 0.006168315580731647), (4701, 0.01758210735809872), (4702, 0.01620134191448473), (4703, 0.012217663079327028), (4704, 0.004580345977760431), (4705, 0.004793645470491605), (4706, 0.04134724437714345), (4707, 0.0), (4708, 0.0), (4709, 0.055331822595411626), (4710, 0.004238026837285553), (4711, 0.005376713445913231), (4712, 0.003020337986546099), (4713, 0.024972153691461732), (4714, 0.0), (4715, 0.003361457238679533), (4716, 0.13901956688843548), (4717, 0.009338066181864932), (4718, 0.003760281275076754), (4719, 0.015316749827195303), (4720, 0.005529278483881102), (4721, 0.005669820057532235), (4722, 0.028350934017354387), (4723, 0.026375476180868863), (4724, 0.0041330263477713175), (4725, 0.005561120097790567), (4726, 0.0), (4727, 0.0), (4728, 0.01152331349982433), (4729, 0.0032205488533792164), (4730, 0.0), (4731, 0.0037960845999009452), (4732, 0.03271116936122256), (4733, 0.04597862851999142), (4734, 0.008546504141921854), (4735, 0.0039674835015577874), (4736, 0.0), (4737, 0.005165350098481236), (4738, 0.004553490876291161), (4739, 0.006837075934458951), (4740, 0.0), (4741, 0.0), (4742, 0.0), (4743, 0.00327140169535013), (4744, 0.006410950103176891), (4745, 0.0), (4746, 0.005166992100589089), (4747, 0.013119135548262276), (4748, 0.0029037566736854125), (4749, 0.004499587060348346), (4750, 0.0), (4751, 0.0), (4752, 0.040512614647841276), (4753, 0.0038231287084474963), (4754, 0.0), (4755, 0.011468476137231214), (4756, 0.008208587014265401), (4757, 0.020578179191232945), (4758, 0.0), (4759, 0.0)]\n"
          ]
        }
      ]
    },
    {
      "cell_type": "code",
      "source": [
        "len(Recommendation_score)"
      ],
      "metadata": {
        "colab": {
          "base_uri": "https://localhost:8080/"
        },
        "id": "U9zmpSeYaD41",
        "outputId": "57ad7174-2333-4696-bd5d-d1f006a88310"
      },
      "execution_count": 179,
      "outputs": [
        {
          "output_type": "execute_result",
          "data": {
            "text/plain": [
              "4760"
            ]
          },
          "metadata": {},
          "execution_count": 179
        }
      ]
    },
    {
      "cell_type": "markdown",
      "source": [
        "##**Get all Movies Sort based on Recommendation Score w.r.t Favourite Movies**"
      ],
      "metadata": {
        "id": "HEEexZ9paRP5"
      }
    },
    {
      "cell_type": "code",
      "source": [
        "#Sorting the movies based on their similarity score"
      ],
      "metadata": {
        "id": "UHT9atquaKCd"
      },
      "execution_count": 180,
      "outputs": []
    },
    {
      "cell_type": "code",
      "source": [
        "Sorted_similar_movies = sorted(Recommendation_score, key= lambda x:x[1], reverse=True)\n",
        "print(Sorted_similar_movies)"
      ],
      "metadata": {
        "colab": {
          "base_uri": "https://localhost:8080/"
        },
        "id": "v4KTksj4aq9i",
        "outputId": "04692f9a-0745-4410-afee-28fc764d0182"
      },
      "execution_count": 181,
      "outputs": [
        {
          "output_type": "stream",
          "name": "stdout",
          "text": [
            "[(2478, 1.0), (4345, 0.16817590545121716), (1912, 0.15940592523754735), (3864, 0.1571218778569621), (1895, 0.15580082824309466), (2482, 0.15287908799495706), (508, 0.14209688912765994), (1737, 0.1419754187281768), (2977, 0.14006981248979028), (4716, 0.13901956688843548), (3748, 0.1385934917000371), (856, 0.12962502733815265), (2926, 0.12924270779104374), (4535, 0.12338132543158112), (2546, 0.1194975283866555), (4515, 0.11893360212575857), (493, 0.11875579112058675), (934, 0.11871927213370428), (590, 0.11839049450356665), (3816, 0.11704701090032921), (3592, 0.11619171986985524), (4383, 0.11607650505926276), (4624, 0.11584256910443329), (1168, 0.11509589066631915), (1399, 0.11438061160476365), (3125, 0.1124025386342605), (3969, 0.11001943749431306), (984, 0.10918828124940408), (1208, 0.10888865405662224), (3745, 0.10852068207051871), (1017, 0.10714504244759851), (541, 0.10662382726339081), (2134, 0.10657207469115043), (2403, 0.10298081602720031), (4606, 0.10236012970707502), (2671, 0.10208052423089596), (2547, 0.1020560711800148), (4473, 0.10060782856914477), (3571, 0.10020071724178141), (3739, 0.09999709331416956), (387, 0.09940794307841538), (4153, 0.09887148165027161), (226, 0.09882090210876027), (3801, 0.09876180109576192), (4556, 0.09871063888432292), (2848, 0.0986917670164246), (3052, 0.09700102577930031), (3013, 0.09678412760041286), (1527, 0.09557162915110978), (2173, 0.09519330662127858), (1053, 0.09509925197381275), (3408, 0.09462834027350446), (4370, 0.09404956179697958), (2387, 0.09302496281202226), (3919, 0.09291077091195016), (4158, 0.0917711368742943), (2951, 0.09147388158202774), (4054, 0.09056335398298575), (4651, 0.09028704016787338), (4332, 0.09003832811563772), (2931, 0.08940382510910291), (4162, 0.08920224585301156), (2216, 0.08851047101046769), (3372, 0.08835547675091113), (2724, 0.08782405854681762), (2171, 0.08747370973540539), (3257, 0.08720208786518337), (2685, 0.08679758993700422), (1962, 0.0863371725062729), (3687, 0.08470075215022295), (1627, 0.08448446781714006), (1339, 0.08419763908299241), (1860, 0.08315075334669023), (1705, 0.08299027174766259), (4613, 0.08204293840558108), (2941, 0.08181054028645256), (4321, 0.08131302241266686), (1886, 0.08114946442028856), (4241, 0.08107625466143903), (4143, 0.08098144853725442), (2526, 0.08086555611268482), (3194, 0.08061492284310741), (3689, 0.0804014490807788), (436, 0.07945516923568109), (308, 0.07941282684620962), (4577, 0.07852850645251212), (1514, 0.07762678509763617), (939, 0.0771816085973179), (2281, 0.07696400109499071), (3354, 0.07661497801181506), (2743, 0.0759942963672478), (4074, 0.07588524959868219), (2307, 0.07573446163663199), (663, 0.07520284766755418), (4558, 0.07493738067752076), (2060, 0.07480459060580384), (472, 0.07446472731371193), (1557, 0.07420952766023545), (302, 0.07395657943069803), (3239, 0.0738369202422498), (977, 0.07380627312378485), (1186, 0.07365036097222112), (1840, 0.07340552563725328), (4180, 0.0733508655064975), (3087, 0.0731883444838013), (2006, 0.0729384577159429), (4198, 0.07285203768246373), (2730, 0.07275606037886495), (2920, 0.07273713697834978), (2826, 0.07257509711093037), (1131, 0.07211079635831255), (564, 0.07183218634573614), (2014, 0.07182895269452463), (733, 0.0713083201339932), (1497, 0.07128103529454712), (391, 0.07120479192864002), (2882, 0.07107724481178168), (2211, 0.0706886730381141), (1145, 0.07065273514761836), (1896, 0.07055107502299568), (27, 0.07028719330989049), (2756, 0.06983660422698716), (3274, 0.06982222444458383), (1694, 0.0696755488748543), (3639, 0.06964471426720606), (3612, 0.06957765753301151), (3934, 0.06956459726507999), (3552, 0.06930103658739165), (1169, 0.06887913184765855), (3569, 0.06883827640447068), (4336, 0.06801769377487772), (3325, 0.06799036282780936), (3367, 0.0677700267515132), (4327, 0.06746949769094626), (2658, 0.06746214613196123), (384, 0.06716347164325157), (126, 0.06700446512207962), (1583, 0.06677850489287034), (2011, 0.0666736018873632), (2857, 0.0666685857060428), (3286, 0.06619156451781898), (3740, 0.0661845746090859), (902, 0.06617158974745585), (2802, 0.06562378361417041), (215, 0.06559998640312871), (2631, 0.06554212294141956), (2350, 0.06538093861473052), (1750, 0.06454166701773621), (1748, 0.06451621713744903), (4346, 0.06450131078209086), (1730, 0.06419922040381165), (1598, 0.06347940344842631), (2286, 0.06320004147568402), (4215, 0.06306144402261277), (942, 0.06282021503709234), (2368, 0.06233049569236913), (4521, 0.062081860163313865), (419, 0.06206234540544266), (1410, 0.062020728807095735), (4223, 0.06186104248090944), (147, 0.06144069452798078), (2531, 0.060994525481288135), (2935, 0.06085294160225327), (212, 0.06063996189812109), (4052, 0.06060679088250214), (350, 0.06058306741024347), (3888, 0.060538757957184386), (1241, 0.06027794945677919), (1005, 0.060181307867245994), (3067, 0.06011638939965547), (826, 0.06001557874863455), (2720, 0.05997111137898822), (4024, 0.05950742232342032), (168, 0.05924543731766236), (2294, 0.05919282943879732), (2405, 0.059085267583487665), (441, 0.05895896388237427), (442, 0.0588848824642144), (571, 0.05867707057275494), (2507, 0.058670421480222404), (1971, 0.05866144639336069), (3072, 0.05851534403519403), (2537, 0.05845280708030295), (3797, 0.05841652958926528), (3088, 0.058376487349695735), (1570, 0.05795204639567192), (3148, 0.05784896974813073), (3042, 0.05773406922722549), (2083, 0.05766783905478391), (4629, 0.057484661230110465), (3627, 0.057337336920661536), (3559, 0.057269427110861956), (2087, 0.0572424635334388), (3443, 0.05721996129047059), (3930, 0.05711955214334396), (2199, 0.056899164617158396), (2694, 0.05670698031528349), (2659, 0.05654805808167885), (783, 0.05596608647073502), (2129, 0.055820022301716656), (499, 0.055603522827979944), (2950, 0.05549052509127195), (2662, 0.05540532935473136), (1499, 0.05535996115585705), (4709, 0.055331822595411626), (2034, 0.05529188829057185), (3282, 0.05525921659192516), (4448, 0.05518295831183544), (3384, 0.05509319038733735), (397, 0.05504729926495858), (371, 0.054730840035227546), (2446, 0.05466229188907855), (353, 0.05449004453855425), (3768, 0.05439124576370595), (374, 0.05436769912719305), (793, 0.05431166183507712), (3266, 0.054305636591560756), (2390, 0.054213930888799625), (3672, 0.0540747534068893), (2817, 0.054015543203451366), (386, 0.053888224773253696), (4669, 0.05386192699446754), (3767, 0.053842123244359746), (1112, 0.053793512141362576), (1179, 0.05364423244848384), (2893, 0.05348690056058725), (3249, 0.05329304995167289), (551, 0.05306294870064616), (3357, 0.05296483198480633), (3537, 0.05285139425633478), (2349, 0.05268998091813651), (2310, 0.052351554555176705), (1160, 0.052303436679524654), (3836, 0.052042079463372574), (2397, 0.05204032028391741), (3544, 0.051867467526341506), (162, 0.051843425093128004), (3800, 0.05179313562132172), (3020, 0.051728301072784755), (2775, 0.05166145253366052), (3561, 0.05158687629665459), (4437, 0.051206765704920096), (3263, 0.05119484469927429), (119, 0.0510961811010805), (91, 0.05108813657755283), (2434, 0.05093964408858265), (1100, 0.05093596777837719), (2348, 0.05087250073124075), (2388, 0.050836297981727), (4282, 0.05072426120152668), (3217, 0.05058911388260328), (3742, 0.05033381869253042), (3008, 0.05023139388525791), (3678, 0.05017681953827989), (4676, 0.05001113197699054), (4391, 0.049978013257887005), (2628, 0.04981666393872891), (4635, 0.049762540795619495), (1893, 0.04974696947731245), (1104, 0.04968202849335856), (1911, 0.04965559107951903), (3213, 0.049544675623375736), (2320, 0.04953526359448777), (2696, 0.04953263671179895), (1947, 0.049464700253195396), (4144, 0.0492857397642594), (1463, 0.04926235661377191), (815, 0.049230191139392074), (4504, 0.04910713543383784), (2645, 0.04897444629384115), (2939, 0.04889399080837417), (2702, 0.048700374784322015), (2218, 0.04866463055665558), (184, 0.04852425372460741), (3108, 0.0484747262157794), (1708, 0.04844532520873037), (2739, 0.048284619367098755), (3848, 0.04827944397165833), (3015, 0.048222474122108505), (1821, 0.04821389267740315), (2787, 0.04816855336692284), (4069, 0.04804127511522831), (2520, 0.0477692283171178), (1764, 0.04776536554251113), (574, 0.0476950630415538), (1883, 0.04757651080329814), (4439, 0.04756451240651846), (1656, 0.04751165118892675), (2209, 0.04743759814818489), (1273, 0.04733625506390802), (2108, 0.04729401992580627), (269, 0.04728352035409346), (2727, 0.047217440812859626), (1982, 0.04721575803771943), (4408, 0.04713316770502003), (1151, 0.047120766563880534), (2272, 0.04705240941736732), (3521, 0.04688145205624549), (1844, 0.0467622186420591), (3044, 0.0467563086628088), (403, 0.046706187723263654), (4097, 0.046643594002999014), (3170, 0.046524081882980114), (3031, 0.04648570471746205), (3123, 0.04641725586737441), (1707, 0.04633586920375492), (2459, 0.04631864958886853), (2966, 0.046261082641917285), (3324, 0.046136479030353596), (711, 0.04611241399520902), (1069, 0.04605039013368612), (3206, 0.04604218143825179), (2385, 0.046038434198836374), (4733, 0.04597862851999142), (1213, 0.045939151243474974), (1658, 0.04588071250446805), (2217, 0.04582585441558146), (3279, 0.045806245139314535), (3184, 0.04572430411845382), (565, 0.045585321209469336), (1409, 0.045585300373487514), (2514, 0.045510865901371246), (3484, 0.04545663114999641), (2970, 0.045417808612102185), (2726, 0.045240358113899495), (3960, 0.04511102450370874), (760, 0.04503524383872695), (2305, 0.04489923045966651), (3388, 0.04489448309146888), (1075, 0.044845595113623064), (2613, 0.04483148786373919), (462, 0.044822336040376956), (2486, 0.04482149614021172), (3681, 0.04480195780275729), (1902, 0.04478768521293092), (2003, 0.04473801175243676), (1547, 0.04465236310826347), (1760, 0.04464232503213484), (2417, 0.044556279892630425), (3812, 0.044553979578776944), (2640, 0.04454252969775423), (4590, 0.04453722593777894), (2186, 0.04449708688438611), (3210, 0.04444318160342037), (2619, 0.04439708884545919), (3540, 0.044384670968395726), (1398, 0.04438114634640436), (3224, 0.04436241701913975), (3359, 0.04428679702602738), (3284, 0.0442223104271481), (4464, 0.04412325209631013), (3425, 0.0440936557163267), (1765, 0.04407012667331548), (2332, 0.04392279350361082), (3419, 0.04391620419843212), (665, 0.04391069736244112), (2988, 0.04390715224449993), (3506, 0.04389005157665514), (2028, 0.04387857983685865), (2984, 0.04383051161722843), (1671, 0.04366958858203496), (3289, 0.04366801986539802), (490, 0.043629912498662146), (3107, 0.043620610987254574), (1836, 0.043587721478022076), (3654, 0.043529918778305116), (3878, 0.04352007557551961), (2010, 0.04351694215876517), (4418, 0.043488579786724824), (3371, 0.04348749256286269), (1337, 0.043483913775186976), (122, 0.04348130595264589), (3283, 0.04340158782675057), (2292, 0.043398130451241274), (1942, 0.043311545970554054), (1224, 0.04325890618070455), (2798, 0.04322957032767394), (1349, 0.0431975403596516), (579, 0.04319391414459229), (2396, 0.042997415800482094), (2973, 0.0429715830494177), (3564, 0.04273620347813242), (2340, 0.042715704580531394), (4234, 0.042702725547831874), (1450, 0.042617383384972424), (3414, 0.04259807359130383), (3316, 0.04238817948591151), (2999, 0.042368528014990775), (2585, 0.04236299739245923), (3157, 0.042356775934461216), (4511, 0.04234162882480319), (3510, 0.04232180213271316), (2512, 0.04230439097491865), (3477, 0.042252075058752184), (2992, 0.042203662786928366), (416, 0.04214995656480154), (2776, 0.04211366596580159), (3101, 0.04204274256480534), (2890, 0.041991507661226626), (2996, 0.04187890682750193), (1928, 0.0418762830476469), (1602, 0.04187276374990763), (1490, 0.0418240009795766), (3749, 0.041801564914144815), (2945, 0.04170992415488485), (2147, 0.04166907165704141), (3220, 0.04164439407384998), (3146, 0.041628585051941946), (4299, 0.04155832396821325), (275, 0.041473011439499934), (3422, 0.041407616067428064), (4706, 0.04134724437714345), (4259, 0.04133904709327059), (2912, 0.041259084576465446), (3348, 0.04123637726343317), (3269, 0.04116403721004243), (4631, 0.04112284047388165), (1664, 0.0411079012647452), (3415, 0.0410854660701747), (3622, 0.04106699651806514), (2190, 0.041019308339148665), (1442, 0.04099388617265258), (776, 0.0409929800449981), (2254, 0.040836216007040814), (792, 0.040781579442991274), (3543, 0.040691753352321405), (3955, 0.04062341607952441), (2816, 0.0406195318804157), (627, 0.04061003336791206), (822, 0.040528731621256864), (1779, 0.0405154034114778), (4752, 0.040512614647841276), (207, 0.04043939648877612), (2846, 0.0404228159580929), (2821, 0.04039904871661082), (3547, 0.04030351582179859), (3646, 0.04029069133285965), (2580, 0.040280575920004724), (3017, 0.04023425475321188), (4399, 0.04023270118561614), (3264, 0.040182046694642), (71, 0.040113215968266586), (4218, 0.0400988332473015), (1196, 0.040094534794501514), (1728, 0.03997758699368635), (3242, 0.03995332241200448), (2755, 0.03983070508540797), (1429, 0.03980708100601506), (3251, 0.03974739918313775), (1995, 0.03966219815354484), (4356, 0.03962781334064461), (390, 0.03961445665237805), (2904, 0.03958092357526261), (1985, 0.039565230660159496), (1841, 0.0395617011494078), (546, 0.039552836539440965), (2796, 0.03953507247927542), (631, 0.039419080667506545), (2198, 0.03929295060858819), (2386, 0.03919647677173049), (1423, 0.039103173153315844), (635, 0.03908828164535852), (2466, 0.03908150504028138), (3110, 0.03903747092303112), (3701, 0.03901303983712956), (3329, 0.03895445655354254), (3198, 0.03891260271494457), (2954, 0.0389066817924739), (178, 0.038802004044830724), (759, 0.03879527652423644), (1447, 0.03872117553975429), (3501, 0.03868218954140557), (3465, 0.03866564984012907), (696, 0.03858970655184195), (2402, 0.038588695609823406), (473, 0.038549747772484495), (2144, 0.03838530229604895), (2232, 0.038314952373981484), (2533, 0.03827430602574599), (3447, 0.038208807936105045), (11, 0.03819628871660614), (2244, 0.03816544727120212), (842, 0.03814191384788315), (3226, 0.03808367633279202), (988, 0.03807986865393523), (761, 0.03806024071118506), (1618, 0.038012382865329535), (1318, 0.03800146724036611), (2195, 0.03795424870805369), (348, 0.03795173957180935), (1649, 0.03793791030349254), (2900, 0.03793357558732542), (4228, 0.03787624789875725), (4127, 0.03786396850275398), (1287, 0.037785058488241575), (721, 0.03777822102207335), (1954, 0.03774521565972151), (2946, 0.037729883877378655), (114, 0.037703907641271364), (2860, 0.037650047031225584), (1021, 0.03752054782886088), (949, 0.03748991311820706), (4061, 0.03748239461369612), (2670, 0.037447707374016724), (3647, 0.03744082217743328), (3706, 0.03741553047823719), (4255, 0.03739152905895148), (3449, 0.037330643669972574), (1807, 0.037326897892344224), (2550, 0.03729835660613796), (3177, 0.037291677078595764), (4132, 0.037185286665641276), (343, 0.037165103278026856), (2029, 0.037152487363422686), (1617, 0.03715122338824237), (2636, 0.037128180560558846), (488, 0.03708283956400383), (2698, 0.03707671425237827), (3491, 0.03703019207643874), (4145, 0.0370238859652328), (651, 0.03701382598450184), (2401, 0.03698397591235433), (3370, 0.03693839339361924), (2311, 0.03692871947046664), (2594, 0.03677045960837949), (2223, 0.036738380526384964), (2082, 0.03673731511239264), (3660, 0.03669736191497141), (573, 0.036686912420702746), (1531, 0.03666570735322171), (3900, 0.036592982168741114), (1775, 0.03650569861990639), (768, 0.036469394096813545), (4697, 0.036454822850364124), (4530, 0.03639756696927003), (444, 0.036391509259052816), (3029, 0.03638024346646013), (2141, 0.036373168878418065), (1257, 0.036347179544517584), (3799, 0.036341714401321425), (4493, 0.0363154027963388), (3822, 0.0362800862767077), (3014, 0.03619248899725574), (1043, 0.03618514811763089), (3200, 0.036171261209153205), (4028, 0.03617099739111065), (1592, 0.03615288358208534), (2226, 0.03606740908845572), (2335, 0.03606497717125657), (3351, 0.036055413371802424), (1032, 0.03594281335872669), (2076, 0.03593736158829996), (1036, 0.03589112471166731), (4576, 0.035826067736726315), (2634, 0.035822724214585475), (413, 0.035787334819356836), (357, 0.03576094622465617), (1044, 0.035731654882750395), (372, 0.035721556770294795), (3057, 0.035699106821667166), (2552, 0.03557862263616315), (2149, 0.035556190254280404), (4109, 0.035521110700612306), (85, 0.035484176043254684), (1733, 0.03542820293855031), (1797, 0.035381645247195594), (3829, 0.035374007102600455), (2393, 0.035336916635047615), (381, 0.035333227268322775), (2452, 0.03532308694464283), (852, 0.03528365893625188), (2105, 0.03525994348964894), (3089, 0.03518454697885615), (1448, 0.03516271101905709), (2735, 0.0351357744173331), (2845, 0.035025886711793845), (2509, 0.03501602959893585), (2833, 0.03499244185097159), (2142, 0.03497784001935693), (911, 0.034944609617776165), (369, 0.034640976224158786), (2441, 0.03450463952199603), (936, 0.034495667253030396), (3617, 0.03448589935261824), (957, 0.03439542766531145), (3947, 0.03439048477647502), (4306, 0.034315222230381734), (3410, 0.034288744889370136), (3837, 0.034240252389236475), (429, 0.034229641111817644), (2460, 0.034212250805094824), (2248, 0.034211883856829745), (2925, 0.03421151958502047), (2266, 0.03417638119361868), (2607, 0.03411005523581296), (2545, 0.03402773281171096), (871, 0.03402250212515507), (3538, 0.033975917173339865), (1804, 0.033966565516307015), (309, 0.03385982678840855), (183, 0.0338281455917877), (2258, 0.03382517581256483), (234, 0.03375312953857804), (92, 0.03373925397396709), (97, 0.033644531076411806), (1094, 0.03358215665537482), (2091, 0.03357340220725848), (2261, 0.03356682535032331), (636, 0.03344101396736302), (4403, 0.03333201680687632), (1180, 0.03329861066511173), (1922, 0.033283803085710384), (2204, 0.033278698407314365), (1223, 0.033240597701466), (2365, 0.033176145388866284), (804, 0.03317552511084188), (4560, 0.03317308050242988), (800, 0.03315378895682026), (165, 0.03314203814531936), (3764, 0.03311686733499032), (3007, 0.033112114422220985), (1446, 0.03310573467427033), (4256, 0.03310220465671143), (2516, 0.03305152103116504), (4640, 0.03303237325451083), (1767, 0.032964084117603924), (4027, 0.03293863583498876), (1929, 0.03293382177977989), (3755, 0.0328917888062149), (4303, 0.03281625931655322), (2326, 0.032785293517550884), (861, 0.03276976521093598), (2118, 0.03276426244675919), (3021, 0.032750760506236466), (496, 0.03273137032706063), (1009, 0.03272199291137536), (4732, 0.03271116936122256), (2293, 0.03269060590767538), (1142, 0.03267902623125), (720, 0.03256923007012591), (3695, 0.032551094686242565), (3310, 0.032541481355112624), (3376, 0.03249587830499626), (267, 0.03248955788707077), (859, 0.03243689123132619), (1702, 0.03242133890657402), (952, 0.03241970538650135), (4032, 0.03238722559271918), (3835, 0.03231287737636841), (1914, 0.0322502944853621), (1816, 0.032225334014652225), (659, 0.032179642486246746), (3093, 0.032143033870766564), (385, 0.03205741849760643), (2175, 0.0320443333820255), (3451, 0.03189752399503053), (2279, 0.031823160779734835), (1969, 0.03181908142502173), (3603, 0.03178888186343726), (2835, 0.031712373720756484), (1034, 0.03171039795123935), (1106, 0.03166102429069115), (3730, 0.03165635378445867), (286, 0.03165204647032606), (1854, 0.03161472553060265), (2382, 0.03159685515471609), (2749, 0.031582052269888486), (1215, 0.03157253858854049), (3784, 0.03138327893209551), (468, 0.03137856579823236), (3834, 0.031358722542428025), (4001, 0.031246063904898903), (2734, 0.03120188433868214), (4099, 0.03118531229558148), (1719, 0.0311779093987298), (2886, 0.031160449124921323), (1390, 0.031155562108347613), (3923, 0.031115480121882092), (246, 0.031085579147963588), (3518, 0.031048808526762842), (591, 0.030931289313478282), (1038, 0.0309277132355911), (875, 0.030913076388752042), (3399, 0.03080398157216634), (392, 0.030760997069027386), (4622, 0.030739090346092734), (1641, 0.03070592537893621), (2898, 0.0306934501262444), (4571, 0.03068035086173629), (3532, 0.030669733307740338), (1093, 0.03060696461254204), (303, 0.03056358727713243), (3431, 0.030558962329787998), (3488, 0.03055460886202717), (2906, 0.030551079551024814), (2136, 0.0305255137631904), (3288, 0.030520561734870423), (638, 0.030518537154507325), (2868, 0.030504646362694537), (1336, 0.030406560828983544), (2027, 0.03040292688592649), (4066, 0.03033830844172992), (1866, 0.03030730727471899), (3879, 0.030242147688465826), (4367, 0.03022854491438335), (766, 0.030220429773479607), (4616, 0.030170777942003485), (228, 0.03013612544658202), (1613, 0.03012151914587183), (2056, 0.030059294827412448), (4053, 0.03004605965896165), (2540, 0.030039486305361185), (1652, 0.030037286687352126), (2251, 0.030014733245428755), (3455, 0.02998919685417076), (1963, 0.02996898667347576), (3705, 0.02996299095719336), (961, 0.02996167993207046), (1465, 0.029950994907873795), (370, 0.029942220537836524), (2767, 0.02991054374343288), (624, 0.02987419104390386), (59, 0.029835877631173895), (3299, 0.029801277204837343), (878, 0.029769548347408664), (3942, 0.029767708502599403), (1811, 0.02974962222536528), (4495, 0.02972967706970195), (1079, 0.029713410841523867), (2191, 0.029696033108448077), (3152, 0.02969592030155767), (1861, 0.029638902955837373), (1212, 0.029603416389621832), (3632, 0.0295997498433474), (407, 0.0295955973486303), (1621, 0.02956559272361614), (607, 0.029542166822225647), (862, 0.02950144329691392), (2971, 0.02946520606935492), (3618, 0.029420890409249015), (2980, 0.029413335443120123), (2792, 0.029405880236055313), (28, 0.029401959943584844), (3863, 0.029349154389280426), (4586, 0.029328547672582438), (870, 0.029325559581262546), (1956, 0.0292912580180099), (2766, 0.029267777325950536), (1781, 0.029197639374780367), (175, 0.029171096355630324), (1192, 0.02908058556900641), (3732, 0.02906181498104897), (4113, 0.029020197470786317), (1792, 0.028997011615817903), (604, 0.02898720211269966), (1070, 0.028943343141818123), (1152, 0.028919556417069607), (1421, 0.02891215597359514), (1517, 0.02883133680346824), (4642, 0.028798748226041258), (4536, 0.028652999723824714), (3268, 0.02862420541537159), (4297, 0.028584923431242644), (740, 0.028584624782540587), (3626, 0.028552855122630262), (3880, 0.028494852385645877), (2128, 0.028476763870262146), (1828, 0.02844977717965623), (1957, 0.028449459008168913), (321, 0.028446785128547907), (1471, 0.02843023202722236), (3085, 0.02842984632523259), (72, 0.02842401724484764), (1936, 0.02836772359034498), (4722, 0.028350934017354387), (1325, 0.028345063395758097), (726, 0.028315368323957306), (1219, 0.028275304786955686), (4191, 0.028255424021999098), (1076, 0.02825142437452288), (2322, 0.02820864716459353), (3891, 0.028182219766095504), (1943, 0.02812406986432727), (1206, 0.028035822929838628), (3105, 0.02798628450659033), (2270, 0.02791767891055355), (2643, 0.027899250422345815), (4564, 0.02788315753758433), (1216, 0.02784508056515441), (3937, 0.02779741509614049), (452, 0.027780907685578417), (3285, 0.02772950247649842), (4445, 0.02769021164272869), (2237, 0.02765690993656091), (2018, 0.027621276199171315), (3441, 0.027527931665374268), (457, 0.027525859787909175), (4400, 0.027499549683920085), (247, 0.02744364908860651), (53, 0.027440936257431374), (3347, 0.027412857818482954), (81, 0.027387651458314014), (2858, 0.027366786693788815), (3179, 0.027352797607204812), (1981, 0.027325792109679017), (3906, 0.027308363459640106), (569, 0.02726788121162334), (3026, 0.027261456445643577), (1194, 0.027253869100454672), (3927, 0.027185369820775723), (4519, 0.027167628794097013), (3536, 0.02713452841773057), (2788, 0.027119135302112483), (2614, 0.027063872311070825), (3509, 0.027063541742022502), (1240, 0.02704532889069418), (148, 0.02700587691488462), (306, 0.027003326445225836), (3856, 0.026996138596604338), (379, 0.02699072898546545), (690, 0.02694331641200743), (2247, 0.026887784871333496), (3548, 0.026858739957678946), (1645, 0.026813848770705275), (1515, 0.026811563199176575), (2612, 0.02680632882093388), (3166, 0.026782045962719166), (2737, 0.026676197735485123), (969, 0.026668020919313456), (1316, 0.026651480270848002), (4541, 0.0265301559060639), (3022, 0.026523162909956363), (3323, 0.02651019267561498), (4186, 0.02650861048698485), (3440, 0.02648920679146545), (1989, 0.026482189942692216), (1144, 0.026399516991905594), (4723, 0.026375476180868863), (144, 0.026268655710345236), (2404, 0.02626117959090333), (4674, 0.02623232485846781), (3658, 0.026212169081410032), (2542, 0.02621099393929832), (4647, 0.026186155725799087), (2415, 0.026176204377759943), (898, 0.02608710992478662), (3421, 0.026060050309945678), (3068, 0.026043116710657392), (3633, 0.0259355569995214), (2719, 0.025897274152892245), (4222, 0.025894373258636364), (4111, 0.025854215037072262), (3485, 0.025733062071968762), (2917, 0.025725701333766705), (3394, 0.02555968621823532), (1396, 0.025520235525438424), (1147, 0.025437427812124554), (2378, 0.02538707877374701), (2422, 0.025362143028920453), (2433, 0.02535934308004549), (1796, 0.025324683609891846), (3137, 0.025260189305833833), (3951, 0.02517089154965037), (1117, 0.025099640596721585), (2746, 0.025088390875217713), (2646, 0.025064089732389612), (1780, 0.02500953455236881), (4713, 0.024972153691461732), (2148, 0.024734107914693864), (3380, 0.024638839938241695), (645, 0.024494737781788997), (4059, 0.024455957349915576), (3222, 0.024436215988132497), (2113, 0.024410003483955542), (1648, 0.02439087652067308), (1221, 0.02436615985794451), (182, 0.024343677305887282), (2974, 0.024219636119167113), (596, 0.024170461731504625), (3476, 0.024066707480412536), (1411, 0.023865337303459303), (857, 0.023821645714344954), (1580, 0.023803967704411032), (3924, 0.02371331133901952), (3995, 0.02363688347760407), (777, 0.023551647298145933), (3064, 0.023473012770372337), (2100, 0.0234656201259208), (1695, 0.023439128282100975), (2657, 0.023370572696299028), (956, 0.023360691463965244), (1453, 0.023300142372139863), (764, 0.023285226847225074), (823, 0.023190304078583773), (528, 0.02318985273997278), (1101, 0.023173377361926015), (658, 0.023151020535089554), (819, 0.023129742428081287), (2991, 0.02310224227248571), (1199, 0.023048361183010926), (2219, 0.02302065026996848), (3590, 0.02291493846657078), (3500, 0.022892149208861907), (2361, 0.022881509386753512), (4023, 0.02280133882833548), (2769, 0.022789395157841195), (2738, 0.022785101464396), (2623, 0.022776308042772697), (1002, 0.022736793674519154), (3444, 0.022608626353716025), (2208, 0.022598564476429522), (4664, 0.02252347669676679), (718, 0.022523235419685025), (3393, 0.02247118323891402), (3640, 0.022437452239061177), (1689, 0.02237028684064311), (2072, 0.022353195329854487), (1718, 0.022349258046306955), (2505, 0.022343645343710892), (3009, 0.02234080130917524), (1703, 0.02231972623726375), (3839, 0.02227620154884619), (1019, 0.022273308412360585), (3276, 0.022268925515670834), (3389, 0.02221195162370638), (972, 0.022181283702240637), (1946, 0.02216725283513777), (4563, 0.022120601563995028), (4239, 0.02204260186261935), (4117, 0.022040138420550935), (4636, 0.02203341596064371), (593, 0.022002832781677417), (4283, 0.021989369939757215), (4094, 0.021981082394729394), (707, 0.02197599492268597), (850, 0.021961150993317795), (486, 0.021894019743449344), (887, 0.02187616739916746), (4528, 0.02184935316313269), (2829, 0.02182010473429757), (2888, 0.02179371155156361), (4137, 0.02177008560813024), (2169, 0.021711520830949547), (2067, 0.021701775231886232), (2566, 0.021683926842645238), (749, 0.021585045753951464), (2867, 0.0215569448258306), (986, 0.021555611024468162), (4051, 0.02154058860114663), (4115, 0.021527863728385378), (2782, 0.021492626800663713), (2104, 0.02148656245329523), (12, 0.021484804643442497), (752, 0.02146331068508833), (3003, 0.02144837496245154), (1619, 0.021440644965941322), (1483, 0.021404757626580506), (400, 0.02137401493838696), (3624, 0.021372181375532474), (4520, 0.021354969732321757), (3314, 0.0213378049392635), (108, 0.021337568519469868), (4468, 0.021306786387735602), (282, 0.021251873604573302), (1638, 0.021239149790840777), (3046, 0.021157828715647045), (3379, 0.02114944471749757), (1243, 0.021059352704018867), (3051, 0.021042971390880134), (1769, 0.021017456215381577), (127, 0.02100455379771311), (693, 0.020995944047842722), (3241, 0.020989418014461237), (1475, 0.020973794256482537), (2768, 0.02097002787495777), (987, 0.02086781170425598), (2352, 0.02085554696020111), (3028, 0.020846122156978085), (584, 0.0208176718477149), (1060, 0.020813398919224367), (0, 0.020810955743440863), (3527, 0.02079697188305361), (1848, 0.020784539187312805), (2919, 0.020784081682205052), (2046, 0.020772361736115463), (4658, 0.020739017053262927), (3496, 0.020724952763691948), (3328, 0.02071661924482694), (1637, 0.020710606656409603), (2048, 0.020707682412890522), (2230, 0.020662016276912762), (1683, 0.020660975980256555), (2712, 0.020629293822296804), (52, 0.020626028846159807), (1416, 0.020614561576934025), (3445, 0.020604534698025496), (4273, 0.020588159921794188), (4040, 0.02058802140788739), (798, 0.020586245445706943), (4757, 0.020578179191232945), (1740, 0.02052351880406), (1123, 0.02050189849463018), (2430, 0.020412379312729233), (1742, 0.020397056970832474), (1404, 0.020391356404696394), (2374, 0.020389956596673968), (2800, 0.020380898053046458), (1130, 0.02038009456862263), (2647, 0.020377191067108086), (459, 0.02037584098713558), (1526, 0.02037531149787064), (4501, 0.02032654101200989), (1915, 0.02027727954366461), (2633, 0.020269914687705046), (2455, 0.020250937458270755), (4272, 0.020227782109746163), (1884, 0.0201627484482356), (2561, 0.020143265453205654), (1267, 0.020105696012376353), (598, 0.020099189074525892), (3725, 0.020086144587175645), (410, 0.020069399118521552), (4591, 0.02006320352084308), (545, 0.020006869241000903), (2556, 0.020002908310408764), (4422, 0.019952512844738528), (3913, 0.01991532107675524), (2567, 0.019896031458125445), (1674, 0.019874642569931017), (2674, 0.019857640064711534), (2347, 0.01983053796728863), (3202, 0.01980905350941678), (4199, 0.01979309556798356), (3712, 0.019701112805005593), (3303, 0.01964822860586831), (3939, 0.019648139712169162), (1476, 0.019561279948217696), (3244, 0.019532005291836747), (428, 0.019476017607944072), (1802, 0.019418356968973385), (722, 0.01938339044834832), (4012, 0.019357484043421278), (646, 0.01934757916021189), (1808, 0.019346527580202128), (710, 0.019321654432792684), (2043, 0.01930804098063396), (3076, 0.01930641513167014), (2495, 0.01930597726949782), (3795, 0.019296827754477528), (2762, 0.019293482851832574), (751, 0.019252940375893552), (3762, 0.019218956721347803), (3203, 0.019215040258557477), (2779, 0.01920602123785263), (368, 0.019151267082611046), (3036, 0.019128071238690324), (4019, 0.01912354539922998), (3070, 0.019046294175437007), (4483, 0.01903261737748223), (1813, 0.019024265337100842), (3871, 0.01901596953388924), (828, 0.019005452479348477), (4247, 0.01896020896775571), (3534, 0.01894906625051947), (1084, 0.018919013234747036), (32, 0.01891742005257886), (1136, 0.018911912253881513), (4011, 0.018894880194568107), (734, 0.018842121311018756), (2770, 0.018833290504158887), (582, 0.018796142267273937), (3504, 0.01876904578456195), (4429, 0.01873015352388652), (868, 0.018679797721912167), (4031, 0.018650985043443005), (2795, 0.018630014858922284), (1052, 0.01862582179849617), (1935, 0.018617377279223753), (1597, 0.018598893631991367), (923, 0.01859373015713587), (3140, 0.018565497817247943), (1357, 0.018540695919200306), (550, 0.018519179170610075), (2611, 0.018506906397298108), (3460, 0.018500558288137185), (1379, 0.0184808095017472), (2534, 0.01846371480752341), (4692, 0.018414668302338), (3363, 0.0183982523451773), (2068, 0.01834681730764924), (4206, 0.018340069785511434), (1352, 0.01832414130658804), (2803, 0.018309204433841285), (2557, 0.018295999934260967), (3427, 0.018288088998843405), (626, 0.018281359355595876), (2035, 0.018274873674105817), (3159, 0.018257972268904795), (1865, 0.018251898814345087), (197, 0.01823051127614578), (3515, 0.018228662649454677), (285, 0.018221404612086996), (4107, 0.018215760893404688), (4257, 0.018188391163683593), (1964, 0.01818679741555705), (520, 0.018172498971818725), (3004, 0.018170095186253562), (1161, 0.018161341318015514), (2115, 0.01814814280671634), (2039, 0.018145714637068988), (3253, 0.01814359079154123), (2127, 0.018109626608782316), (903, 0.0180984058911935), (566, 0.018098131376223767), (3963, 0.018082889873428116), (4076, 0.018062459744442576), (4353, 0.018061815821979618), (3340, 0.01806032912209552), (3154, 0.018055786634141764), (1952, 0.018054422224386316), (2188, 0.018003778898962323), (1209, 0.017976554807925087), (524, 0.017976450419520625), (3782, 0.017959185983239576), (2213, 0.017941429217908738), (2969, 0.01789163506013671), (1222, 0.017874202203886264), (4108, 0.017852790796316072), (3024, 0.017845080473090396), (3221, 0.01784486590145), (2563, 0.017841120738581524), (618, 0.017786548909061253), (913, 0.017784531310492947), (926, 0.01776331617574597), (3751, 0.01773061704381299), (1502, 0.017705432278868737), (4682, 0.01767874232394723), (3317, 0.017668690664395602), (2895, 0.017657860739667523), (480, 0.017654464711351354), (2959, 0.01765027377834045), (1625, 0.017620551139131125), (3637, 0.017594510694185064), (1010, 0.017590995927712124), (4701, 0.01758210735809872), (3667, 0.017544957549189725), (2930, 0.017542062376617314), (1089, 0.01754128912382568), (4100, 0.017513999441569856), (653, 0.017504688440165464), (2772, 0.017475009227294447), (2691, 0.01744336573437089), (4226, 0.017442497358836136), (2575, 0.01743842760128935), (4390, 0.017422748433816766), (3360, 0.017406188177757145), (1885, 0.017285053789876312), (3910, 0.017203627606232414), (2000, 0.01719053635631617), (572, 0.01718798278690188), (3991, 0.017181795289091435), (3409, 0.017164829215438087), (3884, 0.017163831929378398), (4432, 0.017151451294820416), (2427, 0.01713562493458597), (3690, 0.017134317715285056), (3450, 0.017133090059418807), (754, 0.017093235486993607), (661, 0.017091320824447337), (443, 0.01706282413178409), (712, 0.017058211282326218), (319, 0.017041452968661153), (1275, 0.017021785033878533), (2120, 0.016977312189176832), (4369, 0.01697201198874222), (2560, 0.01693124342460789), (3301, 0.016892740664322312), (1401, 0.016847565196866168), (1184, 0.016829663390630974), (3661, 0.01682473402192016), (4323, 0.016805607129471878), (1578, 0.016804066465983876), (1042, 0.01680314547453682), (2721, 0.01677673165343807), (1955, 0.016759004432369256), (1299, 0.01674855147384792), (2981, 0.01673939737161089), (3199, 0.01670526265039774), (796, 0.016703305861653122), (3043, 0.016700008814098822), (2936, 0.01669952351536845), (389, 0.016691794551925584), (1881, 0.01668782096492133), (683, 0.016654066489503107), (1604, 0.01662335364035215), (1432, 0.01661941339103371), (149, 0.016614072664152588), (1012, 0.016609256077080418), (266, 0.01659825359350819), (2474, 0.016550464567470002), (843, 0.016545323545618412), (2903, 0.016543506064456308), (4486, 0.01653747408639073), (467, 0.01652747503485854), (1858, 0.01650692148086001), (1314, 0.0164932886391759), (4401, 0.016482089410069213), (2222, 0.01647988430645927), (1244, 0.016457159170502354), (927, 0.016445954974156973), (1961, 0.016436447416243966), (1950, 0.016433610393823704), (1697, 0.016422879720487747), (4319, 0.016399013948399176), (4605, 0.01638640157734971), (3368, 0.01636924228255336), (1037, 0.016366150980327614), (562, 0.01636565625622431), (4531, 0.016348841597525865), (500, 0.01634812481761548), (327, 0.01634373038228145), (846, 0.016337096307583277), (4404, 0.01630050589655631), (328, 0.016283658064757192), (1754, 0.016250801891981536), (4006, 0.016233162813072292), (1425, 0.01623075155754973), (3733, 0.016209453981011), (4702, 0.01620134191448473), (1262, 0.016199435997855515), (2586, 0.016165483250593776), (719, 0.016163252416528606), (123, 0.01613995844625335), (834, 0.016110486802963106), (1577, 0.016094157124125777), (4133, 0.01608555261007573), (2097, 0.016053248726921668), (494, 0.01602811628459094), (4184, 0.016019984577644444), (1906, 0.01600900316093384), (1272, 0.01600393826410851), (3642, 0.015997050415079747), (943, 0.015993123966078847), (4200, 0.015963379425671873), (3704, 0.015941931763319008), (1227, 0.015938687193669785), (527, 0.015927581045947478), (1133, 0.01592056767557583), (3270, 0.01585113466775498), (4269, 0.015823634229135502), (3783, 0.01581335543050943), (3781, 0.01580622684944163), (3904, 0.015778954551729008), (4431, 0.015776506526196266), (4542, 0.01577423864457768), (4680, 0.015772892387200376), (1306, 0.01572572602025292), (4175, 0.01570827924954525), (2565, 0.015649159146857064), (206, 0.015648801485834116), (68, 0.015645386908155444), (2418, 0.015637155890489033), (2714, 0.015612700643265521), (4286, 0.015596995248310073), (1918, 0.015582367425613787), (1135, 0.015558606353365655), (853, 0.015555622594354635), (4474, 0.015532800685124977), (1670, 0.015526759887853068), (830, 0.015507342612035471), (262, 0.015497559108560523), (2152, 0.015493165276652933), (1354, 0.015466741941713952), (502, 0.015443833902469898), (20, 0.01543020870593213), (660, 0.015409774868980257), (482, 0.015397838295385456), (2465, 0.015377032566465136), (3141, 0.015371432798976119), (4089, 0.015360244048697161), (835, 0.015357483195912713), (34, 0.01535060425256778), (3738, 0.015335605305488569), (1125, 0.015331812216543745), (2650, 0.015327054997416423), (2319, 0.01532515356745769), (1259, 0.015324415447484908), (3778, 0.015323328445127854), (4719, 0.015316749827195303), (1544, 0.015315781459752067), (367, 0.015284402011033316), (637, 0.015276473332367708), (4171, 0.015245845016177904), (2053, 0.015230389388825278), (3832, 0.015215844244942291), (3365, 0.01521271041995264), (1700, 0.015205500378453406), (2107, 0.015197511783258073), (1738, 0.015146385666399576), (45, 0.015142343746339663), (4071, 0.015096127102010665), (3699, 0.015067754352240453), (2318, 0.015043132191488711), (3420, 0.015038668665451345), (2073, 0.015034872123550674), (3707, 0.015014311724665308), (832, 0.014999718591387497), (1413, 0.014971628780473575), (4690, 0.014962514846131394), (1721, 0.01492973445295833), (336, 0.014916264450744086), (864, 0.014906538778086988), (330, 0.01490543281165447), (4057, 0.014902766344921676), (3227, 0.014874378583055403), (628, 0.014873424406743248), (2590, 0.014852415858368754), (2071, 0.01484294523761426), (4081, 0.014833776038956508), (1191, 0.014810306123634251), (454, 0.01480758325767748), (4325, 0.014798685217077948), (1039, 0.014766552576451252), (1163, 0.014726125217328207), (2250, 0.014720282396587056), (3589, 0.014712990405591252), (4016, 0.014711510838080644), (4268, 0.014692546220941958), (3247, 0.014690270377794792), (2853, 0.0146782134561684), (1678, 0.014667842274420351), (82, 0.014651700535116578), (4000, 0.01463255914249984), (3435, 0.014608741512092387), (3596, 0.01459970118091328), (3525, 0.014576207035528267), (858, 0.014565416963759039), (1200, 0.014501984516183473), (1110, 0.014500393665931257), (4020, 0.01447250518006346), (1173, 0.014438589050842377), (4047, 0.014408066000161411), (446, 0.01439081172031577), (3412, 0.014387530031298739), (1701, 0.01438676700333475), (3776, 0.014359313550285063), (1569, 0.014325366661075044), (3397, 0.014318538128081508), (664, 0.014301803994267767), (3933, 0.014221664285339691), (497, 0.014198074897266787), (929, 0.014135529205568386), (2869, 0.01412704266331457), (2024, 0.014126565230808186), (914, 0.014114205159769118), (4155, 0.014093337566497117), (4152, 0.014074722975572227), (737, 0.014057980141943465), (2121, 0.014044251455792441), (3171, 0.014032848003036372), (912, 0.014029678454745231), (221, 0.014026090497517232), (186, 0.014021063834788853), (1255, 0.01401677469227447), (2965, 0.014013443432758364), (3293, 0.013962818459242899), (742, 0.013866962136634093), (469, 0.013855887642607877), (3684, 0.013846583080465567), (1249, 0.013832278635423682), (1109, 0.013820666468296845), (73, 0.013812989044018068), (3502, 0.013797586076577948), (1258, 0.01379014270846813), (1698, 0.013781334613943142), (1296, 0.013780235495895098), (3967, 0.013778357808517038), (1850, 0.013761534404482642), (2398, 0.013755506951845782), (86, 0.013721317680196063), (76, 0.013680385102375153), (2168, 0.01365304284920444), (575, 0.013626172241603217), (2253, 0.013584735090780007), (440, 0.013583340279870317), (1814, 0.013583059420876259), (829, 0.013551726881504196), (863, 0.013484669913477564), (1065, 0.01348337605229561), (4620, 0.013478802865542462), (4359, 0.013468249971325), (3271, 0.013467258676047096), (2296, 0.013402618949789504), (1359, 0.013393124001245257), (1220, 0.013314765226940164), (2031, 0.013312048538644568), (2151, 0.01328887775666077), (2285, 0.013274275396793513), (3973, 0.013270271896718278), (3297, 0.013243824523513172), (1951, 0.013223928832890067), (456, 0.01320535520397009), (1591, 0.013202102694918607), (1921, 0.013183983979337678), (2610, 0.013172115992306225), (4747, 0.013119135548262276), (132, 0.013078800079433751), (4661, 0.013076503896331375), (125, 0.013050069360961503), (211, 0.013027917242690578), (4220, 0.013013970229165535), (2617, 0.013006311320618923), (2753, 0.012996071222625194), (741, 0.01297700358749742), (537, 0.01297569796460075), (4679, 0.012969456682534797), (4150, 0.012939861548510168), (2181, 0.01293906737764302), (1418, 0.012887619912044353), (2678, 0.012879628248867861), (3016, 0.012795362360988785), (3385, 0.012776100499534442), (4512, 0.012772700534391175), (3469, 0.012765810485812388), (2921, 0.012755271838853673), (2774, 0.012749229522913252), (1332, 0.012700782020565857), (3182, 0.012696754295392349), (128, 0.012646062822498843), (1725, 0.012602260985483192), (4181, 0.012565173731135179), (2771, 0.01251761218457899), (3178, 0.01250354804686804), (1488, 0.012495261473485139), (1091, 0.01247969806347428), (1845, 0.012475077279292587), (102, 0.012453904722273739), (4338, 0.012450864308095904), (4491, 0.012403402498428693), (1265, 0.012389352950734227), (1634, 0.0123532563669619), (3565, 0.012335201768043735), (2084, 0.012302293112273894), (3356, 0.012250791621402109), (340, 0.012247843792460883), (4312, 0.012247262794852116), (1057, 0.012231540943426867), (4703, 0.012217663079327028), (2111, 0.012208927788125684), (992, 0.01219523122979274), (3957, 0.012159422733577514), (2630, 0.012140980140399575), (1422, 0.012135550808721838), (3512, 0.012126790256514053), (3710, 0.012118790014236328), (2044, 0.012108417711353016), (748, 0.012096083467627236), (3890, 0.012058341573270718), (301, 0.012058322190691783), (4406, 0.012057530367414518), (1452, 0.012048940242844643), (4045, 0.012042934108390886), (1859, 0.012020068002931322), (654, 0.012014514464924122), (3352, 0.011986016024387498), (2790, 0.01198545327537865), (1271, 0.011960177111558933), (4555, 0.011919054185945025), (1588, 0.011910753557346679), (928, 0.011895783036813764), (2345, 0.01188358303887044), (1195, 0.011816233045455786), (1759, 0.011776656120482343), (3463, 0.011759092730812291), (2064, 0.01175173583589872), (95, 0.011726021033978897), (2538, 0.011724611257257185), (4088, 0.011681998969337156), (3522, 0.011666722795076377), (1266, 0.01162978904421834), (2421, 0.011614551291896185), (3147, 0.011603248833175294), (1930, 0.011523563761237416), (4728, 0.01152331349982433), (909, 0.011521363688447249), (1945, 0.011485850851765273), (2529, 0.011479865143700852), (4755, 0.011468476137231214), (39, 0.011446107776362452), (2440, 0.011436467378810631), (2814, 0.01141451480241074), (2379, 0.011413259142926388), (4070, 0.011401416534748687), (2490, 0.01139843902255239), (3982, 0.011396460323542064), (241, 0.011371314518662318), (4188, 0.011326329566840748), (3418, 0.011311174418557834), (1159, 0.011281311954423367), (2764, 0.011266975267940309), (1690, 0.011229562776686913), (2498, 0.011228505425696781), (2137, 0.011208722660017902), (3139, 0.011196756817074738), (90, 0.011147058505245446), (1539, 0.011113932143927245), (1933, 0.011111595961554902), (2722, 0.011101991620247666), (2178, 0.011087872494961591), (1392, 0.011081666899238892), (1953, 0.011075980146086671), (2587, 0.011060831813362083), (825, 0.011055818247916628), (790, 0.011048585814844546), (3040, 0.011044178719186618), (2245, 0.011010231418994702), (3750, 0.010983863145272941), (531, 0.010939174517755468), (93, 0.010918147583550544), (1810, 0.010898357362939471), (1218, 0.010874720913910733), (4587, 0.010864426454696176), (300, 0.010860159518796712), (1274, 0.010825749625617345), (1630, 0.01081623913231496), (2747, 0.010799874339173631), (735, 0.01079888615997687), (1756, 0.010749623558171457), (3193, 0.01070823581866034), (1556, 0.010676833039269227), (2032, 0.01067671860158963), (2682, 0.010635442579149355), (2731, 0.010615470803450116), (1606, 0.01060438536514947), (2442, 0.01060161398043097), (1480, 0.010595435081613357), (568, 0.010572530223150824), (3718, 0.010570335576122379), (3479, 0.01056142641454267), (4484, 0.010544090334067256), (3079, 0.010505659312665573), (475, 0.010484473032927792), (1197, 0.010481006289559145), (225, 0.010478432228979045), (94, 0.010468264975672922), (2110, 0.01045902144530663), (4599, 0.010451100158786248), (1270, 0.010450468848371565), (4322, 0.010437312902249718), (4164, 0.010410407445356823), (2832, 0.01037854645679073), (788, 0.010339600840743068), (170, 0.010328451379931432), (1201, 0.010318578285385132), (1657, 0.010295362394093243), (4290, 0.010288481584560761), (3892, 0.0102805983851087), (1134, 0.010275263435699704), (113, 0.010249442510512663), (2256, 0.010242322031757177), (3899, 0.010184826206041555), (2304, 0.010179958163991063), (2852, 0.010174674823409932), (3201, 0.010160733971534015), (1384, 0.010145519988353386), (3950, 0.010128040258645374), (2838, 0.010106711012198687), (3192, 0.010065336884007238), (4102, 0.010041211544948504), (4026, 0.010038336852904324), (756, 0.010009903532943124), (3619, 0.010001265619975441), (2423, 0.009966498186202523), (1803, 0.009950181021332032), (1563, 0.009898595781367975), (4114, 0.009893324914817663), (3616, 0.009834370505333995), (2834, 0.009811361647901739), (2177, 0.009800032874192625), (3129, 0.009793793816576343), (3577, 0.00977343149994161), (3945, 0.009763032412527682), (3922, 0.00976267041916271), (4347, 0.009749781199823759), (394, 0.00974188205285157), (2729, 0.00972028430026166), (3074, 0.009702708694870313), (2499, 0.009687202207457148), (2797, 0.00967975384891547), (2622, 0.009671330314150657), (2488, 0.009664892629696284), (4233, 0.009650109392294225), (1458, 0.009648081739186288), (4147, 0.0096294603296612), (2627, 0.009593152398067548), (344, 0.009582575232643087), (314, 0.009555736172781422), (3413, 0.009498892735222478), (2106, 0.009418748782630803), (4628, 0.009404083032208507), (3265, 0.009389411383535674), (1049, 0.009377505710204978), (778, 0.009376442575935702), (3308, 0.00936259002815851), (2234, 0.009357706131251923), (2986, 0.009354365385164709), (3480, 0.009346870868583799), (4717, 0.009338066181864932), (431, 0.009326529997478154), (1585, 0.009323442291524701), (3763, 0.009320234661713635), (2570, 0.009307900609902633), (3621, 0.009305838224971379), (4633, 0.009294070313137028), (2732, 0.00929202112680919), (1187, 0.00929157413465916), (1164, 0.009269068644163686), (4149, 0.009211328112244926), (2924, 0.009171657567287342), (3754, 0.009171418700185324), (4203, 0.00916695272747868), (3364, 0.009129497548736121), (2884, 0.009129280892953362), (3337, 0.009125030629237226), (1297, 0.009118746702203823), (3866, 0.009115908454842728), (4650, 0.009113903205951632), (2872, 0.009103278947239562), (925, 0.009093295067887084), (4507, 0.009083645308598776), (2187, 0.009076356470172303), (3952, 0.00906918922518678), (847, 0.009068780186223304), (331, 0.009049104231808523), (985, 0.009046584328048782), (4295, 0.009029260089952787), (3772, 0.008999695898259743), (1329, 0.008990978726600247), (2302, 0.008982513202898298), (1508, 0.008972739133775444), (998, 0.008965177546917644), (999, 0.008957840173933872), (2411, 0.008954938060269316), (1888, 0.008950133205291741), (2914, 0.00894383565793726), (3992, 0.008939435503367869), (2663, 0.008907407899550452), (3373, 0.00890103029680971), (1489, 0.008886349452396997), (3962, 0.008881903985823865), (3585, 0.008880164312053226), (1594, 0.00885439186271993), (2436, 0.008838917498701635), (4293, 0.008824771523245935), (4217, 0.008799987826841932), (1923, 0.008782987133335697), (3062, 0.00876769785895166), (2535, 0.008765220863564368), (2592, 0.008755069970692591), (3097, 0.008720365367154606), (2049, 0.008718539293469225), (4263, 0.008710350389736287), (3309, 0.008700229464259208), (2375, 0.008688111460572839), (2410, 0.008675714179530336), (4446, 0.008675349718139476), (1479, 0.008673796475588117), (2464, 0.00867336639193672), (4308, 0.008672643505828258), (3183, 0.008660032692709475), (2324, 0.008651795198736106), (253, 0.008646387466419943), (3234, 0.00864428710491553), (318, 0.008642519297164288), (4140, 0.00864081293774321), (2823, 0.008626226220303604), (1905, 0.008621943235114742), (1581, 0.008620269761675247), (4522, 0.008618338370353902), (3077, 0.008604213402392159), (2748, 0.008599684397171865), (3258, 0.008599504829404933), (2202, 0.00858343249291155), (3889, 0.008576747408299841), (3736, 0.008556388048659448), (4734, 0.008546504141921854), (2116, 0.008535362456315), (1868, 0.008532963329639053), (2494, 0.008526323893983195), (3319, 0.008518670871232217), (1518, 0.00851732084370817), (1907, 0.008512564449024505), (2661, 0.008489649859525081), (4371, 0.008480562157108868), (2786, 0.008468975778502585), (1537, 0.008466940743038899), (872, 0.00846636042740578), (2260, 0.008459918873753795), (3728, 0.008456714345197163), (2940, 0.008452778685454493), (2391, 0.00844655838038435), (3601, 0.008434146028099028), (3218, 0.00843112334219246), (4357, 0.008430001934239414), (978, 0.008427337142992028), (1572, 0.008414852527282317), (2584, 0.008400994503432969), (3084, 0.008387694610847582), (4489, 0.00838756046686315), (1234, 0.00837442310220153), (1822, 0.008348239012057987), (3037, 0.00834772162204793), (4420, 0.008338990024137558), (2394, 0.00833307016754867), (1007, 0.008325541950070545), (3882, 0.00832322649230864), (3187, 0.008322203979382358), (3984, 0.008317015971587462), (3493, 0.008277354419520794), (3098, 0.008276935840851886), (3150, 0.008274285242143221), (1660, 0.008262909960195382), (1006, 0.008262223084948788), (204, 0.008262079344742018), (583, 0.008259726613750568), (3599, 0.008257307437627958), (3514, 0.0082560656237298), (3382, 0.008252100961254297), (879, 0.008250672228522566), (3845, 0.008248810861723396), (890, 0.008247907545088784), (2601, 0.008247616059935072), (1513, 0.008238166376220768), (1851, 0.008233278034430146), (884, 0.008227915109381739), (1727, 0.008222536936833027), (1364, 0.008211709604893966), (4756, 0.008208587014265401), (3349, 0.008204779184732128), (4025, 0.008204495321983158), (1124, 0.008198976505107213), (2744, 0.008196178550873724), (3517, 0.008188382609793972), (4287, 0.008170327715603543), (1382, 0.00816289173670379), (1715, 0.008160073759332878), (377, 0.008148321797169282), (1494, 0.008147125755730851), (1516, 0.008144525916003937), (3290, 0.008138557939235281), (3526, 0.008093345234494929), (2145, 0.008091785797902623), (115, 0.00808647495401702), (933, 0.008076628305385514), (3113, 0.008066127112310044), (238, 0.008065974529064508), (1688, 0.008064246018157138), (3606, 0.008063386581416816), (4197, 0.008062142853404224), (3792, 0.008042418784440673), (4049, 0.00802613672631715), (1204, 0.008023818680847884), (1533, 0.008022106718495878), (4135, 0.008020537742444343), (3386, 0.00801310605464467), (1722, 0.007986052327185949), (2122, 0.007983694500715458), (2193, 0.007980305302137126), (2608, 0.007980097994319294), (2554, 0.007978021273568973), (3914, 0.007975376379740327), (1232, 0.007969371085278), (2192, 0.007964151344972078), (3155, 0.00796246380869656), (2492, 0.007957861700855398), (504, 0.007956159063263768), (3541, 0.007955140627899229), (2284, 0.007951035067098646), (697, 0.007941425153253447), (1170, 0.007917251133499602), (1304, 0.007910993497136181), (479, 0.007899027519070088), (3665, 0.007889545403850208), (3673, 0.007876337283143936), (2523, 0.00787373005174657), (1298, 0.007864552582699436), (3630, 0.007863819055153315), (346, 0.00785826663182784), (4394, 0.007847572846733706), (2569, 0.007814410351131989), (174, 0.0078114855443245385), (1309, 0.007797769597732878), (867, 0.007794051786258707), (1313, 0.007792957002807), (973, 0.007791437832809837), (2687, 0.007780581717586558), (169, 0.0077699245479716725), (4018, 0.007765626469154752), (3260, 0.007759175797355418), (1286, 0.007752963557314228), (4036, 0.007727185232312899), (2553, 0.007709935118328139), (3402, 0.007706537757111794), (1408, 0.0077021901419016825), (1284, 0.007698409737365501), (4395, 0.007693610005849939), (755, 0.007685570487783299), (3765, 0.0076820548045471535), (4442, 0.007670789946887241), (2461, 0.007667832844442902), (4192, 0.007658129370051959), (1261, 0.007656875098900701), (4382, 0.007647110728984103), (3641, 0.007637733832113459), (2653, 0.007631466538328139), (2467, 0.007630004772503339), (2555, 0.007625378551767639), (2642, 0.007619369690385578), (2131, 0.007597090785386879), (1582, 0.007592360443124243), (3503, 0.007583344112448749), (3246, 0.007581466796293308), (2367, 0.007570102873788212), (3868, 0.0075669634566088995), (2143, 0.007561138226019842), (3315, 0.0075547187188263355), (2309, 0.007554501814031985), (883, 0.00755447237561961), (3214, 0.007550042769212066), (1877, 0.007546494124562158), (1744, 0.0075444240682823694), (157, 0.007531866500900345), (2597, 0.007522626374054978), (4213, 0.007519997849849948), (2706, 0.007518457557395335), (2242, 0.00751687793422835), (505, 0.007512794597407132), (1878, 0.0075089245269780655), (4246, 0.007487880491033551), (3391, 0.00747485098105717), (325, 0.007473143133745128), (4498, 0.007466779016816439), (2303, 0.007458651084293589), (3811, 0.007455318922810803), (2972, 0.007454409423710786), (2812, 0.0074530106500992855), (1663, 0.007450256163726753), (2166, 0.007447961762727011), (507, 0.0074257341367917375), (4254, 0.00742558636077413), (1203, 0.007425288265540397), (1693, 0.007425282000690928), (1372, 0.007418528009545935), (886, 0.00741414233327704), (3941, 0.00741095972654208), (3071, 0.007407403989586059), (941, 0.00740697049045454), (3475, 0.007405187854753689), (279, 0.00740348574787909), (2099, 0.007391781743511716), (471, 0.007385271894748894), (4603, 0.0073769183414799915), (2701, 0.0073729526025196205), (2201, 0.007356726664143382), (589, 0.00732924509308318), (1642, 0.0073193024498242505), (2399, 0.007300039013144953), (1477, 0.007294352848474867), (1543, 0.007286092432051586), (4174, 0.007279009917215146), (907, 0.007272621348312983), (1308, 0.0072556139277825775), (3050, 0.0072455472057692625), (807, 0.007233970394194836), (844, 0.00722767201105064), (3563, 0.007207759366290291), (2728, 0.00719840687146446), (1528, 0.0071830269561265645), (2265, 0.007179375511314609), (2236, 0.007176283900765686), (3267, 0.007175850424661506), (3304, 0.007160923535431787), (3311, 0.0071537765077199994), (1827, 0.007151391067583053), (515, 0.007128500993785241), (2741, 0.007120602865358629), (161, 0.0071084566991082235), (4304, 0.007097821794337732), (2591, 0.007095019917627246), (885, 0.007093434320206956), (1980, 0.007093242896034484), (3115, 0.0070918747499927465), (2976, 0.0070843554108619596), (594, 0.007068632622150338), (2809, 0.007058225360256399), (2703, 0.007052104235179908), (672, 0.007051898029648285), (2264, 0.007025874907801679), (703, 0.007024816442356788), (4104, 0.007009886879071792), (1830, 0.007007316040518462), (1394, 0.007006642210445694), (1251, 0.006998075269763621), (605, 0.00695871339708212), (3, 0.0069523106953851155), (1616, 0.006949797990764136), (2240, 0.00693998559883351), (4156, 0.006932300053092762), (851, 0.006928015093734356), (1217, 0.006865748513333169), (103, 0.00684977954346522), (1397, 0.006838876178705373), (4739, 0.006837075934458951), (4288, 0.006822261642898396), (1370, 0.006818960969574586), (278, 0.006811186406415872), (3238, 0.006805802879109948), (4627, 0.006785893696369052), (1833, 0.006771837793097336), (60, 0.0067650311866202534), (1088, 0.006760384826453522), (2146, 0.0067584433758994915), (3579, 0.0067504212196362445), (2669, 0.0067370643536761), (2758, 0.00671650739393187), (1340, 0.00671612713590487), (2933, 0.0067160501994014184), (3855, 0.006710347131659657), (951, 0.00667614748729802), (1312, 0.0066738516105076424), (2157, 0.006649844122986693), (195, 0.0066472368147326225), (2603, 0.00664206562342548), (4610, 0.006637233872874276), (2876, 0.006604941836504869), (1367, 0.006604207700816243), (2684, 0.006597206096060933), (1078, 0.006585950953952385), (3430, 0.006582671460306238), (2312, 0.0065586396095541006), (25, 0.006541792163678671), (1571, 0.006538345551501854), (1427, 0.006482794164694416), (3240, 0.006479899543009289), (4007, 0.0064776419227559), (2891, 0.006452890169468676), (996, 0.006428322607877605), (3875, 0.006427956806197755), (4311, 0.006425120285828241), (156, 0.006424415873263005), (4480, 0.006414261611528758), (4744, 0.006410950103176891), (1317, 0.0064075639796352), (691, 0.0063917075870463195), (3575, 0.006388995814230804), (2818, 0.0063794267573993296), (2500, 0.006355996825673885), (510, 0.006321461577636098), (757, 0.006317084801545579), (2395, 0.006301523941089338), (3796, 0.006300680390394401), (3142, 0.006298488958333915), (1871, 0.006294392624819541), (609, 0.006274773237961051), (3949, 0.006262186352925846), (1677, 0.006221817220772547), (2667, 0.006207590322867858), (2922, 0.006198517810469072), (3932, 0.006184798168545704), (1040, 0.006176773160396093), (4700, 0.006168315580731647), (2990, 0.006132578663615965), (3204, 0.006098219561663347), (1403, 0.006076110343545301), (1939, 0.00604574703760013), (4652, 0.00604478271991744), (351, 0.006033595021537153), (2483, 0.006007845485327592), (4182, 0.005999945099676127), (2715, 0.005997244361506363), (2536, 0.005950923869416165), (2948, 0.005932506636294774), (4537, 0.005930018925208867), (1277, 0.0059139158939825204), (3439, 0.005908780010539559), (2228, 0.0058960781653191845), (2928, 0.005882586701615638), (4166, 0.005881282150984697), (3715, 0.005878427956502587), (4084, 0.005857812089225453), (3078, 0.005853898940385689), (2282, 0.0058530095923058165), (4440, 0.005825922700464676), (2875, 0.005789996846700162), (3936, 0.005763007605992119), (4151, 0.0057605835742165845), (2656, 0.0057518204178201885), (2983, 0.005749459098720716), (2600, 0.005747429582470566), (948, 0.005736003587381478), (3988, 0.00573409683682535), (2543, 0.005716165015960684), (3844, 0.005708658841250018), (2308, 0.0057011385895646225), (2581, 0.00569271821759013), (3671, 0.005670650702904691), (4721, 0.005669820057532235), (4058, 0.005666369997877802), (2564, 0.005659524592285854), (4562, 0.0056593276411320064), (2515, 0.005655794988230958), (2363, 0.005629730163314283), (4725, 0.005561120097790567), (2077, 0.005555776070469239), (940, 0.005534722284066699), (4720, 0.005529278483881102), (1919, 0.005527469291721514), (129, 0.005522409272717886), (3554, 0.005514611328401765), (4514, 0.005510267400420406), (824, 0.005507127200870449), (2781, 0.005490048761509164), (3054, 0.005473943900011501), (1941, 0.005452452093223226), (3758, 0.005448514808045478), (4570, 0.00544567648415407), (4506, 0.005438918049991608), (2351, 0.005437600748157956), (4190, 0.005433149927534628), (3996, 0.0054316765427431316), (1790, 0.005430648051168113), (2333, 0.005423013391725245), (4204, 0.005422113030408488), (1506, 0.005415751925220749), (3686, 0.005415717899225629), (4341, 0.005403873723661449), (2009, 0.005395545388254345), (461, 0.005394763169040615), (1615, 0.0053947620367230005), (611, 0.00538676901826539), (795, 0.005384389432513126), (3610, 0.005380460222103345), (3789, 0.0053800461766201355), (4711, 0.005376713445913231), (4451, 0.00537492857585203), (955, 0.005371335837349036), (904, 0.005362579157270998), (2299, 0.005361501200823662), (153, 0.005354223442476566), (4285, 0.005346036347878321), (2635, 0.005337858934665551), (3931, 0.005329096071366776), (2468, 0.005322746984065957), (2158, 0.005311565459862266), (3256, 0.005310410894851828), (3172, 0.005304504121467157), (3190, 0.0052787945812042955), (905, 0.005269800977199627), (1758, 0.005267846506156782), (4010, 0.005256475288878114), (4454, 0.005255666176257872), (679, 0.005250176074606755), (3921, 0.0052493796358445005), (1321, 0.005242968749765414), (2012, 0.00523899025502872), (3858, 0.005223979824183589), (2676, 0.0052238082680714105), (2510, 0.005222122938821206), (1507, 0.005216803761335977), (3851, 0.0052158543210301), (3759, 0.005215673855427321), (4496, 0.00521431535338296), (38, 0.0052061260074025735), (1424, 0.005200970001640674), (2079, 0.005200443456473114), (3791, 0.005198138029438075), (202, 0.005189251975367138), (4335, 0.005188917102452361), (2982, 0.005184392828758258), (4121, 0.005181343184234122), (2873, 0.0051741013722054734), (2339, 0.005174084485734333), (2357, 0.005171717783617988), (3649, 0.005168031113044976), (4746, 0.005166992100589089), (4317, 0.00516580949717406), (4737, 0.005165350098481236), (4460, 0.005163857731629777), (2138, 0.005163233204570341), (1437, 0.005162066021182425), (3383, 0.005158307499057404), (3039, 0.00515503858588064), (4452, 0.0051526919838711036), (3820, 0.005150156417344883), (839, 0.005146936764178241), (1999, 0.005145960749739348), (2518, 0.00514278239446101), (1560, 0.005133558756703891), (2757, 0.0051317223389743625), (3168, 0.005129711036135351), (4105, 0.005113513298795718), (139, 0.005111232819187556), (1311, 0.00511067061408255), (40, 0.005110209333563811), (2672, 0.005106054369433071), (2810, 0.005105611390732688), (2420, 0.005102791760894925), (2164, 0.005099013438887612), (2799, 0.0050987759665693895), (3964, 0.005087795502619182), (2479, 0.0050870638831401), (4453, 0.0050864645749401395), (4580, 0.0050835391697807725), (1260, 0.005081692286396539), (2381, 0.005079141109420243), (3080, 0.005077769830447859), (2384, 0.005073694291865109), (1371, 0.005060439876087537), (365, 0.00505889967806844), (2843, 0.005058788679962174), (3808, 0.005058019656623403), (4463, 0.005056635324617278), (687, 0.005054227088756671), (4064, 0.005053657352542556), (4324, 0.005050210996126141), (3688, 0.005047761311467662), (3572, 0.005043633968466601), (3735, 0.005041060295665601), (3652, 0.0050336370373924915), (2998, 0.0050334377876933385), (4003, 0.00503226968848395), (362, 0.005029725223508053), (2493, 0.005027783062291704), (1766, 0.005027084505527368), (1486, 0.005016977603501524), (3519, 0.005015503023547087), (982, 0.005011302340439927), (1786, 0.005010346551299156), (3581, 0.005007880459543619), (3207, 0.005006178974791159), (3529, 0.005005863699266259), (990, 0.005004365606776435), (141, 0.005003755998132599), (841, 0.005002151884943742), (2626, 0.004999740781729419), (3424, 0.004991185017724989), (3925, 0.004990564595964661), (2811, 0.004988758958048492), (2101, 0.004985211550911603), (3628, 0.004981658363134127), (363, 0.004977969385557967), (1806, 0.004973445243058926), (2968, 0.00497249132638276), (678, 0.004966322156522371), (2458, 0.004964517694204692), (1491, 0.004964459716971636), (3181, 0.004964179394608425), (4258, 0.00496360100910779), (2604, 0.00495767615639446), (2978, 0.004953473200031328), (2979, 0.004949340368175474), (4207, 0.004943990717592776), (4413, 0.004939542201672147), (1679, 0.0049359782639509945), (2371, 0.004934890773804212), (2021, 0.004931095553680545), (4086, 0.004929617158810145), (1246, 0.004921377594267332), (1640, 0.004920301385332332), (146, 0.004913941440532098), (4118, 0.004912609580795735), (1441, 0.0049109719319275266), (2880, 0.004909899034049869), (1103, 0.004908981234218686), (771, 0.004907933349851719), (3943, 0.0048966863602483805), (4492, 0.0048937212412947665), (3584, 0.004892499625647699), (2637, 0.0048910508041971465), (1520, 0.0048903047950313895), (4351, 0.004885366379808986), (1731, 0.00488408605296925), (405, 0.004883774434147613), (2124, 0.004882147435223726), (3175, 0.004881594420653197), (2588, 0.004879555587423624), (873, 0.004878280374312703), (4131, 0.004875028133001667), (4173, 0.004874094897618928), (1614, 0.0048734504644056655), (1282, 0.004870252796118405), (1732, 0.0048689392459609435), (4607, 0.004868652618163973), (1609, 0.004861364944735978), (1333, 0.004858007090767608), (3461, 0.00485592799319099), (3539, 0.004853414620105419), (2086, 0.004851923374567004), (3109, 0.004851761192215096), (4315, 0.004851326244909255), (1791, 0.0048498257944060595), (536, 0.004848159108241413), (1205, 0.004847192057112443), (3236, 0.004845177042601386), (1856, 0.004844694161736504), (1926, 0.004840713916632033), (1596, 0.004839105826033639), (787, 0.004837317200010637), (361, 0.004835800099054391), (4557, 0.004832336399571399), (3442, 0.004832166489277185), (1099, 0.004830599010898528), (3464, 0.004828085086156269), (205, 0.0048238486396956146), (4655, 0.004821963689773183), (3905, 0.004818785504493921), (418, 0.004818657170434696), (4260, 0.004814951544848443), (2937, 0.004814492691366598), (1013, 0.004813559890804363), (415, 0.004811729158096497), (3041, 0.004808526217118222), (3523, 0.004806327874813706), (3259, 0.004804374737666267), (781, 0.004797601465192409), (1389, 0.004797141716424648), (3277, 0.004796761518495001), (4705, 0.004793645470491605), (667, 0.004789509706780147), (474, 0.004786750986892972), (3189, 0.004786224884984786), (2754, 0.004776045664077999), (2675, 0.004775559617555443), (1193, 0.004773643329664883), (1734, 0.004773374156715049), (3513, 0.0047729772638555185), (2002, 0.004768010940900014), (3038, 0.004765451653167123), (2380, 0.004765071016534551), (2249, 0.004764116515389349), (3061, 0.004763021356410161), (3870, 0.004762568815720022), (1445, 0.004759797703002046), (1965, 0.004758366744905669), (3018, 0.004757491211754406), (2605, 0.0047555129205384145), (4421, 0.004755467208354639), (3591, 0.0047545865749234195), (2090, 0.004754499940682779), (797, 0.004754373370035153), (3378, 0.0047537006936615184), (2042, 0.004753682082526717), (4433, 0.0047528616196770975), (3162, 0.004750349212484289), (1047, 0.004746367715120267), (586, 0.004745405013057744), (1024, 0.004744760282924342), (2241, 0.004737204420520769), (4082, 0.004736429034852234), (2649, 0.004735974387246824), (3790, 0.00473490902170032), (4125, 0.004731503485076124), (3229, 0.004731278536686773), (2325, 0.004729253591484851), (4008, 0.004727808352051093), (1155, 0.004724837307054653), (2194, 0.004724801107603149), (784, 0.004723520132441925), (1949, 0.004722840608377687), (4552, 0.004721969856257174), (2511, 0.004721962727753628), (1165, 0.004718881242519529), (1542, 0.00471659647821185), (2794, 0.004716253963069416), (1469, 0.004716106891494987), (3648, 0.004713545178623097), (3549, 0.004711349902830918), (4648, 0.00471133926465263), (3287, 0.004709473953324233), (3428, 0.004706461890967442), (2189, 0.004706454434109967), (671, 0.004703998670463264), (1847, 0.0047034623912837956), (2456, 0.004701859731850023), (708, 0.004700115704993847), (2519, 0.004699037381559275), (1735, 0.004697993645849391), (2648, 0.0046974327450092284), (3489, 0.004695814004531545), (730, 0.004690733881794598), (2353, 0.004690330166815453), (971, 0.004689073793419558), (2431, 0.004688589291908167), (4202, 0.004688182323912592), (4388, 0.004684760593151927), (3722, 0.004683866619563716), (1777, 0.004680176051020149), (2092, 0.004679783457090839), (814, 0.004679656376084744), (2856, 0.004679137250963123), (4329, 0.004677592714038416), (1917, 0.004676297785057678), (1726, 0.004674753678778791), (245, 0.004672816474490873), (2989, 0.004671845808347117), (1525, 0.0046708178685450725), (869, 0.004670788580298624), (3169, 0.004670178089420144), (1564, 0.00466565470073436), (3683, 0.00466315279450408), (4093, 0.00465999097862734), (42, 0.004659719062333721), (3209, 0.004659067784156446), (110, 0.004655886977635979), (2200, 0.004655317030940119), (3912, 0.0046541653481244945), (908, 0.004653912849180012), (134, 0.004653691550694847), (2290, 0.0046487692864113465), (1108, 0.004648210098287805), (2582, 0.0046474840060560015), (2444, 0.004646839765191975), (1085, 0.0046441867347779275), (1166, 0.004643697356892389), (3102, 0.004642976766478024), (1322, 0.0046374272862057565), (1587, 0.004637169012621454), (219, 0.00463507670596206), (1495, 0.0046347362125540815), (2407, 0.004634615544662686), (3060, 0.00463069774557426), (2551, 0.004628760353353438), (3990, 0.004627839697175169), (1361, 0.004627514118273261), (2896, 0.004626146149023431), (1889, 0.00462501440066899), (1105, 0.004623200090609493), (4210, 0.004620726056804025), (1302, 0.00462042801143717), (2041, 0.004620060273316113), (401, 0.004617124378545228), (2487, 0.004616847946550197), (3650, 0.004615971933559479), (2889, 0.004615485841026799), (4214, 0.0046143893986046285), (1473, 0.004614252419829648), (945, 0.0046127857546283775), (1599, 0.004612405518663056), (3462, 0.004612124867565463), (3332, 0.004610111913914648), (1751, 0.004609097769516801), (1879, 0.0046087621470973505), (1461, 0.004606531165210058), (1611, 0.004603816729331211), (3676, 0.004603636205871681), (630, 0.004602992869518547), (3245, 0.004602793648169063), (3119, 0.004596510514574008), (1741, 0.004592416907892708), (4300, 0.004591167041259409), (758, 0.004590896349034688), (398, 0.004587236589288642), (312, 0.004587079723509493), (4609, 0.004586873921373174), (736, 0.0045861038799096445), (4617, 0.0045855863324515845), (3034, 0.004585201856417854), (2994, 0.004585092787683123), (2449, 0.004585061287599338), (3494, 0.0045847980191338), (529, 0.004583714833394891), (2153, 0.0045804581062138605), (4704, 0.004580345977760431), (1388, 0.004575394443323596), (2472, 0.004570013919929837), (1074, 0.00456955127471164), (1505, 0.004568744933061204), (938, 0.004566357789455203), (2813, 0.004565273451737638), (3926, 0.004562878403254602), (3055, 0.00456231690495485), (264, 0.004561828292193708), (2081, 0.004560377028788352), (785, 0.0045582577089484), (2709, 0.004557539191905741), (2804, 0.004556951606949389), (4738, 0.004553490876291161), (3662, 0.0045532772731157545), (3033, 0.004552976547747225), (4195, 0.004552789974915365), (849, 0.004552553361060091), (931, 0.0045524131697544145), (2026, 0.004551936881960125), (3343, 0.004550950523664315), (1644, 0.004550408420785414), (3188, 0.004550365990198315), (4017, 0.004549801923743952), (1501, 0.004549791407524361), (4291, 0.004549171887887883), (965, 0.004545596212033461), (1345, 0.004545459463519425), (2870, 0.004545137083439778), (3104, 0.004544889364337494), (3805, 0.004542309638750718), (3030, 0.004542045528171614), (4592, 0.0045414514268588045), (3106, 0.004541132921287868), (4457, 0.004538766815213444), (4675, 0.004538430534587), (2883, 0.004537154487928162), (1420, 0.0045370147683890085), (1022, 0.004534722505403064), (946, 0.0045333591675613405), (1444, 0.004533098067358116), (3635, 0.004533023025092793), (525, 0.004531168421831521), (2336, 0.0045299885237697285), (3570, 0.0045270565046556825), (188, 0.004525820192009566), (1238, 0.004524503590898634), (2019, 0.0045243119913213154), (4688, 0.004523377396111768), (22, 0.004523305788521357), (947, 0.0045227042416549085), (3545, 0.0045216947731468995), (2836, 0.0045201432286795466), (3818, 0.004517729878679321), (2923, 0.004517462103712401), (1834, 0.004516233115578202), (2280, 0.0045127379304965), (1837, 0.00451084593551385), (1198, 0.004509395003159744), (3291, 0.004505592885003704), (1986, 0.004505329182441127), (2825, 0.004500345910007332), (4749, 0.004499587060348346), (1867, 0.00449903340343924), (50, 0.004498854365035181), (2435, 0.004498482554872622), (1126, 0.004498422487964226), (1028, 0.004496093936219606), (1913, 0.00449562240766676), (4529, 0.004495429949538959), (2298, 0.004495409301288128), (535, 0.004494991029196742), (3073, 0.004494669755009568), (3350, 0.00449427132739484), (1549, 0.004493681784937654), (1757, 0.004487702942383855), (1849, 0.004484729283932752), (3508, 0.004483222205403245), (2484, 0.004482932697242159), (4221, 0.004482700960489614), (1292, 0.00447981633585625), (3090, 0.00447972272901661), (3644, 0.004475830704942198), (983, 0.004474267107675937), (1330, 0.004471968384454985), (2639, 0.00446966152884354), (3685, 0.004469178704951995), (2807, 0.004469166426918966), (4611, 0.004469006976671786), (2329, 0.004468344887229574), (2297, 0.004465321696408203), (4029, 0.004464414664045509), (3580, 0.004463271849371115), (995, 0.004462791710614851), (1589, 0.00446245536541704), (2673, 0.004460145646261487), (1842, 0.004457265280759644), (3400, 0.004455103336857916), (2616, 0.004454209260858624), (3066, 0.004450860614858373), (2763, 0.004448953146740149), (2504, 0.004447837382220903), (4112, 0.004446651606473676), (2861, 0.004444075290842161), (2655, 0.004443219871225792), (1880, 0.004441573339302373), (1771, 0.00444138101885219), (217, 0.004440235703440141), (4073, 0.0044401864983750605), (2677, 0.004438588506894044), (2932, 0.004432951083617698), (4172, 0.00443246555027606), (503, 0.004431489803504173), (1235, 0.004424360848865049), (404, 0.00442094446623321), (3531, 0.004418562735394921), (662, 0.004416916063680431), (3375, 0.0044162625056245845), (49, 0.004415655549203858), (345, 0.00441520157484124), (1373, 0.004413417841612061), (3127, 0.004412708152176382), (2150, 0.004411522958637896), (840, 0.004410528070968165), (339, 0.004408470502882954), (2559, 0.004407491927336957), (773, 0.0044069472475042615), (2693, 0.004403812527111715), (3366, 0.004399672763633515), (1113, 0.004397762607124601), (1368, 0.004395382788268435), (3149, 0.0043941357116630084), (2075, 0.004393183634754326), (3896, 0.004392772872863299), (4314, 0.004392639047542654), (4696, 0.004392453094766736), (4444, 0.004391993240485321), (3998, 0.004388851306412921), (3582, 0.0043885969382397375), (3562, 0.004387989232951494), (1668, 0.004386201261647675), (521, 0.0043860940323763335), (1900, 0.004385932634763114), (4407, 0.004385558187247297), (4252, 0.0043830501954347555), (585, 0.004382394441602009), (3219, 0.0043816107960820225), (2681, 0.004379698195929718), (1561, 0.004378751696640055), (1293, 0.004378679051501716), (2448, 0.004378671191880865), (2392, 0.004377695017361338), (2167, 0.0043775539532927244), (3292, 0.004376815746244361), (3886, 0.004375015464570119), (3490, 0.004374729586740207), (772, 0.0043703298349378455), (427, 0.00436961225809302), (1545, 0.004368485557926786), (1231, 0.0043653731952828494), (4434, 0.004363973374891715), (3595, 0.004358608904337675), (1552, 0.004355569778125593), (2897, 0.004351327679971551), (3965, 0.004350751962721598), (1839, 0.004350420953193628), (1654, 0.004348442786900698), (3824, 0.004348006318161602), (4423, 0.004347668864860429), (2620, 0.0043470478486836136), (2425, 0.004345360286761606), (2050, 0.0043438441826547805), (498, 0.004343024676874281), (2409, 0.004338814817819606), (2962, 0.004335085221843437), (2644, 0.004334698505495024), (780, 0.0043342705244951455), (4546, 0.004333852574784799), (1327, 0.0043319988801684235), (2140, 0.004331638225701368), (1190, 0.004331132558088608), (1073, 0.004331045766326233), (2690, 0.004325935826372717), (1376, 0.004325754199923866), (2255, 0.0043256852588407875), (1532, 0.004324256051840083), (1363, 0.0043234162840123805), (1487, 0.0043191939788558235), (649, 0.004317443426031856), (1818, 0.004316956479212959), (2257, 0.004316680829445898), (1211, 0.004316639025924989), (4037, 0.004315566641515321), (3322, 0.004315105340759295), (889, 0.004314953251227668), (1787, 0.0043147230552274965), (3262, 0.004314083980446406), (2271, 0.0043112697031432124), (263, 0.004311042164564747), (1029, 0.004310945983888521), (1785, 0.004310674839479684), (3859, 0.004308916223574441), (185, 0.004306824526356972), (2901, 0.004304701707381721), (422, 0.004304256358858065), (1256, 0.004301284533437482), (4230, 0.004295974071627816), (2154, 0.004294596414480863), (2160, 0.004286723530166936), (4142, 0.004286576505385391), (1783, 0.004286391340996367), (1973, 0.004285480706424706), (1139, 0.0042848755170673885), (1788, 0.004283790581850703), (1824, 0.0042821501212068095), (1496, 0.00428082746667985), (2179, 0.004279588804280237), (3320, 0.004278673423597867), (2215, 0.004275982817419318), (311, 0.00427589293507571), (3250, 0.004272527373259943), (1709, 0.004270666905138081), (702, 0.004262149267423813), (1903, 0.004261495453923615), (2530, 0.004261390882236089), (1855, 0.004261000877658437), (2170, 0.004260212778663795), (4667, 0.004260207974405538), (1898, 0.004259708162137617), (648, 0.004257428278809152), (1992, 0.004255957719270413), (1746, 0.004251642083097252), (3909, 0.004250302907799079), (2699, 0.004250042978274185), (2052, 0.004248501616597871), (2327, 0.00424734901504725), (1899, 0.004246896949467871), (1778, 0.004243210950626418), (1457, 0.004242479738983927), (2306, 0.004241949653023701), (1673, 0.004241034273820986), (3828, 0.004240289651914699), (2866, 0.004239121098030257), (4710, 0.004238026837285553), (1353, 0.004235754884949184), (2450, 0.0042349124201157915), (3083, 0.004234849067154922), (4305, 0.004232077952563892), (2615, 0.004231800227075413), (417, 0.004231523297889662), (532, 0.00423021333854479), (2874, 0.004228064854169562), (3128, 0.004226414011751983), (2183, 0.004224445490136058), (916, 0.004221167247422074), (1291, 0.004219807957573853), (1610, 0.004217795670331424), (526, 0.004216099855023988), (3321, 0.004215052471607787), (2093, 0.004213225158019466), (745, 0.0042119725584415894), (2548, 0.004209360657089903), (770, 0.004207684609765293), (2497, 0.0042073896526760345), (1711, 0.004204496425417144), (1121, 0.004200541467556541), (2491, 0.00420015359465957), (1149, 0.00419965686640394), (2315, 0.004198957880705452), (3753, 0.004196663871698867), (409, 0.0041941302843836485), (2445, 0.0041929134289154435), (2274, 0.004191662335819214), (4469, 0.004189117700094171), (2666, 0.004187790790380425), (1984, 0.004187053771856749), (3395, 0.004184941040402109), (4544, 0.004182571243259377), (920, 0.004182076637612294), (1987, 0.004181691372691802), (3638, 0.004180189690801531), (1157, 0.004179871062823516), (1331, 0.00417552630207354), (4612, 0.004173928598742699), (2225, 0.004172575509386548), (1524, 0.0041722264582514795), (821, 0.004172148798373007), (2207, 0.004170656565274258), (4600, 0.00416897796665284), (14, 0.0041685949930550855), (2203, 0.004168524039613115), (1794, 0.004168480550259864), (1242, 0.004167466405757626), (2125, 0.0041664535559951185), (4242, 0.004165282419551099), (1714, 0.004165040670051757), (958, 0.004163863307104641), (1974, 0.004163226974542444), (2007, 0.004158176682695287), (338, 0.004156263381323589), (2438, 0.004152947033268344), (1729, 0.004149187308680414), (2036, 0.00414695844837745), (3842, 0.004146380873614921), (3295, 0.004145724867239974), (1288, 0.004144931174191758), (3885, 0.004144202942665474), (2033, 0.0041437777838729374), (3197, 0.004140116038331024), (1784, 0.0041366607987544015), (3613, 0.004135465683631338), (4660, 0.004134420198609733), (4447, 0.00413303061165961), (4724, 0.0041330263477713175), (670, 0.004131954668584246), (2063, 0.004130029004687954), (2424, 0.004129170675818208), (3999, 0.004128364270188664), (1626, 0.004127805621885867), (1567, 0.004126652953145344), (632, 0.004117263839100021), (4572, 0.004114877215162558), (4298, 0.004113272402548531), (1310, 0.004111622459389405), (2058, 0.004111016267192385), (1485, 0.0041100751432488055), (4209, 0.00410846616446316), (214, 0.0041079033959565405), (4443, 0.004107263155126881), (2426, 0.004106109508290909), (326, 0.004106021428841428), (2262, 0.004104147455554449), (2957, 0.004101816063580437), (1061, 0.004101222416496094), (2568, 0.004100595743533471), (3874, 0.004099937035868415), (2005, 0.004096306527556672), (3716, 0.0040943965004452765), (402, 0.004087274866862921), (3302, 0.004085086632244366), (2879, 0.004083198724746571), (3620, 0.004082688994323133), (2185, 0.0040811028999916486), (577, 0.004080044165730821), (3231, 0.004079462084150113), (1655, 0.004078419561725524), (1870, 0.004071663677770993), (3358, 0.004070435246040551), (3228, 0.0040688787463682066), (2389, 0.004063549211983861), (1593, 0.004063185531245948), (3865, 0.004062692713103399), (1064, 0.004062040304938744), (4062, 0.004060942501897791), (1978, 0.004060287186625343), (383, 0.004060080191979279), (1025, 0.004059602091355938), (2156, 0.004056492157409383), (2161, 0.004056351694174747), (4237, 0.00405571914210869), (2778, 0.004054129216583292), (1994, 0.004053349099007575), (3082, 0.004051729744398961), (3779, 0.004048627002097398), (2454, 0.004048613072976736), (2993, 0.00404401679806306), (1601, 0.004043641928114999), (3901, 0.004043487203203162), (2366, 0.004040020364837818), (1264, 0.00403870792895793), (1468, 0.004037991687607003), (393, 0.004034236995038877), (3861, 0.004033833340346998), (3598, 0.004032690430025144), (3063, 0.004028643423017424), (2360, 0.004026089419926585), (820, 0.004024100591027522), (4358, 0.004019281765429634), (836, 0.004016072122637856), (4596, 0.004015138211336827), (489, 0.00401079696896059), (3911, 0.004006324493603904), (1405, 0.004005014804182615), (4458, 0.003998743508236788), (3766, 0.0039983286996639255), (3411, 0.003996817019095383), (3675, 0.003996691061742239), (1684, 0.00399046706410576), (3803, 0.0039857821840377375), (4554, 0.003985478384118599), (2820, 0.003984594146608852), (2805, 0.003983631304826438), (3232, 0.003983013578370804), (1482, 0.003981939895678389), (4637, 0.003978442496874525), (4490, 0.003976173986432123), (4280, 0.003973532305503019), (2059, 0.003973066147456957), (1348, 0.003968112507635218), (4735, 0.0039674835015577874), (4035, 0.003963844281655635), (2539, 0.0039546547025417775), (4632, 0.003952771665271937), (3935, 0.003950781252611669), (4594, 0.003949162516653614), (4416, 0.0039465825089913505), (892, 0.003946572512731567), (3081, 0.003945796610313456), (3524, 0.003944762823521071), (1492, 0.003942336601509915), (4584, 0.0039417131543051), (2089, 0.003939697233944645), (4694, 0.003939451790015795), (2406, 0.003938280023535046), (1968, 0.003937428936046826), (2707, 0.003935049337537135), (1521, 0.00393447972229805), (629, 0.00393378957420962), (2822, 0.0039315653635892305), (4426, 0.003930731256713432), (518, 0.0039305952358082265), (4412, 0.003927533928922858), (4030, 0.003924341702515545), (4589, 0.003924322143181875), (3094, 0.003923061042405816), (2001, 0.0039227680582632), (3275, 0.003918750878809107), (937, 0.003917171005383354), (4477, 0.003917037930703483), (1323, 0.00391409388206206), (4075, 0.003912180578642854), (2688, 0.003908353648909907), (1008, 0.0039036014109352585), (3019, 0.0039030878427532686), (4126, 0.003901464708470041), (2098, 0.0038967642554821763), (3307, 0.0038946175388395263), (4002, 0.0038937428211173707), (1523, 0.0038919355495168175), (2269, 0.0038913157020444744), (4163, 0.0038871882932462487), (3729, 0.003885604845969642), (860, 0.0038846940383959845), (3916, 0.003881792069940773), (4398, 0.0038742459522211324), (3230, 0.003870777363641427), (2987, 0.003870685593378616), (448, 0.0038699672649367585), (1178, 0.0038699294840547523), (3396, 0.0038672903395051343), (2855, 0.0038632148739279775), (3164, 0.003857831552733056), (3355, 0.0038572934649264336), (1639, 0.0038565720090160288), (2625, 0.0038520701404290963), (1300, 0.003852059789135792), (3165, 0.0038509558506219267), (4267, 0.0038499297513292386), (274, 0.003849699583072679), (970, 0.003848938257211173), (614, 0.003846857292530547), (3674, 0.0038454639086090104), (4516, 0.003844664539192136), (4465, 0.0038425682562216964), (4244, 0.003841042366429211), (3903, 0.0038403640680695697), (3423, 0.003836363831471938), (3651, 0.003835478590297765), (3481, 0.003834024597701466), (1924, 0.0038303897520491725), (876, 0.003826939828503473), (739, 0.0038258565921950316), (2877, 0.0038245897269166755), (4753, 0.0038231287084474963), (3883, 0.0038218115519209417), (1214, 0.0038199206347433036), (4243, 0.003816908685622677), (786, 0.0038155256344483803), (709, 0.0038146930006091443), (3296, 0.0038133723393912523), (2346, 0.0038121118013808657), (3611, 0.003809541992500849), (2638, 0.00380947002305323), (2051, 0.0038093286115028755), (1062, 0.0038090959954561487), (3867, 0.00380880510431883), (2629, 0.003805987780866884), (2437, 0.003805599138328891), (1909, 0.003805557955505493), (4187, 0.0038043049159290623), (1843, 0.003802790215251224), (107, 0.0038026331369044627), (3186, 0.0038016302487693656), (1887, 0.0037995276329743674), (2373, 0.003799173494838663), (1938, 0.003798196958773822), (964, 0.0037977223190156085), (2881, 0.003797271405389016), (4731, 0.0037960845999009452), (478, 0.0037945211868972875), (4092, 0.0037942433353202426), (2400, 0.0037922030065066755), (3680, 0.0037913703368116615), (4494, 0.003787693039623251), (1148, 0.0037855414387353774), (2227, 0.0037854343375817753), (281, 0.0037849784751883054), (1383, 0.0037847446370309905), (235, 0.003784334868130795), (1944, 0.003783618782869463), (4699, 0.0037829123010718105), (576, 0.0037795695590119595), (3587, 0.003776837507435604), (3212, 0.0037765374061457563), (2740, 0.0037750448643910175), (4368, 0.0037734156510518925), (4333, 0.003772743454538602), (533, 0.0037710655307131415), (2508, 0.0037707886787690372), (1023, 0.0037687858487013256), (3560, 0.0037671895565691417), (1752, 0.003766464851432683), (813, 0.003765679700179204), (922, 0.0037616338365877313), (4718, 0.003760281275076754), (1716, 0.003760146674595123), (3196, 0.003759674071379939), (4160, 0.003759130228292138), (3012, 0.003759003471829681), (2579, 0.003758159944396943), (2025, 0.0037579446958461095), (538, 0.0037578532845130284), (2916, 0.003755516887642606), (1862, 0.0037550075237655525), (3032, 0.0037528830526348104), (4396, 0.0037511473774482196), (2665, 0.003751132257374925), (2356, 0.0037480649282007335), (3737, 0.003743823390670857), (3593, 0.0037427418606832065), (1289, 0.003742714720407493), (701, 0.0037426606586287974), (458, 0.003741081857605885), (2439, 0.003740175679572341), (3804, 0.003740092481589687), (1156, 0.003739734987454063), (2840, 0.0037394428821769772), (3248, 0.0037392436970287747), (1474, 0.0037390901480421138), (1341, 0.003738950300907191), (729, 0.0037387582529757432), (2331, 0.0037377725846129755), (2913, 0.0037365790742570726), (3877, 0.0037329922303374185), (3273, 0.0037326840533553804), (2830, 0.003731469997135979), (4397, 0.003731429451935072), (41, 0.0037307380512314756), (4593, 0.003728216688426578), (1498, 0.003727483837636224), (3857, 0.0037239472591354497), (2854, 0.0037236153377060346), (1890, 0.003720310020958013), (1326, 0.0037188518513313422), (4138, 0.0037163474100250444), (888, 0.0037159221596175323), (366, 0.00371508487758601), (688, 0.0037141402910942944), (1960, 0.003712199779946497), (4551, 0.0037105290659617644), (2040, 0.0037040618416869903), (4042, 0.0037031175451609838), (967, 0.0037016868654854724), (62, 0.00370168426539743), (2176, 0.0037012277884197037), (3961, 0.003700676877394789), (2112, 0.003700563706780133), (2428, 0.0037001100836141507), (715, 0.0036997958288897716), (4619, 0.0036992684072963806), (2159, 0.0036971347304003734), (254, 0.003695481517834448), (48, 0.0036942915798885115), (3417, 0.0036927274016457863), (506, 0.003691729556056095), (587, 0.003687356889752331), (3116, 0.003684332138729717), (1344, 0.0036837200723930123), (1454, 0.003682621677191031), (476, 0.0036803989071243067), (3677, 0.0036803175612576053), (450, 0.0036789965985105522), (4602, 0.003678578086015851), (4046, 0.0036755834666063166), (3971, 0.003673796962982199), (4048, 0.0036704472704809548), (4601, 0.0036697970042121526), (2624, 0.0036686957452801722), (1646, 0.0036654392118573697), (3714, 0.003664729542423374), (4130, 0.003664597396692792), (2229, 0.0036640577797840404), (3497, 0.0036632946907823242), (2364, 0.003662758428695574), (896, 0.0036626972501999384), (1115, 0.00366048173131204), (4101, 0.003659416944241871), (673, 0.003658790232542373), (3813, 0.0036582588335428456), (675, 0.0036563573807630637), (4116, 0.0036553217900800413), (2037, 0.0036538781977372894), (1805, 0.0036529454311960644), (342, 0.0036524158145148926), (4013, 0.0036503083815352787), (1268, 0.0036470346226635487), (3516, 0.0036464120643411686), (481, 0.003646203205134648), (2915, 0.00364608247384029), (2214, 0.0036454316932233322), (4087, 0.003644747385089867), (1997, 0.0036427104952015156), (3915, 0.003641721519025175), (8, 0.0036412026722154258), (1586, 0.0036395082162122908), (1676, 0.003637399764504148), (2595, 0.003636554400175767), (1897, 0.0036352613029780943), (3771, 0.0036315094773384116), (2705, 0.0036303550447910012), (3694, 0.0036285084884539456), (4545, 0.003628261500300161), (1959, 0.003626796237304137), (192, 0.00362629380488331), (1015, 0.003624291493117342), (1874, 0.003623419051046746), (794, 0.003623373417004588), (2477, 0.0036224517298346763), (3893, 0.0036220355071019646), (3086, 0.0036219280106975587), (3757, 0.0036167174508612188), (2377, 0.0036162846322406465), (728, 0.0036162228512377063), (4579, 0.0036139077865205366), (210, 0.003613484373566681), (3692, 0.003609986948712233), (430, 0.0036087187766586917), (4161, 0.0036069578620269846), (4657, 0.0036059529537975886), (2475, 0.003605647906302631), (3112, 0.0036053102177461167), (4540, 0.0036025900265006937), (4245, 0.0036022940159744815), (791, 0.0036018278946219114), (2162, 0.003600508060803491), (3095, 0.0035995624910712862), (1798, 0.0035993598045041654), (991, 0.0035989925698204097), (395, 0.003597222251335388), (2723, 0.0035958110994348575), (485, 0.003593038444546292), (1140, 0.003589932982962053), (4574, 0.0035899226178335297), (2725, 0.003585712794380891), (21, 0.0035854441995547487), (3873, 0.0035850973460542215), (4038, 0.0035844330881239805), (1712, 0.0035838123407715933), (227, 0.0035831945097999926), (1141, 0.003583051865453858), (2964, 0.003582800326338433), (4005, 0.0035825765506334252), (2949, 0.003582398756836619), (3780, 0.003579869540720984), (1119, 0.0035796800788009263), (1071, 0.0035779618745743766), (4231, 0.003576550790569237), (1324, 0.003576457776866119), (2609, 0.0035761772273698437), (1320, 0.003576120787459646), (2664, 0.0035744334233201885), (3235, 0.0035742194859555293), (2096, 0.003573657248923272), (2522, 0.003573330061623782), (4355, 0.003571869528827199), (4169, 0.0035714560283413585), (3987, 0.0035709763517221167), (3434, 0.003566939927278668), (74, 0.0035658329231117304), (680, 0.0035656533858696164), (622, 0.0035626429615122795), (623, 0.0035609474848351435), (612, 0.0035597640584270622), (208, 0.0035595515314872546), (930, 0.0035587106735208937), (4471, 0.0035554292020707774), (1687, 0.0035548726553127946), (3326, 0.0035510671788395115), (3483, 0.0035499113574239552), (4505, 0.0035489372097168973), (1853, 0.0035489014073548947), (2953, 0.0035488713453088595), (4575, 0.003547502895325719), (1685, 0.0035473219841575514), (1484, 0.003546598339462039), (2288, 0.0035463938931269904), (2196, 0.0035455821242005043), (193, 0.0035448923153496826), (2849, 0.003544559475151136), (4318, 0.003542872067594819), (3777, 0.003542466266209564), (4123, 0.0035401326531147134), (483, 0.003540007606966144), (3406, 0.0035384000690695514), (4, 0.003537602306383294), (4033, 0.003537112379994506), (1225, 0.003537020009622903), (470, 0.003536152496288338), (4566, 0.003534413689394728), (2878, 0.0035343048352082518), (1400, 0.0035342304341205062), (1916, 0.0035331717471893294), (3511, 0.00352928801148303), (51, 0.003527547042307344), (421, 0.003523214276057486), (2419, 0.003522467012732624), (4178, 0.0035205135763612077), (1643, 0.0035199677887785483), (4225, 0.003519539388946872), (1188, 0.003519113109440548), (716, 0.0035158774896335487), (1402, 0.0035157896557578825), (173, 0.0035139151428063625), (2088, 0.0035127583908831843), (4363, 0.003511577477933441), (255, 0.0035109456782737906), (1439, 0.0035105223316129032), (4430, 0.003510362761959464), (4497, 0.0035102298695448065), (845, 0.0035100793934492993), (3437, 0.0035099478904451714), (1736, 0.0035099178723107492), (4354, 0.003507394190311114), (270, 0.0035064961435667184), (3770, 0.003506091938631026), (580, 0.0035035485019981037), (837, 0.003501887477864766), (3862, 0.0035016562192589774), (4083, 0.0035003699501032826), (1229, 0.0035003137263394943), (3574, 0.0034987833924723863), (717, 0.0034964183684416932), (4419, 0.003495305745826037), (23, 0.0034939113501958005), (2370, 0.003493050093610623), (4136, 0.003492732807482342), (543, 0.0034919935831694456), (1983, 0.0034918910682310822), (2911, 0.003489428517794855), (3902, 0.003488511329671288), (1083, 0.003488456655188365), (4361, 0.0034882482896346533), (3353, 0.0034856959107629135), (1048, 0.0034841180794393414), (588, 0.0034839919403790933), (447, 0.0034814572190812066), (4625, 0.003481264243928526), (3666, 0.0034812613962004976), (4262, 0.003480863862346509), (2016, 0.003480635002512611), (216, 0.003475977083691949), (4079, 0.0034756676062724216), (774, 0.0034739998685439566), (4379, 0.0034738274843492535), (3920, 0.003472849134277664), (3959, 0.0034726240415645284), (2123, 0.003470370680820425), (4340, 0.0034676581620725583), (4334, 0.003465303127475453), (980, 0.0034652133690578333), (606, 0.0034621877246939843), (1629, 0.003460925725890933), (806, 0.0034600172554407854), (4249, 0.0034593978965249176), (3623, 0.0034587032966031115), (120, 0.0034578415404308283), (2126, 0.0034577072194447002), (2863, 0.003457002117299166), (4470, 0.0034567094921957205), (3636, 0.0034552046722369097), (1717, 0.0034530219429563455), (3153, 0.00345251522354871), (2334, 0.003450952382548074), (2668, 0.0034497904521000313), (3233, 0.0034492315082480783), (4643, 0.0034488039684295053), (1768, 0.0034471572235474143), (743, 0.0034453162598593067), (176, 0.0034451485514092137), (2321, 0.00344469238299783), (865, 0.0034426578909675437), (1294, 0.0034418922010996974), (1334, 0.0034418366318252186), (2894, 0.0034406489307590004), (509, 0.003438370356152173), (4098, 0.003436776431008013), (1254, 0.0034362409067122787), (3225, 0.003435780973084623), (3809, 0.003435183472226288), (1355, 0.003433446033389528), (3000, 0.00343283377985281), (4533, 0.0034314148130150314), (3542, 0.0034304222346936363), (4189, 0.0034295472086112813), (652, 0.0034294073685326733), (1174, 0.003427576445580181), (2784, 0.0034269539030025637), (1931, 0.003425621378962626), (1077, 0.003425272239385482), (1176, 0.0034224397265364337), (414, 0.003420985968859631), (1182, 0.0034207724117721345), (406, 0.0034207564906178056), (3653, 0.0034177394014091264), (2489, 0.0034168387047141214), (750, 0.0034157577084615266), (1122, 0.003413459667660684), (2155, 0.003411417292757905), (2210, 0.003408896109428272), (1087, 0.0034086387013800325), (2045, 0.0034073877281898335), (994, 0.003407261692400881), (4068, 0.003406207587469845), (2295, 0.0034061136255883586), (3643, 0.0034061066753891265), (1440, 0.003404567020467825), (2313, 0.0034040083778723944), (544, 0.0034023986568886425), (198, 0.0034018203081715884), (4004, 0.003400207681057692), (2277, 0.003398699184353083), (2887, 0.0033972695221445395), (1278, 0.0033959221588212006), (2061, 0.0033958914386893716), (4014, 0.0033923692297230723), (1472, 0.0033917878068460564), (1138, 0.0033915990056345257), (1872, 0.003391097867495413), (2652, 0.003389569949233198), (4677, 0.0033887854326544536), (3335, 0.0033875990303384126), (1335, 0.0033861918539072077), (1362, 0.0033853397832022906), (1510, 0.003384781220422002), (2745, 0.0033841919356380136), (3551, 0.0033839327740583327), (1175, 0.0033836527039950467), (1574, 0.003383427714126202), (1706, 0.003383344095046108), (4266, 0.003383214775714126), (209, 0.0033831795161033337), (3670, 0.003381470990739152), (4503, 0.003381403442028579), (848, 0.0033813137328755215), (2109, 0.0033797230359349706), (897, 0.0033783061449203355), (993, 0.0033774660413582415), (2934, 0.003377235097184208), (2606, 0.0033759631524608253), (3436, 0.0033743641651951166), (2783, 0.0033741692547430975), (104, 0.0033739739667806388), (4686, 0.003373248151799342), (4517, 0.0033730880141755507), (1876, 0.003372068276721425), (4604, 0.0033709176396836417), (4435, 0.0033688026550663707), (378, 0.0033671668678013607), (172, 0.003363438747609519), (5, 0.003362783348932364), (3341, 0.0033621964841948075), (4715, 0.003361457238679533), (2344, 0.003359776527767918), (1385, 0.003357024157382563), (2695, 0.003356943405439235), (2831, 0.0033566595291581003), (2354, 0.0033561501760289865), (4330, 0.003354677215162234), (2558, 0.003353248966469633), (3478, 0.003352815269721415), (1378, 0.0033499599224392383), (4427, 0.0033490444045819823), (3492, 0.0033486818739146664), (66, 0.0033462673796854467), (2212, 0.003345539083291441), (4320, 0.003344292747624088), (280, 0.0033440411572602537), (3346, 0.0033438947441271237), (3174, 0.003343856349257808), (109, 0.003342649108220226), (79, 0.0033423528663810882), (3330, 0.0033413892653643027), (2943, 0.003340757394073802), (1612, 0.0033386962283458547), (3216, 0.0033364529573062336), (3807, 0.0033352278212250702), (4056, 0.0033346901695028098), (689, 0.00333441812177874), (4409, 0.0033329733400312683), (4060, 0.0033310727936904693), (2289, 0.0033295899876366135), (1102, 0.00332759447066681), (3374, 0.0033273974885904218), (105, 0.003325200147069094), (3727, 0.003324278603682446), (1891, 0.0033237162073712265), (2174, 0.0033233555101419314), (3553, 0.0033229383484931992), (1252, 0.0033218378286234388), (894, 0.0033213114964034413), (1072, 0.0033207992030992242), (1438, 0.0033204217778113458), (1059, 0.0033188598962841016), (1831, 0.003315088738419034), (466, 0.003314739037099371), (464, 0.0033140860214123354), (3381, 0.0033127724003331315), (1500, 0.0033127455823572538), (3237, 0.003311593437948983), (534, 0.0033114449491987775), (61, 0.003310165395766172), (769, 0.003308915805329179), (1666, 0.003306340566500983), (1550, 0.0033060907848695966), (880, 0.003304661900047516), (2416, 0.0033044458572160746), (4668, 0.003303641151010778), (4487, 0.0033032244361669147), (3173, 0.003301893977206363), (2961, 0.0033002313062870515), (3195, 0.003299480998551256), (989, 0.003297738325338299), (1338, 0.003297639732844282), (4349, 0.0032968538747520154), (2463, 0.00329566748772475), (2069, 0.0032941897054718236), (727, 0.003294069508262834), (3499, 0.0032937563797349415), (4685, 0.003291707628502209), (1026, 0.003290023687681365), (4284, 0.0032897281972731488), (1319, 0.0032894375979950342), (3557, 0.003287852021148908), (3827, 0.0032873494679073354), (1882, 0.003285035175952238), (98, 0.0032830435104242903), (4362, 0.003282914869456748), (26, 0.0032805456984203426), (2910, 0.00328044730394206), (4687, 0.0032783652048718245), (2102, 0.003277738395504804), (4641, 0.003275289872991123), (3069, 0.0032741843840552887), (2632, 0.0032739979316394967), (3719, 0.00327252788306075), (4309, 0.0032724394402338973), (4743, 0.00327140169535013), (2909, 0.003269935339036063), (1653, 0.0032695546757287954), (4387, 0.003269236133761156), (799, 0.0032684760205277715), (1350, 0.003265927099870375), (2103, 0.0032647187997226794), (1096, 0.0032618216455806612), (358, 0.003260841684595337), (2008, 0.0032605863005081225), (1035, 0.003257169386549054), (1967, 0.0032571559413228915), (4693, 0.003256821756773922), (959, 0.003256595123948577), (3075, 0.0032562622719374307), (522, 0.0032545702413817315), (292, 0.0032529455896214005), (329, 0.0032524836451262077), (4183, 0.003251898461070513), (349, 0.003251799217676098), (676, 0.0032504686151514045), (4381, 0.0032504157823409936), (4550, 0.0032503446955319325), (4573, 0.0032502652331214982), (1245, 0.0032499954793899777), (643, 0.003248960269253162), (2808, 0.0032488084867444565), (4673, 0.0032473506679848462), (1030, 0.0032454873936033773), (4129, 0.0032452825950147596), (1481, 0.0032450580762490183), (817, 0.0032445700562445338), (4472, 0.0032409991127314974), (2080, 0.0032394144564777206), (2571, 0.0032393013805293567), (167, 0.003239009145546262), (3298, 0.0032387300732135394), (1247, 0.0032383539253665167), (2268, 0.003238072227560003), (4139, 0.003237658682836932), (87, 0.0032366245870315315), (19, 0.003234872084473849), (3696, 0.0032333693887545358), (3010, 0.0032331128647035846), (2716, 0.0032294922729319683), (112, 0.0032278626161440084), (4461, 0.0032277083861179906), (3917, 0.0032252323792871618), (1864, 0.00322479457104114), (3487, 0.0032236140427622808), (3826, 0.0032233046258953774), (396, 0.0032219339440242786), (1248, 0.0032213368920596002), (4729, 0.0032205488533792164), (620, 0.003220253768073589), (782, 0.003217292826297546), (1020, 0.0032166463903696985), (2117, 0.0032160576517281506), (18, 0.0032149665587720053), (1033, 0.003213752079805781), (4670, 0.0032116635518702843), (1478, 0.0032106364281103265), (487, 0.003209570202887576), (4523, 0.0032073208599549302), (731, 0.003207204227856282), (2752, 0.0032067964014130643), (1027, 0.0032060628800878576), (4567, 0.0032044134586380344), (3498, 0.0032034689524823097), (4614, 0.003202527105701537), (854, 0.0031997629520698688), (3122, 0.0031984769617096737), (356, 0.0031980957766250813), (3978, 0.0031979774301773003), (1001, 0.003195483188818037), (3390, 0.0031945165380174952), (1153, 0.0031940801065391683), (3151, 0.003193786864908813), (2473, 0.003193108906274256), (29, 0.0031928345357101037), (3035, 0.0031918463140557063), (4085, 0.0031911167498730394), (3691, 0.0031903518445976615), (164, 0.003190331178557447), (2765, 0.0031869766965095603), (1375, 0.003186660029642807), (1132, 0.0031863903718433195), (644, 0.003185023599449434), (4428, 0.0031836640078426884), (2892, 0.0031826259754254202), (4374, 0.003182614069716619), (3898, 0.0031816945893549187), (2224, 0.0031815036818729023), (437, 0.003181353647441941), (767, 0.0031804854864210877), (962, 0.003179186165636439), (2859, 0.0031787009939536677), (2995, 0.0031776248172178693), (373, 0.003177528048600142), (2572, 0.0031760228498993225), (1710, 0.003175976753295154), (2679, 0.0031726541083818747), (4124, 0.0031725019084958314), (203, 0.003172411189615899), (698, 0.003172175283389881), (2651, 0.0031721519222337223), (2598, 0.003172121809132104), (434, 0.0031719247399156947), (2133, 0.003171269325590389), (408, 0.0031699233028447903), (2997, 0.003169022791442974), (818, 0.003167418974039243), (3819, 0.0031656817781461712), (966, 0.0031656430186345784), (388, 0.00316511541827297), (116, 0.0031643928897264325), (578, 0.003164363223907048), (3954, 0.0031643110779082844), (3734, 0.0031622810422800647), (276, 0.0031613245584040587), (1177, 0.003158354331134457), (2023, 0.003157321798646159), (3615, 0.003157305540474944), (2525, 0.0031571501728150314), (3433, 0.0031569791672651512), (31, 0.0031532185587487016), (694, 0.0031528867533281955), (2899, 0.003151774516986342), (2004, 0.003151208196050426), (3300, 0.003150791689043047), (236, 0.003149344732518476), (3407, 0.0031475994558557282), (1041, 0.0031471958579054305), (154, 0.003147143714731783), (1682, 0.0031463265098832746), (287, 0.0031460014500766325), (307, 0.0031449161252318715), (1793, 0.00314247038727544), (140, 0.0031406717476227045), (3243, 0.0031402253295952573), (1665, 0.0031392629781054823), (975, 0.003138741778804044), (2496, 0.003135461458257567), (1620, 0.0031350665582317193), (900, 0.003134823870890881), (963, 0.0031340576461177253), (655, 0.003130946485216878), (4634, 0.0031285395829269884), (3452, 0.0031264244958148293), (229, 0.0031258000329428357), (2862, 0.0031246397637244567), (944, 0.0031237437332302144), (895, 0.003123673244760818), (1819, 0.0031236080471268622), (1555, 0.003121218435226924), (213, 0.0031205322114482804), (921, 0.00312040333021517), (1107, 0.0031194780031433356), (1433, 0.0031192527829525356), (935, 0.003118534577002347), (838, 0.003117640886212583), (866, 0.003116912376564794), (1558, 0.003116698870848892), (111, 0.003114572178440856), (2528, 0.0031135954707993494), (3342, 0.003113360050696363), (1183, 0.0031120734457970845), (1456, 0.0031120371473945144), (2907, 0.0031095148364017255), (1650, 0.0031089961046990335), (463, 0.003107284866627597), (399, 0.0031067271629581015), (3120, 0.0031041111285105), (96, 0.0031031060892225426), (2777, 0.0031023322067007305), (2317, 0.0031022497501707494), (744, 0.0031006283705304863), (3854, 0.0031005001459591414), (1519, 0.003100442164960866), (805, 0.00310042830696509), (4402, 0.0031002366185984543), (1920, 0.0031000508636255713), (136, 0.0030961725995043345), (3558, 0.0030953555100812625), (2593, 0.003093366189105861), (3369, 0.0030926378763197217), (15, 0.0030925163552809544), (558, 0.0030916839130398998), (355, 0.0030916074990530694), (899, 0.0030906678310597614), (324, 0.0030902273279544176), (1667, 0.0030899721932891866), (3656, 0.0030899344066655753), (1114, 0.0030881467092527762), (4479, 0.003087979869771947), (669, 0.003084960329951916), (4348, 0.003083318060190308), (4176, 0.0030829515197138037), (2453, 0.0030815240936461694), (121, 0.0030815131872484014), (4649, 0.0030790856100239407), (1875, 0.003078878971107083), (3876, 0.003077657629100966), (43, 0.00307746033027049), (359, 0.0030768906588825246), (1462, 0.003075264648056444), (4326, 0.0030739248497003804), (3306, 0.003073791880327832), (2362, 0.0030734023112530557), (4277, 0.003071021670191021), (1672, 0.0030692948578110108), (910, 0.003069151252954714), (1628, 0.0030678026908064473), (2301, 0.003066967344491567), (1782, 0.0030665151732087773), (4502, 0.0030622130698305878), (124, 0.0030614917457512103), (1434, 0.0030611050889333283), (218, 0.003060958211306625), (465, 0.0030609563723740614), (4638, 0.003058436092405228), (199, 0.0030571412173230816), (1675, 0.0030543975891292687), (1360, 0.003051456119296098), (3953, 0.0030505819450523763), (3278, 0.0030486541777332192), (3474, 0.0030465865211256726), (1680, 0.0030450078377623415), (1892, 0.0030445026219980574), (1237, 0.00304353992650652), (1538, 0.003043310140109005), (1503, 0.003039881930227789), (608, 0.003039225887229426), (2055, 0.0030387366208321576), (968, 0.0030371462855974074), (1869, 0.0030356313491981296), (3614, 0.0030347564592071038), (1595, 0.003034190668584986), (449, 0.0030323171349900422), (1826, 0.003031816792426482), (4154, 0.003029639932841657), (2338, 0.003029201828251726), (1605, 0.0030290122891456833), (1387, 0.0030267215963415005), (2323, 0.003025652829571433), (1366, 0.0030243794854895993), (563, 0.0030232969627040306), (4350, 0.0030220306025625374), (3318, 0.0030217734320551184), (581, 0.0030214163814974173), (4712, 0.003020337986546099), (981, 0.003018455396449712), (1080, 0.0030183065879754688), (3336, 0.0030177899913412173), (3974, 0.003017723468974938), (3027, 0.003017056876461045), (3986, 0.00301671584261448), (2457, 0.003015989190617176), (1000, 0.0030156478720648012), (4475, 0.00301500710117742), (1739, 0.003014674477799393), (597, 0.0030139120885654667), (2065, 0.0030122309931066866), (158, 0.0030074855768459498), (3327, 0.0030073520328389204), (3841, 0.0030067443389079993), (4080, 0.0030062205647541865), (1004, 0.0030051826985082425), (3167, 0.003002615158543981), (917, 0.0030010730012694367), (3111, 0.003000825570396302), (3556, 0.0029978490264803543), (4205, 0.0029947274449549388), (1934, 0.002993721845022083), (732, 0.002993050751894874), (2163, 0.0029916598681064012), (1414, 0.00299111757489543), (1762, 0.002991047424446879), (268, 0.0029903747627425515), (4141, 0.0029893857629254244), (3956, 0.0029883497213194893), (1977, 0.0029851777166920806), (657, 0.002977362042781122), (4608, 0.002975295679237017), (1290, 0.002970353717022724), (252, 0.0029698625964656904), (705, 0.0029682426496324844), (4343, 0.002965613344616672), (495, 0.002965431281781378), (33, 0.002963026686282094), (2047, 0.0029627579340917648), (200, 0.002962561579417289), (166, 0.002961049004922702), (519, 0.002960351485596944), (1608, 0.00295946676036519), (1553, 0.0029590518394319917), (2502, 0.002958150676757186), (808, 0.0029557751913287266), (1776, 0.0029527560822249143), (222, 0.002951008022195643), (2975, 0.0029455716076013817), (647, 0.0029417567500869025), (3894, 0.0029404846617530835), (249, 0.002940395184190656), (3403, 0.0029374353319805676), (317, 0.002935795894888174), (3895, 0.002935024298342977), (1301, 0.002929177395581884), (924, 0.002920452223413978), (4296, 0.002920437967919695), (3655, 0.0029178577906498627), (2621, 0.00291699364411064), (4232, 0.0029147979227829414), (3096, 0.0029144948151916712), (2692, 0.002911461177243871), (2412, 0.0029112558516921753), (4748, 0.0029037566736854125), (3211, 0.0029029248608125756), (242, 0.0029028735854106234), (2942, 0.0029012590282154684), (642, 0.00289603376961332), (4386, 0.002891651709530594), (874, 0.002891379821721233), (2761, 0.0028852281509231296), (364, 0.002884437716715302), (2527, 0.002883669940575285), (3629, 0.002879436771297323), (2447, 0.002875615902719423), (251, 0.002873697715012998), (4411, 0.0028723556208315355), (1763, 0.002871162889293246), (445, 0.0028702364848967564), (4476, 0.0028690032923410153), (2070, 0.002867810781784947), (4344, 0.0028660300938823415), (1565, 0.0028658537435259277), (190, 0.0028611567221105798), (1691, 0.002860811164459769), (1050, 0.0028563398288210026), (1743, 0.0028538752251246564), (432, 0.002852291379896057), (3065, 0.0028478580803252868), (3344, 0.002847413638823749), (4095, 0.0028453839655963624), (1202, 0.0028439270735460317), (3669, 0.002841348514706121), (3668, 0.002837886261718301), (1356, 0.0028377765679372144), (3634, 0.002834781206610623), (1365, 0.002831253410109244), (617, 0.0028307427574991214), (3657, 0.002829383934558068), (547, 0.0028267833451556183), (196, 0.0028161593215861457), (1801, 0.0028157236563882268), (3821, 0.002811815144486904), (3091, 0.0028063481865831606), (2132, 0.0028010430617229805), (3928, 0.0028006441257490415), (2359, 0.0027984381667655158), (2287, 0.002797212829807389), (2985, 0.0027966156421861815), (2355, 0.002795220452659994), (3331, 0.002794869166139447), (16, 0.002794523289937092), (616, 0.0027940418699343174), (3252, 0.002793744515749097), (2481, 0.0027921036684899806), (44, 0.002790971414614582), (2221, 0.002787321425573903), (2602, 0.002781990404050527), (3056, 0.0027775488723290956), (901, 0.002777048619443294), (142, 0.002773975682413119), (1305, 0.0027718054174952337), (2844, 0.002769116857240986), (4015, 0.002765744061347102), (1415, 0.002746983335934424), (1464, 0.0027464267747978385), (2697, 0.0027448080353456366), (1369, 0.0027441732671237627), (433, 0.002742576090379691), (3756, 0.0027425318049532476), (3254, 0.00274140519123196), (412, 0.0027391565163478434), (3313, 0.0027373151055493437), (1098, 0.0027340175912249813), (816, 0.002728885425732797), (1624, 0.0027283390718342037), (4626, 0.0027107172814145896), (1377, 0.0027046071610253184), (1303, 0.002703228441177043), (953, 0.0026995323189427183), (2908, 0.0026943332331809434), (194, 0.002690038730746325), (63, 0.0026683877297935176), (3471, 0.002665829601795814), (706, 0.002663019940007254), (3362, 0.0026549357391162736), (4598, 0.002630375371149645), (2469, 0.0026250440051900584), (159, 0.0026240751993096456), (1417, 0.0026171842582665677), (1747, 0.002609242843181252), (106, 0.0025809406265743444), (2760, 0.0025734138284642717), (271, 0.0025695225653417685), (224, 0.0025652293607242205), (453, 0.0025637820157480774), (1774, 0.002560011555114545), (3645, 0.0025271569064749633), (296, 0.0025128576205043925), (3983, 0.0025118099146786916), (256, 0.0025048358446294215), (3546, 0.002501451412927596), (4301, 0.0024875207322545313), (1351, 0.002472601808045374), (2902, 0.002465899148020771), (684, 0.002460243636214832), (283, 0.002453592012337927), (7, 0.002408530302813642), (641, 0.002400939181143014), (293, 0.0023839364490143033), (455, 0.0023791589086444814), (831, 0.002366939475310532), (243, 0.002360478676964908), (542, 0.0023511434809770034), (3458, 0.0022970246814940677), (1509, 0.0022904668728807695), (3392, 0.0022277735635057748), (2443, 0.0022019350913451696), (24, 0.002189808801660494), (3608, 0.0021838499119579686), (2841, 0.0018727333229183614), (1, 0.0), (2, 0.0), (6, 0.0), (9, 0.0), (10, 0.0), (13, 0.0), (17, 0.0), (30, 0.0), (35, 0.0), (36, 0.0), (37, 0.0), (46, 0.0), (47, 0.0), (54, 0.0), (55, 0.0), (56, 0.0), (57, 0.0), (58, 0.0), (64, 0.0), (65, 0.0), (67, 0.0), (69, 0.0), (70, 0.0), (75, 0.0), (77, 0.0), (78, 0.0), (80, 0.0), (83, 0.0), (84, 0.0), (88, 0.0), (89, 0.0), (99, 0.0), (100, 0.0), (101, 0.0), (117, 0.0), (118, 0.0), (130, 0.0), (131, 0.0), (133, 0.0), (135, 0.0), (137, 0.0), (138, 0.0), (143, 0.0), (145, 0.0), (150, 0.0), (151, 0.0), (152, 0.0), (155, 0.0), (160, 0.0), (163, 0.0), (171, 0.0), (177, 0.0), (179, 0.0), (180, 0.0), (181, 0.0), (187, 0.0), (189, 0.0), (191, 0.0), (201, 0.0), (220, 0.0), (223, 0.0), (230, 0.0), (231, 0.0), (232, 0.0), (233, 0.0), (237, 0.0), (239, 0.0), (240, 0.0), (244, 0.0), (248, 0.0), (250, 0.0), (257, 0.0), (258, 0.0), (259, 0.0), (260, 0.0), (261, 0.0), (265, 0.0), (272, 0.0), (273, 0.0), (277, 0.0), (284, 0.0), (288, 0.0), (289, 0.0), (290, 0.0), (291, 0.0), (294, 0.0), (295, 0.0), (297, 0.0), (298, 0.0), (299, 0.0), (304, 0.0), (305, 0.0), (310, 0.0), (313, 0.0), (315, 0.0), (316, 0.0), (320, 0.0), (322, 0.0), (323, 0.0), (332, 0.0), (333, 0.0), (334, 0.0), (335, 0.0), (337, 0.0), (341, 0.0), (347, 0.0), (352, 0.0), (354, 0.0), (360, 0.0), (375, 0.0), (376, 0.0), (380, 0.0), (382, 0.0), (411, 0.0), (420, 0.0), (423, 0.0), (424, 0.0), (425, 0.0), (426, 0.0), (435, 0.0), (438, 0.0), (439, 0.0), (451, 0.0), (460, 0.0), (477, 0.0), (484, 0.0), (491, 0.0), (492, 0.0), (501, 0.0), (511, 0.0), (512, 0.0), (513, 0.0), (514, 0.0), (516, 0.0), (517, 0.0), (523, 0.0), (530, 0.0), (539, 0.0), (540, 0.0), (548, 0.0), (549, 0.0), (552, 0.0), (553, 0.0), (554, 0.0), (555, 0.0), (556, 0.0), (557, 0.0), (559, 0.0), (560, 0.0), (561, 0.0), (567, 0.0), (570, 0.0), (592, 0.0), (595, 0.0), (599, 0.0), (600, 0.0), (601, 0.0), (602, 0.0), (603, 0.0), (610, 0.0), (613, 0.0), (615, 0.0), (619, 0.0), (621, 0.0), (625, 0.0), (633, 0.0), (634, 0.0), (639, 0.0), (640, 0.0), (650, 0.0), (656, 0.0), (666, 0.0), (668, 0.0), (674, 0.0), (677, 0.0), (681, 0.0), (682, 0.0), (685, 0.0), (686, 0.0), (692, 0.0), (695, 0.0), (699, 0.0), (700, 0.0), (704, 0.0), (713, 0.0), (714, 0.0), (723, 0.0), (724, 0.0), (725, 0.0), (738, 0.0), (746, 0.0), (747, 0.0), (753, 0.0), (762, 0.0), (763, 0.0), (765, 0.0), (775, 0.0), (779, 0.0), (789, 0.0), (801, 0.0), (802, 0.0), (803, 0.0), (809, 0.0), (810, 0.0), (811, 0.0), (812, 0.0), (827, 0.0), (833, 0.0), (855, 0.0), (877, 0.0), (881, 0.0), (882, 0.0), (891, 0.0), (893, 0.0), (906, 0.0), (915, 0.0), (918, 0.0), (919, 0.0), (932, 0.0), (950, 0.0), (954, 0.0), (960, 0.0), (974, 0.0), (976, 0.0), (979, 0.0), (997, 0.0), (1003, 0.0), (1011, 0.0), (1014, 0.0), (1016, 0.0), (1018, 0.0), (1031, 0.0), (1045, 0.0), (1046, 0.0), (1051, 0.0), (1054, 0.0), (1055, 0.0), (1056, 0.0), (1058, 0.0), (1063, 0.0), (1066, 0.0), (1067, 0.0), (1068, 0.0), (1081, 0.0), (1082, 0.0), (1086, 0.0), (1090, 0.0), (1092, 0.0), (1095, 0.0), (1097, 0.0), (1111, 0.0), (1116, 0.0), (1118, 0.0), (1120, 0.0), (1127, 0.0), (1128, 0.0), (1129, 0.0), (1137, 0.0), (1143, 0.0), (1146, 0.0), (1150, 0.0), (1154, 0.0), (1158, 0.0), (1162, 0.0), (1167, 0.0), (1171, 0.0), (1172, 0.0), (1181, 0.0), (1185, 0.0), (1189, 0.0), (1207, 0.0), (1210, 0.0), (1226, 0.0), (1228, 0.0), (1230, 0.0), (1233, 0.0), (1236, 0.0), (1239, 0.0), (1250, 0.0), (1253, 0.0), (1263, 0.0), (1269, 0.0), (1276, 0.0), (1279, 0.0), (1280, 0.0), (1281, 0.0), (1283, 0.0), (1285, 0.0), (1295, 0.0), (1307, 0.0), (1315, 0.0), (1328, 0.0), (1342, 0.0), (1343, 0.0), (1346, 0.0), (1347, 0.0), (1358, 0.0), (1374, 0.0), (1380, 0.0), (1381, 0.0), (1386, 0.0), (1391, 0.0), (1393, 0.0), (1395, 0.0), (1406, 0.0), (1407, 0.0), (1412, 0.0), (1419, 0.0), (1426, 0.0), (1428, 0.0), (1430, 0.0), (1431, 0.0), (1435, 0.0), (1436, 0.0), (1443, 0.0), (1449, 0.0), (1451, 0.0), (1455, 0.0), (1459, 0.0), (1460, 0.0), (1466, 0.0), (1467, 0.0), (1470, 0.0), (1493, 0.0), (1504, 0.0), (1511, 0.0), (1512, 0.0), (1522, 0.0), (1529, 0.0), (1530, 0.0), (1534, 0.0), (1535, 0.0), (1536, 0.0), (1540, 0.0), (1541, 0.0), (1546, 0.0), (1548, 0.0), (1551, 0.0), (1554, 0.0), (1559, 0.0), (1562, 0.0), (1566, 0.0), (1568, 0.0), (1573, 0.0), (1575, 0.0), (1576, 0.0), (1579, 0.0), (1584, 0.0), (1590, 0.0), (1600, 0.0), (1603, 0.0), (1607, 0.0), (1622, 0.0), (1623, 0.0), (1631, 0.0), (1632, 0.0), (1633, 0.0), (1635, 0.0), (1636, 0.0), (1647, 0.0), (1651, 0.0), (1659, 0.0), (1661, 0.0), (1662, 0.0), (1669, 0.0), (1681, 0.0), (1686, 0.0), (1692, 0.0), (1696, 0.0), (1699, 0.0), (1704, 0.0), (1713, 0.0), (1720, 0.0), (1723, 0.0), (1724, 0.0), (1745, 0.0), (1749, 0.0), (1753, 0.0), (1755, 0.0), (1761, 0.0), (1770, 0.0), (1772, 0.0), (1773, 0.0), (1789, 0.0), (1795, 0.0), (1799, 0.0), (1800, 0.0), (1809, 0.0), (1812, 0.0), (1815, 0.0), (1817, 0.0), (1820, 0.0), (1823, 0.0), (1825, 0.0), (1829, 0.0), (1832, 0.0), (1835, 0.0), (1838, 0.0), (1846, 0.0), (1852, 0.0), (1857, 0.0), (1863, 0.0), (1873, 0.0), (1894, 0.0), (1901, 0.0), (1904, 0.0), (1908, 0.0), (1910, 0.0), (1925, 0.0), (1927, 0.0), (1932, 0.0), (1937, 0.0), (1940, 0.0), (1948, 0.0), (1958, 0.0), (1966, 0.0), (1970, 0.0), (1972, 0.0), (1975, 0.0), (1976, 0.0), (1979, 0.0), (1988, 0.0), (1990, 0.0), (1991, 0.0), (1993, 0.0), (1996, 0.0), (1998, 0.0), (2013, 0.0), (2015, 0.0), (2017, 0.0), (2020, 0.0), (2022, 0.0), (2030, 0.0), (2038, 0.0), (2054, 0.0), (2057, 0.0), (2062, 0.0), (2066, 0.0), (2074, 0.0), (2078, 0.0), (2085, 0.0), (2094, 0.0), (2095, 0.0), (2114, 0.0), (2119, 0.0), (2130, 0.0), (2135, 0.0), (2139, 0.0), (2165, 0.0), (2172, 0.0), (2180, 0.0), (2182, 0.0), (2184, 0.0), (2197, 0.0), (2205, 0.0), (2206, 0.0), (2220, 0.0), (2231, 0.0), (2233, 0.0), (2235, 0.0), (2238, 0.0), (2239, 0.0), (2243, 0.0), (2246, 0.0), (2252, 0.0), (2259, 0.0), (2263, 0.0), (2267, 0.0), (2273, 0.0), (2275, 0.0), (2276, 0.0), (2278, 0.0), (2283, 0.0), (2291, 0.0), (2300, 0.0), (2314, 0.0), (2316, 0.0), (2328, 0.0), (2330, 0.0), (2337, 0.0), (2341, 0.0), (2342, 0.0), (2343, 0.0), (2358, 0.0), (2369, 0.0), (2372, 0.0), (2376, 0.0), (2383, 0.0), (2408, 0.0), (2413, 0.0), (2414, 0.0), (2429, 0.0), (2432, 0.0), (2451, 0.0), (2462, 0.0), (2470, 0.0), (2471, 0.0), (2476, 0.0), (2480, 0.0), (2485, 0.0), (2501, 0.0), (2503, 0.0), (2506, 0.0), (2513, 0.0), (2517, 0.0), (2521, 0.0), (2524, 0.0), (2532, 0.0), (2541, 0.0), (2544, 0.0), (2549, 0.0), (2562, 0.0), (2573, 0.0), (2574, 0.0), (2576, 0.0), (2577, 0.0), (2578, 0.0), (2583, 0.0), (2589, 0.0), (2596, 0.0), (2599, 0.0), (2618, 0.0), (2641, 0.0), (2654, 0.0), (2660, 0.0), (2680, 0.0), (2683, 0.0), (2686, 0.0), (2689, 0.0), (2700, 0.0), (2704, 0.0), (2708, 0.0), (2710, 0.0), (2711, 0.0), (2713, 0.0), (2717, 0.0), (2718, 0.0), (2733, 0.0), (2736, 0.0), (2742, 0.0), (2750, 0.0), (2751, 0.0), (2759, 0.0), (2773, 0.0), (2780, 0.0), (2785, 0.0), (2789, 0.0), (2791, 0.0), (2793, 0.0), (2801, 0.0), (2806, 0.0), (2815, 0.0), (2819, 0.0), (2824, 0.0), (2827, 0.0), (2828, 0.0), (2837, 0.0), (2839, 0.0), (2842, 0.0), (2847, 0.0), (2850, 0.0), (2851, 0.0), (2864, 0.0), (2865, 0.0), (2871, 0.0), (2885, 0.0), (2905, 0.0), (2918, 0.0), (2927, 0.0), (2929, 0.0), (2938, 0.0), (2944, 0.0), (2947, 0.0), (2952, 0.0), (2955, 0.0), (2956, 0.0), (2958, 0.0), (2960, 0.0), (2963, 0.0), (2967, 0.0), (3001, 0.0), (3002, 0.0), (3005, 0.0), (3006, 0.0), (3011, 0.0), (3023, 0.0), (3025, 0.0), (3045, 0.0), (3047, 0.0), (3048, 0.0), (3049, 0.0), (3053, 0.0), (3058, 0.0), (3059, 0.0), (3092, 0.0), (3099, 0.0), (3100, 0.0), (3103, 0.0), (3114, 0.0), (3117, 0.0), (3118, 0.0), (3121, 0.0), (3124, 0.0), (3126, 0.0), (3130, 0.0), (3131, 0.0), (3132, 0.0), (3133, 0.0), (3134, 0.0), (3135, 0.0), (3136, 0.0), (3138, 0.0), (3143, 0.0), (3144, 0.0), (3145, 0.0), (3156, 0.0), (3158, 0.0), (3160, 0.0), (3161, 0.0), (3163, 0.0), (3176, 0.0), (3180, 0.0), (3185, 0.0), (3191, 0.0), (3205, 0.0), (3208, 0.0), (3215, 0.0), (3223, 0.0), (3255, 0.0), (3261, 0.0), (3272, 0.0), (3280, 0.0), (3281, 0.0), (3294, 0.0), (3305, 0.0), (3312, 0.0), (3333, 0.0), (3334, 0.0), (3338, 0.0), (3339, 0.0), (3345, 0.0), (3361, 0.0), (3377, 0.0), (3387, 0.0), (3398, 0.0), (3401, 0.0), (3404, 0.0), (3405, 0.0), (3416, 0.0), (3426, 0.0), (3429, 0.0), (3432, 0.0), (3438, 0.0), (3446, 0.0), (3448, 0.0), (3453, 0.0), (3454, 0.0), (3456, 0.0), (3457, 0.0), (3459, 0.0), (3466, 0.0), (3467, 0.0), (3468, 0.0), (3470, 0.0), (3472, 0.0), (3473, 0.0), (3482, 0.0), (3486, 0.0), (3495, 0.0), (3505, 0.0), (3507, 0.0), (3520, 0.0), (3528, 0.0), (3530, 0.0), (3533, 0.0), (3535, 0.0), (3550, 0.0), (3555, 0.0), (3566, 0.0), (3567, 0.0), (3568, 0.0), (3573, 0.0), (3576, 0.0), (3578, 0.0), (3583, 0.0), (3586, 0.0), (3588, 0.0), (3594, 0.0), (3597, 0.0), (3600, 0.0), (3602, 0.0), (3604, 0.0), (3605, 0.0), (3607, 0.0), (3609, 0.0), (3625, 0.0), (3631, 0.0), (3659, 0.0), (3663, 0.0), (3664, 0.0), (3679, 0.0), (3682, 0.0), (3693, 0.0), (3697, 0.0), (3698, 0.0), (3700, 0.0), (3702, 0.0), (3703, 0.0), (3708, 0.0), (3709, 0.0), (3711, 0.0), (3713, 0.0), (3717, 0.0), (3720, 0.0), (3721, 0.0), (3723, 0.0), (3724, 0.0), (3726, 0.0), (3731, 0.0), (3741, 0.0), (3743, 0.0), (3744, 0.0), (3746, 0.0), (3747, 0.0), (3752, 0.0), (3760, 0.0), (3761, 0.0), (3769, 0.0), (3773, 0.0), (3774, 0.0), (3775, 0.0), (3785, 0.0), (3786, 0.0), (3787, 0.0), (3788, 0.0), (3793, 0.0), (3794, 0.0), (3798, 0.0), (3802, 0.0), (3806, 0.0), (3810, 0.0), (3814, 0.0), (3815, 0.0), (3817, 0.0), (3823, 0.0), (3825, 0.0), (3830, 0.0), (3831, 0.0), (3833, 0.0), (3838, 0.0), (3840, 0.0), (3843, 0.0), (3846, 0.0), (3847, 0.0), (3849, 0.0), (3850, 0.0), (3852, 0.0), (3853, 0.0), (3860, 0.0), (3869, 0.0), (3872, 0.0), (3881, 0.0), (3887, 0.0), (3897, 0.0), (3907, 0.0), (3908, 0.0), (3918, 0.0), (3929, 0.0), (3938, 0.0), (3940, 0.0), (3944, 0.0), (3946, 0.0), (3948, 0.0), (3958, 0.0), (3966, 0.0), (3968, 0.0), (3970, 0.0), (3972, 0.0), (3975, 0.0), (3976, 0.0), (3977, 0.0), (3979, 0.0), (3980, 0.0), (3981, 0.0), (3985, 0.0), (3989, 0.0), (3993, 0.0), (3994, 0.0), (3997, 0.0), (4009, 0.0), (4021, 0.0), (4022, 0.0), (4034, 0.0), (4039, 0.0), (4041, 0.0), (4043, 0.0), (4044, 0.0), (4050, 0.0), (4055, 0.0), (4063, 0.0), (4065, 0.0), (4067, 0.0), (4072, 0.0), (4077, 0.0), (4078, 0.0), (4090, 0.0), (4091, 0.0), (4096, 0.0), (4103, 0.0), (4106, 0.0), (4110, 0.0), (4119, 0.0), (4120, 0.0), (4122, 0.0), (4128, 0.0), (4134, 0.0), (4146, 0.0), (4148, 0.0), (4157, 0.0), (4159, 0.0), (4165, 0.0), (4167, 0.0), (4168, 0.0), (4170, 0.0), (4177, 0.0), (4179, 0.0), (4185, 0.0), (4193, 0.0), (4194, 0.0), (4196, 0.0), (4201, 0.0), (4208, 0.0), (4211, 0.0), (4212, 0.0), (4216, 0.0), (4219, 0.0), (4224, 0.0), (4227, 0.0), (4229, 0.0), (4235, 0.0), (4236, 0.0), (4238, 0.0), (4240, 0.0), (4248, 0.0), (4250, 0.0), (4251, 0.0), (4253, 0.0), (4261, 0.0), (4264, 0.0), (4265, 0.0), (4270, 0.0), (4271, 0.0), (4274, 0.0), (4275, 0.0), (4276, 0.0), (4278, 0.0), (4279, 0.0), (4281, 0.0), (4289, 0.0), (4292, 0.0), (4294, 0.0), (4302, 0.0), (4307, 0.0), (4310, 0.0), (4313, 0.0), (4316, 0.0), (4328, 0.0), (4331, 0.0), (4337, 0.0), (4339, 0.0), (4342, 0.0), (4352, 0.0), (4360, 0.0), (4364, 0.0), (4365, 0.0), (4366, 0.0), (4372, 0.0), (4373, 0.0), (4375, 0.0), (4376, 0.0), (4377, 0.0), (4378, 0.0), (4380, 0.0), (4384, 0.0), (4385, 0.0), (4389, 0.0), (4392, 0.0), (4393, 0.0), (4405, 0.0), (4410, 0.0), (4414, 0.0), (4415, 0.0), (4417, 0.0), (4424, 0.0), (4425, 0.0), (4436, 0.0), (4438, 0.0), (4441, 0.0), (4449, 0.0), (4450, 0.0), (4455, 0.0), (4456, 0.0), (4459, 0.0), (4462, 0.0), (4466, 0.0), (4467, 0.0), (4478, 0.0), (4481, 0.0), (4482, 0.0), (4485, 0.0), (4488, 0.0), (4499, 0.0), (4500, 0.0), (4508, 0.0), (4509, 0.0), (4510, 0.0), (4513, 0.0), (4518, 0.0), (4524, 0.0), (4525, 0.0), (4526, 0.0), (4527, 0.0), (4532, 0.0), (4534, 0.0), (4538, 0.0), (4539, 0.0), (4543, 0.0), (4547, 0.0), (4548, 0.0), (4549, 0.0), (4553, 0.0), (4559, 0.0), (4561, 0.0), (4565, 0.0), (4568, 0.0), (4569, 0.0), (4578, 0.0), (4581, 0.0), (4582, 0.0), (4583, 0.0), (4585, 0.0), (4588, 0.0), (4595, 0.0), (4597, 0.0), (4615, 0.0), (4618, 0.0), (4621, 0.0), (4623, 0.0), (4630, 0.0), (4639, 0.0), (4644, 0.0), (4645, 0.0), (4646, 0.0), (4653, 0.0), (4654, 0.0), (4656, 0.0), (4659, 0.0), (4662, 0.0), (4663, 0.0), (4665, 0.0), (4666, 0.0), (4671, 0.0), (4672, 0.0), (4678, 0.0), (4681, 0.0), (4683, 0.0), (4684, 0.0), (4689, 0.0), (4691, 0.0), (4695, 0.0), (4698, 0.0), (4707, 0.0), (4708, 0.0), (4714, 0.0), (4726, 0.0), (4727, 0.0), (4730, 0.0), (4736, 0.0), (4740, 0.0), (4741, 0.0), (4742, 0.0), (4745, 0.0), (4750, 0.0), (4751, 0.0), (4754, 0.0), (4758, 0.0), (4759, 0.0)]\n"
          ]
        }
      ]
    },
    {
      "cell_type": "code",
      "source": [
        "#Print the name of similar movies based on the index\n",
        "print('Top 30 Movies Suggested for you : \\n')\n",
        "\n",
        "i = 1\n",
        "\n",
        "for movie in Sorted_similar_movies:\n",
        "  index = movie[0]\n",
        "  title_from_index = df[df.index==index]['Movie_Title'].values[0]\n",
        "  if (i<31):\n",
        "    print(i,'.',title_from_index)\n",
        "    i+=1\n"
      ],
      "metadata": {
        "colab": {
          "base_uri": "https://localhost:8080/"
        },
        "id": "7qs9j0uYbO5w",
        "outputId": "dd8591a9-6aaf-47e8-e76b-1cedb94e2286"
      },
      "execution_count": 182,
      "outputs": [
        {
          "output_type": "stream",
          "name": "stdout",
          "text": [
            "Top 30 Movies Suggested for you : \n",
            "\n",
            "1 . The Lucky Ones\n",
            "2 . Fury\n",
            "3 . Harold & Kumar Go to White Castle\n",
            "4 . The Guilt Trip\n",
            "5 . Wild Hogs\n",
            "6 . Gods and Generals\n",
            "7 . Pieces of April\n",
            "8 . Mean Girls\n",
            "9 . The Messenger\n",
            "10 . Navy Seals vs. Zombies\n",
            "11 . Newlyweds\n",
            "12 . Lions for Lambs\n",
            "13 . Aberdeen\n",
            "14 . The Martian\n",
            "15 . Observe and Report\n",
            "16 . The Maid's Room\n",
            "17 . The Illusionist\n",
            "18 . A Bridge Too Far\n",
            "19 . World Trade Center\n",
            "20 . Turbo\n",
            "21 . Midnight in Paris\n",
            "22 . The Signal\n",
            "23 . Spotlight\n",
            "24 . Wendy and Lucy\n",
            "25 . Glory\n",
            "26 . Interview with the Assassin\n",
            "27 . Dumb and Dumber To\n",
            "28 . The Weather Man\n",
            "29 . The Family Stone\n",
            "30 . The Vow\n"
          ]
        }
      ]
    },
    {
      "cell_type": "markdown",
      "source": [
        "##**Top 10 Movies Recommendation System**"
      ],
      "metadata": {
        "id": "FwmBPkjXlyFN"
      }
    },
    {
      "cell_type": "code",
      "source": [
        "Movies_name = input(' Enter your favourite movie name : ')\n",
        "list_of_all_titles = df['Movie_Title'].tolist()\n",
        "Find_close_match = difflib.get_close_matches(Movies_name,list_of_all_titles)\n",
        "Close_Match = Find_close_match[0]\n",
        "Index_of_Movies = df[df.Movie_Title == Close_Match]['Movie_ID'].values[0]\n",
        "Recommendation_score = list(enumerate(similarity_score[Index_of_Movies]))\n",
        "Sorted_similar_movies = sorted(Recommendation_score,key=lambda x:x[1], reverse =True)\n",
        "print('Top 10 Movies suggested for you : \\n')\n",
        "i = 1\n",
        "for movie in Sorted_similar_movies:\n",
        "  index= movie[0]\n",
        "  title_from_index = df[df.Movie_ID==index]['Movie_Title'].values\n",
        "  if(i<11):\n",
        "    print(i,'.',title_from_index)\n",
        "    i+=1"
      ],
      "metadata": {
        "colab": {
          "base_uri": "https://localhost:8080/"
        },
        "id": "vKFMzYq_c8So",
        "outputId": "2cce9c5a-b76c-4bc5-993b-68450da291c4"
      },
      "execution_count": 171,
      "outputs": [
        {
          "output_type": "stream",
          "name": "stdout",
          "text": [
            " Enter your favourite movie name : good\n",
            "Top 10 Movies suggested for you : \n",
            "\n",
            "1 . ['Good']\n",
            "2 . ['Desert Blue']\n",
            "3 . ['The Girl Next Door']\n",
            "4 . ['Black Hawk Down']\n",
            "5 . ['The Immigrant']\n",
            "6 . ['The Dress']\n",
            "7 . ['Dreaming of Joseph Lees']\n",
            "8 . ['Endless Love']\n",
            "9 . ['Into the Woods']\n",
            "10 . ['Selena']\n"
          ]
        }
      ]
    },
    {
      "cell_type": "code",
      "source": [],
      "metadata": {
        "id": "Qq9OYL0LpLiE"
      },
      "execution_count": 171,
      "outputs": []
    }
  ]
}